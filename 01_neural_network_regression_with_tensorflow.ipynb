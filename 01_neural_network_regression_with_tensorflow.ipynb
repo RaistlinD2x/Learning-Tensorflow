{
 "cells": [
  {
   "cell_type": "markdown",
   "id": "b88cb7dc",
   "metadata": {},
   "source": [
    "**NOTE:** First, be sure to check my 00... notebook for a note about GPU utilization on my personal system.\n",
    "    \n",
    "**SOURCE:** I'm building this notebook based on a Udemy course, I'll link to the Github and Udemy course below this line.\n",
    "    \n",
    "**Udemy:** https://www.udemy.com/course/tensorflow-developer-certificate-machine-learning-zero-to-mastery/\n",
    "    \n",
    "**Github:** https://github.com/mrdbourke/tensorflow-deep-learning"
   ]
  },
  {
   "cell_type": "markdown",
   "id": "31ce7e38",
   "metadata": {},
   "source": [
    "# Introduction to regression with Neural Networkds in TensorFlow\n",
    "\n",
    "Predicting a numerical variable based on a collection of feature variables."
   ]
  },
  {
   "cell_type": "code",
   "execution_count": 3,
   "id": "fc53057c",
   "metadata": {},
   "outputs": [],
   "source": [
    "# Tensorflow logging info that is non-critical is annoying\n",
    "# using this to reduce clutter\n",
    "import os \n",
    "os.environ['TF_CPP_MIN_LOG_LEVEL'] = '1'"
   ]
  },
  {
   "cell_type": "code",
   "execution_count": 4,
   "id": "99e3afa7",
   "metadata": {},
   "outputs": [
    {
     "name": "stdout",
     "output_type": "stream",
     "text": [
      "Num GPUs Available:  1\n",
      "1 Physical GPUs, 1 Logical GPU\n"
     ]
    },
    {
     "name": "stderr",
     "output_type": "stream",
     "text": [
      "2023-01-02 09:26:24.536514: W tensorflow/core/common_runtime/pluggable_device/pluggable_device_bfc_allocator.cc:28] Overriding allow_growth setting because force_memory_growth was requested by the device.\n"
     ]
    }
   ],
   "source": [
    "# Import TensorFlow\n",
    "import tensorflow as tf\n",
    "tf.__version__\n",
    "print(\"Num GPUs Available: \", len(tf.config.list_physical_devices('GPU')))\n",
    "# tf.debugging.set_log_device_placement(True)\n",
    "\n",
    "gpus = tf.config.list_physical_devices('GPU')\n",
    "if gpus:\n",
    "  # Restrict TensorFlow to only use the first GPU\n",
    "  try:\n",
    "    tf.config.set_visible_devices(gpus[0], 'GPU')\n",
    "    logical_gpus = tf.config.list_logical_devices('GPU')\n",
    "    print(len(gpus), \"Physical GPUs,\", len(logical_gpus), \"Logical GPU\")\n",
    "  except RuntimeError as e:\n",
    "    # Visible devices must be set before GPUs have been initialized\n",
    "    print(e)"
   ]
  },
  {
   "cell_type": "markdown",
   "id": "0996c730",
   "metadata": {},
   "source": [
    "## Create data to view and fit"
   ]
  },
  {
   "cell_type": "code",
   "execution_count": 5,
   "id": "8d5f1ff2",
   "metadata": {},
   "outputs": [
    {
     "data": {
      "image/png": "[encoded data removed]",
      "text/plain": [
       "<Figure size 640x480 with 1 Axes>"
      ]
     },
     "metadata": {},
     "output_type": "display_data"
    }
   ],
   "source": [
    "import numpy as np\n",
    "import matplotlib.pyplot as plt\n",
    "\n",
    "# Set random seed\n",
    "tf.random.set_seed(42)\n",
    "\n",
    "# create features\n",
    "X = np.array([-7.0, -4.0, -1.0, 2.0, 5.0, 8.0, 11.0, 14.0])\n",
    "\n",
    "# create labels\n",
    "y = np.array([3.0, 6.0, 9.0, 12.0, 15.0, 18.0, 21.0, 24.0])\n",
    "\n",
    "# visualize it\n",
    "plt.scatter(X, y);"
   ]
  },
  {
   "cell_type": "markdown",
   "id": "7504c091",
   "metadata": {},
   "source": [
    "## Input and Output shapes"
   ]
  },
  {
   "cell_type": "code",
   "execution_count": 6,
   "id": "1db41f78",
   "metadata": {},
   "outputs": [
    {
     "data": {
      "text/plain": [
       "(<tf.Tensor: shape=(3,), dtype=string, numpy=array([b'bedroom', b'bathroom', b'garage'], dtype=object)>,\n",
       " <tf.Tensor: shape=(1,), dtype=int32, numpy=array([939700], dtype=int32)>)"
      ]
     },
     "execution_count": 6,
     "metadata": {},
     "output_type": "execute_result"
    }
   ],
   "source": [
    "# create a demo tensor for housing price prediction problem\n",
    "house_info = tf.constant([\"bedroom\", \"bathroom\", \"garage\"])\n",
    "house_price = tf.constant([939700])\n",
    "\n",
    "house_info, house_price"
   ]
  },
  {
   "cell_type": "code",
   "execution_count": 7,
   "id": "fe9e54d2",
   "metadata": {},
   "outputs": [
    {
     "data": {
      "text/plain": [
       "((8,), (8,))"
      ]
     },
     "execution_count": 7,
     "metadata": {},
     "output_type": "execute_result"
    }
   ],
   "source": [
    "input_shape = X.shape\n",
    "output_shape = y.shape\n",
    "input_shape, output_shape"
   ]
  },
  {
   "cell_type": "code",
   "execution_count": 8,
   "id": "2f64f1f1",
   "metadata": {},
   "outputs": [
    {
     "data": {
      "text/plain": [
       "(-7.0, 3.0)"
      ]
     },
     "execution_count": 8,
     "metadata": {},
     "output_type": "execute_result"
    }
   ],
   "source": [
    "X[0], y[0]"
   ]
  },
  {
   "cell_type": "code",
   "execution_count": 9,
   "id": "cc7dae21",
   "metadata": {},
   "outputs": [
    {
     "data": {
      "text/plain": [
       "(<tf.Tensor: shape=(8,), dtype=float64, numpy=array([-7., -4., -1.,  2.,  5.,  8., 11., 14.])>,\n",
       " <tf.Tensor: shape=(8,), dtype=float64, numpy=array([ 3.,  6.,  9., 12., 15., 18., 21., 24.])>)"
      ]
     },
     "execution_count": 9,
     "metadata": {},
     "output_type": "execute_result"
    }
   ],
   "source": [
    "# Turn our numpy arrays into tensors\n",
    "X = tf.constant(X)\n",
    "y = tf.constant(y)\n",
    "X, y"
   ]
  },
  {
   "cell_type": "code",
   "execution_count": 10,
   "id": "4d35ef77",
   "metadata": {},
   "outputs": [
    {
     "data": {
      "text/plain": [
       "(TensorShape([]), TensorShape([]))"
      ]
     },
     "execution_count": 10,
     "metadata": {},
     "output_type": "execute_result"
    }
   ],
   "source": [
    "# these are scalars, zero dimensions\n",
    "input_shape = X[0].shape\n",
    "output_shape = y[0].shape\n",
    "input_shape, output_shape"
   ]
  },
  {
   "cell_type": "code",
   "execution_count": 11,
   "id": "b8e249c5",
   "metadata": {},
   "outputs": [
    {
     "data": {
      "text/plain": [
       "<matplotlib.collections.PathCollection at 0x7f7684517850>"
      ]
     },
     "execution_count": 11,
     "metadata": {},
     "output_type": "execute_result"
    },
    {
     "data": {
      "image/png": "[encoded data removed]",
      "text/plain": [
       "<Figure size 640x480 with 1 Axes>"
      ]
     },
     "metadata": {},
     "output_type": "display_data"
    }
   ],
   "source": [
    "plt.scatter(X, y)"
   ]
  },
  {
   "cell_type": "markdown",
   "id": "beed41ad",
   "metadata": {},
   "source": [
    "## Steps in modeling with TensorFlow\n",
    "\n",
    "1. **Creating a model** - define the input and output layers, as a well as the hidden layers of a deep learning model.\n",
    "2. **Compiling a model** - define the loss function (how wrong is it?), optimizer (how to improve?), and evaluation metrics (how good have we done?)\n",
    "3. **Fitting a model** - letting the model try to find patterns between X and y  or features and labels."
   ]
  },
  {
   "cell_type": "code",
   "execution_count": 12,
   "id": "5f07189b",
   "metadata": {},
   "outputs": [
    {
     "name": "stdout",
     "output_type": "stream",
     "text": [
      "Before:  (8,) 1\n",
      "After:  (8, 1) 2\n"
     ]
    }
   ],
   "source": [
    "# UPDATE WITH TensorFlow 2.7 and above\n",
    "# scalars don't get fixed automatically, in this case we're converting from a scalar to a matrix with expansion\n",
    "# -1 in this case means add it to the end of the array, -1 being the last index of any length array\n",
    "print(\"Before: \", X.shape, X.ndim)\n",
    "if tf.rank(X).numpy() == 1:\n",
    "    X = tf.expand_dims(X, axis=-1 )\n",
    "    \n",
    "print(\"After: \", X.shape, X.ndim)"
   ]
  },
  {
   "cell_type": "code",
   "execution_count": 13,
   "id": "198a4649",
   "metadata": {},
   "outputs": [
    {
     "name": "stdout",
     "output_type": "stream",
     "text": [
      "Epoch 1/5\n",
      "1/1 [==============================] - 1s 1s/step - loss: 9.0966 - mae: 9.0966\n",
      "Epoch 2/5\n",
      "1/1 [==============================] - 0s 6ms/step - loss: 8.9641 - mae: 8.9641\n",
      "Epoch 3/5\n",
      "1/1 [==============================] - 0s 6ms/step - loss: 8.8316 - mae: 8.8316\n",
      "Epoch 4/5\n",
      "1/1 [==============================] - 0s 6ms/step - loss: 8.6991 - mae: 8.6991\n",
      "Epoch 5/5\n",
      "1/1 [==============================] - 0s 8ms/step - loss: 8.5666 - mae: 8.5666\n"
     ]
    },
    {
     "data": {
      "text/plain": [
       "<keras.callbacks.History at 0x7f766856a6e0>"
      ]
     },
     "execution_count": 13,
     "metadata": {},
     "output_type": "execute_result"
    }
   ],
   "source": [
    "# 1. Create model using the Sequential API\n",
    "model = tf.keras.Sequential([\n",
    "    tf.keras.layers.Dense(1)\n",
    "])\n",
    "\n",
    "# 2. Compile the model\n",
    "model.compile(loss=tf.keras.losses.mae, # mean absolute error, mean(abs(label - pred), axis=1)\n",
    "             optimizer=tf.keras.optimizers.SGD(),\n",
    "             metrics=[\"mae\"]) # stochastic gradient descent\n",
    "\n",
    "# 3. Fit the model\n",
    "model.fit(X, y, epochs=5)"
   ]
  },
  {
   "cell_type": "code",
   "execution_count": 14,
   "id": "9a923348",
   "metadata": {},
   "outputs": [
    {
     "data": {
      "text/plain": [
       "(<tf.Tensor: shape=(8, 1), dtype=float64, numpy=\n",
       " array([[-7.],\n",
       "        [-4.],\n",
       "        [-1.],\n",
       "        [ 2.],\n",
       "        [ 5.],\n",
       "        [ 8.],\n",
       "        [11.],\n",
       "        [14.]])>,\n",
       " <tf.Tensor: shape=(8,), dtype=float64, numpy=array([ 3.,  6.,  9., 12., 15., 18., 21., 24.])>)"
      ]
     },
     "execution_count": 14,
     "metadata": {},
     "output_type": "execute_result"
    }
   ],
   "source": [
    "# check X and y\n",
    "X, y"
   ]
  },
  {
   "cell_type": "code",
   "execution_count": 15,
   "id": "88644ac0",
   "metadata": {},
   "outputs": [
    {
     "name": "stdout",
     "output_type": "stream",
     "text": [
      "1/1 [==============================] - 0s 54ms/step\n"
     ]
    }
   ],
   "source": [
    "# make a prediction\n",
    "y_pred = model.predict([17.0])"
   ]
  },
  {
   "cell_type": "code",
   "execution_count": 16,
   "id": "a7e97e8c",
   "metadata": {},
   "outputs": [
    {
     "data": {
      "text/plain": [
       "array([[35.412964]], dtype=float32)"
      ]
     },
     "execution_count": 16,
     "metadata": {},
     "output_type": "execute_result"
    }
   ],
   "source": [
    "y_pred + 11"
   ]
  },
  {
   "cell_type": "markdown",
   "id": "bad0df02",
   "metadata": {},
   "source": [
    "## Improve our model\n",
    "\n",
    "We can improve our model by altering the steps we took to create it\n",
    "\n",
    "1. **Creating a model** - here we might add layers, neurons, change the activation function of each layer\n",
    "2. **Compiling a model** - here we might change the optimization function or learning rate\n",
    "3. **Fitting the model** - increate epochs or increase amount of data"
   ]
  },
  {
   "cell_type": "code",
   "execution_count": 17,
   "id": "96104e58",
   "metadata": {},
   "outputs": [
    {
     "name": "stdout",
     "output_type": "stream",
     "text": [
      "Epoch 1/100\n",
      "1/1 [==============================] - 0s 151ms/step - loss: 14.5413 - mae: 14.5413\n",
      "Epoch 2/100\n",
      "1/1 [==============================] - 0s 6ms/step - loss: 14.4088 - mae: 14.4088\n",
      "Epoch 3/100\n",
      "1/1 [==============================] - 0s 6ms/step - loss: 14.2763 - mae: 14.2763\n",
      "Epoch 4/100\n",
      "1/1 [==============================] - 0s 8ms/step - loss: 14.1438 - mae: 14.1438\n",
      "Epoch 5/100\n",
      "1/1 [==============================] - 0s 7ms/step - loss: 14.0113 - mae: 14.0113\n",
      "Epoch 6/100\n",
      "1/1 [==============================] - 0s 6ms/step - loss: 13.8788 - mae: 13.8788\n",
      "Epoch 7/100\n",
      "1/1 [==============================] - 0s 7ms/step - loss: 13.7463 - mae: 13.7463\n",
      "Epoch 8/100\n",
      "1/1 [==============================] - 0s 6ms/step - loss: 13.6138 - mae: 13.6138\n",
      "Epoch 9/100\n",
      "1/1 [==============================] - 0s 6ms/step - loss: 13.4813 - mae: 13.4813\n",
      "Epoch 10/100\n",
      "1/1 [==============================] - 0s 6ms/step - loss: 13.3488 - mae: 13.3488\n",
      "Epoch 11/100\n",
      "1/1 [==============================] - 0s 6ms/step - loss: 13.2163 - mae: 13.2163\n",
      "Epoch 12/100\n",
      "1/1 [==============================] - 0s 7ms/step - loss: 13.0838 - mae: 13.0838\n",
      "Epoch 13/100\n",
      "1/1 [==============================] - 0s 6ms/step - loss: 12.9513 - mae: 12.9513\n",
      "Epoch 14/100\n",
      "1/1 [==============================] - 0s 6ms/step - loss: 12.8188 - mae: 12.8188\n",
      "Epoch 15/100\n",
      "1/1 [==============================] - 0s 6ms/step - loss: 12.6863 - mae: 12.6863\n",
      "Epoch 16/100\n",
      "1/1 [==============================] - 0s 8ms/step - loss: 12.5538 - mae: 12.5538\n",
      "Epoch 17/100\n",
      "1/1 [==============================] - 0s 7ms/step - loss: 12.4213 - mae: 12.4213\n",
      "Epoch 18/100\n",
      "1/1 [==============================] - 0s 9ms/step - loss: 12.2888 - mae: 12.2888\n",
      "Epoch 19/100\n",
      "1/1 [==============================] - 0s 7ms/step - loss: 12.1563 - mae: 12.1563\n",
      "Epoch 20/100\n",
      "1/1 [==============================] - 0s 6ms/step - loss: 12.0238 - mae: 12.0238\n",
      "Epoch 21/100\n",
      "1/1 [==============================] - 0s 8ms/step - loss: 11.8913 - mae: 11.8913\n",
      "Epoch 22/100\n",
      "1/1 [==============================] - 0s 9ms/step - loss: 11.7588 - mae: 11.7588\n",
      "Epoch 23/100\n",
      "1/1 [==============================] - 0s 7ms/step - loss: 11.6263 - mae: 11.6263\n",
      "Epoch 24/100\n",
      "1/1 [==============================] - 0s 7ms/step - loss: 11.4938 - mae: 11.4938\n",
      "Epoch 25/100\n",
      "1/1 [==============================] - 0s 8ms/step - loss: 11.3613 - mae: 11.3613\n",
      "Epoch 26/100\n",
      "1/1 [==============================] - 0s 7ms/step - loss: 11.2288 - mae: 11.2288\n",
      "Epoch 27/100\n",
      "1/1 [==============================] - 0s 6ms/step - loss: 11.0963 - mae: 11.0963\n",
      "Epoch 28/100\n",
      "1/1 [==============================] - 0s 9ms/step - loss: 10.9638 - mae: 10.9638\n",
      "Epoch 29/100\n",
      "1/1 [==============================] - 0s 8ms/step - loss: 10.8313 - mae: 10.8313\n",
      "Epoch 30/100\n",
      "1/1 [==============================] - 0s 6ms/step - loss: 10.6988 - mae: 10.6988\n",
      "Epoch 31/100\n",
      "1/1 [==============================] - 0s 8ms/step - loss: 10.5663 - mae: 10.5663\n",
      "Epoch 32/100\n",
      "1/1 [==============================] - 0s 8ms/step - loss: 10.4338 - mae: 10.4338\n",
      "Epoch 33/100\n",
      "1/1 [==============================] - 0s 6ms/step - loss: 10.3013 - mae: 10.3013\n",
      "Epoch 34/100\n",
      "1/1 [==============================] - 0s 7ms/step - loss: 10.1688 - mae: 10.1688\n",
      "Epoch 35/100\n",
      "1/1 [==============================] - 0s 8ms/step - loss: 10.0363 - mae: 10.0363\n",
      "Epoch 36/100\n",
      "1/1 [==============================] - 0s 7ms/step - loss: 9.9038 - mae: 9.9038\n",
      "Epoch 37/100\n",
      "1/1 [==============================] - 0s 7ms/step - loss: 9.7713 - mae: 9.7713\n",
      "Epoch 38/100\n",
      "1/1 [==============================] - 0s 8ms/step - loss: 9.6388 - mae: 9.6388\n",
      "Epoch 39/100\n",
      "1/1 [==============================] - 0s 7ms/step - loss: 9.5063 - mae: 9.5063\n",
      "Epoch 40/100\n",
      "1/1 [==============================] - 0s 7ms/step - loss: 9.3738 - mae: 9.3738\n",
      "Epoch 41/100\n",
      "1/1 [==============================] - 0s 8ms/step - loss: 9.2413 - mae: 9.2413\n",
      "Epoch 42/100\n",
      "1/1 [==============================] - 0s 9ms/step - loss: 9.1088 - mae: 9.1088\n",
      "Epoch 43/100\n",
      "1/1 [==============================] - 0s 7ms/step - loss: 8.9763 - mae: 8.9763\n",
      "Epoch 44/100\n",
      "1/1 [==============================] - 0s 7ms/step - loss: 8.8438 - mae: 8.8438\n",
      "Epoch 45/100\n",
      "1/1 [==============================] - 0s 8ms/step - loss: 8.7113 - mae: 8.7113\n",
      "Epoch 46/100\n",
      "1/1 [==============================] - 0s 9ms/step - loss: 8.5788 - mae: 8.5788\n",
      "Epoch 47/100\n",
      "1/1 [==============================] - 0s 7ms/step - loss: 8.4463 - mae: 8.4463\n",
      "Epoch 48/100\n",
      "1/1 [==============================] - 0s 7ms/step - loss: 8.3138 - mae: 8.3138\n",
      "Epoch 49/100\n",
      "1/1 [==============================] - 0s 8ms/step - loss: 8.1813 - mae: 8.1813\n",
      "Epoch 50/100\n",
      "1/1 [==============================] - 0s 9ms/step - loss: 8.0488 - mae: 8.0488\n",
      "Epoch 51/100\n",
      "1/1 [==============================] - 0s 8ms/step - loss: 7.9163 - mae: 7.9163\n",
      "Epoch 52/100\n",
      "1/1 [==============================] - 0s 7ms/step - loss: 7.7838 - mae: 7.7838\n",
      "Epoch 53/100\n",
      "1/1 [==============================] - 0s 8ms/step - loss: 7.6513 - mae: 7.6513\n",
      "Epoch 54/100\n",
      "1/1 [==============================] - 0s 8ms/step - loss: 7.5188 - mae: 7.5188\n",
      "Epoch 55/100\n",
      "1/1 [==============================] - 0s 7ms/step - loss: 7.3863 - mae: 7.3863\n",
      "Epoch 56/100\n",
      "1/1 [==============================] - 0s 8ms/step - loss: 7.2538 - mae: 7.2538\n",
      "Epoch 57/100\n",
      "1/1 [==============================] - 0s 9ms/step - loss: 7.1213 - mae: 7.1213\n",
      "Epoch 58/100\n",
      "1/1 [==============================] - 0s 6ms/step - loss: 7.0725 - mae: 7.0725\n",
      "Epoch 59/100\n",
      "1/1 [==============================] - 0s 7ms/step - loss: 7.0669 - mae: 7.0669\n",
      "Epoch 60/100\n",
      "1/1 [==============================] - 0s 7ms/step - loss: 7.0612 - mae: 7.0612\n",
      "Epoch 61/100\n",
      "1/1 [==============================] - 0s 7ms/step - loss: 7.0556 - mae: 7.0556\n",
      "Epoch 62/100\n",
      "1/1 [==============================] - 0s 7ms/step - loss: 7.0500 - mae: 7.0500\n",
      "Epoch 63/100\n",
      "1/1 [==============================] - 0s 8ms/step - loss: 7.0444 - mae: 7.0444\n",
      "Epoch 64/100\n",
      "1/1 [==============================] - 0s 6ms/step - loss: 7.0387 - mae: 7.0387\n",
      "Epoch 65/100\n",
      "1/1 [==============================] - 0s 7ms/step - loss: 7.0331 - mae: 7.0331\n",
      "Epoch 66/100\n",
      "1/1 [==============================] - 0s 8ms/step - loss: 7.0275 - mae: 7.0275\n",
      "Epoch 67/100\n",
      "1/1 [==============================] - 0s 6ms/step - loss: 7.0219 - mae: 7.0219\n",
      "Epoch 68/100\n",
      "1/1 [==============================] - 0s 7ms/step - loss: 7.0163 - mae: 7.0163\n",
      "Epoch 69/100\n",
      "1/1 [==============================] - 0s 8ms/step - loss: 7.0106 - mae: 7.0106\n",
      "Epoch 70/100\n",
      "1/1 [==============================] - 0s 7ms/step - loss: 7.0050 - mae: 7.0050\n",
      "Epoch 71/100\n",
      "1/1 [==============================] - 0s 7ms/step - loss: 6.9994 - mae: 6.9994\n",
      "Epoch 72/100\n",
      "1/1 [==============================] - 0s 7ms/step - loss: 6.9938 - mae: 6.9938\n",
      "Epoch 73/100\n",
      "1/1 [==============================] - 0s 6ms/step - loss: 6.9881 - mae: 6.9881\n",
      "Epoch 74/100\n",
      "1/1 [==============================] - 0s 7ms/step - loss: 6.9825 - mae: 6.9825\n",
      "Epoch 75/100\n",
      "1/1 [==============================] - 0s 8ms/step - loss: 6.9769 - mae: 6.9769\n",
      "Epoch 76/100\n",
      "1/1 [==============================] - 0s 6ms/step - loss: 6.9712 - mae: 6.9712\n",
      "Epoch 77/100\n",
      "1/1 [==============================] - 0s 7ms/step - loss: 6.9656 - mae: 6.9656\n",
      "Epoch 78/100\n",
      "1/1 [==============================] - 0s 7ms/step - loss: 6.9600 - mae: 6.9600\n",
      "Epoch 79/100\n",
      "1/1 [==============================] - 0s 6ms/step - loss: 6.9544 - mae: 6.9544\n",
      "Epoch 80/100\n",
      "1/1 [==============================] - 0s 7ms/step - loss: 6.9488 - mae: 6.9488\n",
      "Epoch 81/100\n",
      "1/1 [==============================] - 0s 8ms/step - loss: 6.9431 - mae: 6.9431\n",
      "Epoch 82/100\n",
      "1/1 [==============================] - 0s 6ms/step - loss: 6.9375 - mae: 6.9375\n",
      "Epoch 83/100\n",
      "1/1 [==============================] - 0s 8ms/step - loss: 6.9319 - mae: 6.9319\n",
      "Epoch 84/100\n",
      "1/1 [==============================] - 0s 7ms/step - loss: 6.9263 - mae: 6.9263\n",
      "Epoch 85/100\n",
      "1/1 [==============================] - 0s 6ms/step - loss: 6.9206 - mae: 6.9206\n",
      "Epoch 86/100\n",
      "1/1 [==============================] - 0s 6ms/step - loss: 6.9150 - mae: 6.9150\n",
      "Epoch 87/100\n",
      "1/1 [==============================] - 0s 8ms/step - loss: 6.9094 - mae: 6.9094\n",
      "Epoch 88/100\n"
     ]
    },
    {
     "name": "stdout",
     "output_type": "stream",
     "text": [
      "1/1 [==============================] - 0s 6ms/step - loss: 6.9038 - mae: 6.9038\n",
      "Epoch 89/100\n",
      "1/1 [==============================] - 0s 7ms/step - loss: 6.8981 - mae: 6.8981\n",
      "Epoch 90/100\n",
      "1/1 [==============================] - 0s 7ms/step - loss: 6.8925 - mae: 6.8925\n",
      "Epoch 91/100\n",
      "1/1 [==============================] - 0s 6ms/step - loss: 6.8869 - mae: 6.8869\n",
      "Epoch 92/100\n",
      "1/1 [==============================] - 0s 7ms/step - loss: 6.8813 - mae: 6.8813\n",
      "Epoch 93/100\n",
      "1/1 [==============================] - 0s 8ms/step - loss: 6.8756 - mae: 6.8756\n",
      "Epoch 94/100\n",
      "1/1 [==============================] - 0s 6ms/step - loss: 6.8700 - mae: 6.8700\n",
      "Epoch 95/100\n",
      "1/1 [==============================] - 0s 7ms/step - loss: 6.8644 - mae: 6.8644\n",
      "Epoch 96/100\n",
      "1/1 [==============================] - 0s 8ms/step - loss: 6.8588 - mae: 6.8588\n",
      "Epoch 97/100\n",
      "1/1 [==============================] - 0s 6ms/step - loss: 6.8531 - mae: 6.8531\n",
      "Epoch 98/100\n",
      "1/1 [==============================] - 0s 8ms/step - loss: 6.8475 - mae: 6.8475\n",
      "Epoch 99/100\n",
      "1/1 [==============================] - 0s 8ms/step - loss: 6.8419 - mae: 6.8419\n",
      "Epoch 100/100\n",
      "1/1 [==============================] - 0s 6ms/step - loss: 6.8363 - mae: 6.8363\n"
     ]
    },
    {
     "data": {
      "text/plain": [
       "<keras.callbacks.History at 0x7f766839f520>"
      ]
     },
     "execution_count": 17,
     "metadata": {},
     "output_type": "execute_result"
    }
   ],
   "source": [
    "# rebuild model\n",
    "\n",
    "# 1. Create the model\n",
    "model = tf.keras.Sequential([\n",
    "    tf.keras.layers.Dense(1)\n",
    "])\n",
    "\n",
    "# 2. Compile the model\n",
    "model.compile(loss=tf.keras.losses.mae,\n",
    "             optimizer=tf.keras.optimizers.SGD(),\n",
    "             metrics=[\"mae\"])\n",
    "\n",
    "# 3. Fit the model (increase epochs here)\n",
    "model.fit(X, y, epochs=100)"
   ]
  },
  {
   "cell_type": "code",
   "execution_count": 18,
   "id": "078321cf",
   "metadata": {},
   "outputs": [
    {
     "name": "stdout",
     "output_type": "stream",
     "text": [
      "1/1 [==============================] - 0s 41ms/step\n"
     ]
    },
    {
     "data": {
      "text/plain": [
       "array([[29.74974]], dtype=float32)"
      ]
     },
     "execution_count": 18,
     "metadata": {},
     "output_type": "execute_result"
    }
   ],
   "source": [
    "# check if prediction has improved\n",
    "model.predict([17.0])"
   ]
  },
  {
   "cell_type": "code",
   "execution_count": 19,
   "id": "9b218127",
   "metadata": {},
   "outputs": [
    {
     "name": "stdout",
     "output_type": "stream",
     "text": [
      "Epoch 1/50\n"
     ]
    },
    {
     "name": "stderr",
     "output_type": "stream",
     "text": [
      "/home/raistlind2x/miniconda3/envs/tensorflow-developer-certification/lib/python3.10/site-packages/keras/optimizers/optimizer_v2/adam.py:114: UserWarning: The `lr` argument is deprecated, use `learning_rate` instead.\n",
      "  super().__init__(name, **kwargs)\n"
     ]
    },
    {
     "name": "stdout",
     "output_type": "stream",
     "text": [
      "1/1 [==============================] - 1s 721ms/step - loss: 13.2564 - mae: 13.2564\n",
      "Epoch 2/50\n",
      "1/1 [==============================] - 0s 9ms/step - loss: 12.2807 - mae: 12.2807\n",
      "Epoch 3/50\n",
      "1/1 [==============================] - 0s 11ms/step - loss: 11.3010 - mae: 11.3010\n",
      "Epoch 4/50\n",
      "1/1 [==============================] - 0s 11ms/step - loss: 10.3132 - mae: 10.3132\n",
      "Epoch 5/50\n",
      "1/1 [==============================] - 0s 10ms/step - loss: 9.3111 - mae: 9.3111\n",
      "Epoch 6/50\n",
      "1/1 [==============================] - 0s 9ms/step - loss: 8.2864 - mae: 8.2864\n",
      "Epoch 7/50\n",
      "1/1 [==============================] - 0s 8ms/step - loss: 7.2308 - mae: 7.2308\n",
      "Epoch 8/50\n",
      "1/1 [==============================] - 0s 11ms/step - loss: 6.7403 - mae: 6.7403\n",
      "Epoch 9/50\n",
      "1/1 [==============================] - 0s 10ms/step - loss: 7.3132 - mae: 7.3132\n",
      "Epoch 10/50\n",
      "1/1 [==============================] - 0s 10ms/step - loss: 7.9482 - mae: 7.9482\n",
      "Epoch 11/50\n",
      "1/1 [==============================] - 0s 11ms/step - loss: 8.1737 - mae: 8.1737\n",
      "Epoch 12/50\n",
      "1/1 [==============================] - 0s 12ms/step - loss: 8.0593 - mae: 8.0593\n",
      "Epoch 13/50\n",
      "1/1 [==============================] - 0s 11ms/step - loss: 7.7071 - mae: 7.7071\n",
      "Epoch 14/50\n",
      "1/1 [==============================] - 0s 13ms/step - loss: 7.1871 - mae: 7.1871\n",
      "Epoch 15/50\n",
      "1/1 [==============================] - 0s 11ms/step - loss: 6.6830 - mae: 6.6830\n",
      "Epoch 16/50\n",
      "1/1 [==============================] - 0s 10ms/step - loss: 6.2766 - mae: 6.2766\n",
      "Epoch 17/50\n",
      "1/1 [==============================] - 0s 12ms/step - loss: 6.0087 - mae: 6.0087\n",
      "Epoch 18/50\n",
      "1/1 [==============================] - 0s 11ms/step - loss: 5.9997 - mae: 5.9997\n",
      "Epoch 19/50\n",
      "1/1 [==============================] - 0s 12ms/step - loss: 6.1660 - mae: 6.1660\n",
      "Epoch 20/50\n",
      "1/1 [==============================] - 0s 11ms/step - loss: 6.1793 - mae: 6.1793\n",
      "Epoch 21/50\n",
      "1/1 [==============================] - 0s 12ms/step - loss: 6.0618 - mae: 6.0618\n",
      "Epoch 22/50\n",
      "1/1 [==============================] - 0s 11ms/step - loss: 5.8292 - mae: 5.8292\n",
      "Epoch 23/50\n",
      "1/1 [==============================] - 0s 11ms/step - loss: 5.4925 - mae: 5.4925\n",
      "Epoch 24/50\n",
      "1/1 [==============================] - 0s 12ms/step - loss: 5.2839 - mae: 5.2839\n",
      "Epoch 25/50\n",
      "1/1 [==============================] - 0s 11ms/step - loss: 5.1545 - mae: 5.1545\n",
      "Epoch 26/50\n",
      "1/1 [==============================] - 0s 11ms/step - loss: 5.1627 - mae: 5.1627\n",
      "Epoch 27/50\n",
      "1/1 [==============================] - 0s 12ms/step - loss: 5.1122 - mae: 5.1122\n",
      "Epoch 28/50\n",
      "1/1 [==============================] - 0s 12ms/step - loss: 5.0069 - mae: 5.0069\n",
      "Epoch 29/50\n",
      "1/1 [==============================] - 0s 11ms/step - loss: 4.8510 - mae: 4.8510\n",
      "Epoch 30/50\n",
      "1/1 [==============================] - 0s 12ms/step - loss: 4.6481 - mae: 4.6481\n",
      "Epoch 31/50\n",
      "1/1 [==============================] - 0s 11ms/step - loss: 4.4018 - mae: 4.4018\n",
      "Epoch 32/50\n",
      "1/1 [==============================] - 0s 12ms/step - loss: 4.1692 - mae: 4.1692\n",
      "Epoch 33/50\n",
      "1/1 [==============================] - 0s 12ms/step - loss: 4.0282 - mae: 4.0282\n",
      "Epoch 34/50\n",
      "1/1 [==============================] - 0s 12ms/step - loss: 3.8988 - mae: 3.8988\n",
      "Epoch 35/50\n",
      "1/1 [==============================] - 0s 11ms/step - loss: 3.7305 - mae: 3.7305\n",
      "Epoch 36/50\n",
      "1/1 [==============================] - 0s 11ms/step - loss: 3.4793 - mae: 3.4793\n",
      "Epoch 37/50\n",
      "1/1 [==============================] - 0s 12ms/step - loss: 3.2551 - mae: 3.2551\n",
      "Epoch 38/50\n",
      "1/1 [==============================] - 0s 12ms/step - loss: 3.0551 - mae: 3.0551\n",
      "Epoch 39/50\n",
      "1/1 [==============================] - 0s 11ms/step - loss: 2.8640 - mae: 2.8640\n",
      "Epoch 40/50\n",
      "1/1 [==============================] - 0s 11ms/step - loss: 2.6029 - mae: 2.6029\n",
      "Epoch 41/50\n",
      "1/1 [==============================] - 0s 10ms/step - loss: 2.3058 - mae: 2.3058\n",
      "Epoch 42/50\n",
      "1/1 [==============================] - 0s 11ms/step - loss: 2.0488 - mae: 2.0488\n",
      "Epoch 43/50\n",
      "1/1 [==============================] - 0s 11ms/step - loss: 1.8100 - mae: 1.8100\n",
      "Epoch 44/50\n",
      "1/1 [==============================] - 0s 12ms/step - loss: 1.4581 - mae: 1.4581\n",
      "Epoch 45/50\n",
      "1/1 [==============================] - 0s 10ms/step - loss: 1.1594 - mae: 1.1594\n",
      "Epoch 46/50\n",
      "1/1 [==============================] - 0s 13ms/step - loss: 0.8312 - mae: 0.8312\n",
      "Epoch 47/50\n",
      "1/1 [==============================] - 0s 12ms/step - loss: 0.4609 - mae: 0.4609\n",
      "Epoch 48/50\n",
      "1/1 [==============================] - 0s 11ms/step - loss: 0.1421 - mae: 0.1421\n",
      "Epoch 49/50\n",
      "1/1 [==============================] - 0s 11ms/step - loss: 0.4192 - mae: 0.4192\n",
      "Epoch 50/50\n",
      "1/1 [==============================] - 0s 10ms/step - loss: 0.6304 - mae: 0.6304\n"
     ]
    },
    {
     "data": {
      "text/plain": [
       "<keras.callbacks.History at 0x7f7668284220>"
      ]
     },
     "execution_count": 19,
     "metadata": {},
     "output_type": "execute_result"
    }
   ],
   "source": [
    "# Another change to the model\n",
    "\n",
    "# 1. Create the model (add another layer)\n",
    "model = tf.keras.Sequential([\n",
    "    tf.keras.layers.Dense(100, activation=None),\n",
    "    tf.keras.layers.Dense(1)\n",
    "])\n",
    "\n",
    "# 2. Compile the model\n",
    "model.compile(loss=tf.keras.losses.mae,\n",
    "             optimizer=tf.keras.optimizers.Adam(lr=.01),\n",
    "             metrics=[\"mae\"])\n",
    "\n",
    "# Fit the model\n",
    "model.fit(X, y, epochs=50)"
   ]
  },
  {
   "cell_type": "code",
   "execution_count": 20,
   "id": "439f042d",
   "metadata": {},
   "outputs": [
    {
     "name": "stdout",
     "output_type": "stream",
     "text": [
      "1/1 [==============================] - 0s 45ms/step\n"
     ]
    },
    {
     "data": {
      "text/plain": [
       "array([[26.870178]], dtype=float32)"
      ]
     },
     "execution_count": 20,
     "metadata": {},
     "output_type": "execute_result"
    }
   ],
   "source": [
    "# Check new prediction test\n",
    "# Appears to be overfitting on the training data, learning the training data too well to generalize\n",
    "model.predict([17.0])"
   ]
  },
  {
   "cell_type": "markdown",
   "id": "c33be7f2",
   "metadata": {},
   "source": [
    "**NOTES:**\n",
    "    \n",
    "1. Adding layers\n",
    "2. Adding hidden units or neurons\n",
    "3. Change activation function\n",
    "4. Change optimization function\n",
    "5. Change learning rate `Adam(lr=.01)` made the most impact\n",
    "6. Fitting for longer/increase epochs"
   ]
  },
  {
   "cell_type": "markdown",
   "id": "cc05bc6b",
   "metadata": {},
   "source": [
    "## Evaluate a model\n",
    "\n",
    "In practice, a typical workflow when building neural networks is:\n",
    "\n",
    "```\n",
    "Build a model -> fit it -> evaluate it -> tweak it ->\n",
    "fit it -> evaluate it -> tweak it -> fit it -> evaluate it...\n",
    "```\n",
    "\n",
    "> visualize, visualize, visualize when evaluating data\n",
    "\n",
    "It's a good idea to visualize:\n",
    "* The data - what data are we working with, what does it look like?\n",
    "* The model itself - what does it look like?\n",
    "* The training of a model - how does a model perform while it learns?\n",
    "* The predictions of the model - how do the predictions of a model compare against the ground truth/labels?"
   ]
  },
  {
   "cell_type": "code",
   "execution_count": 21,
   "id": "62ec88d8",
   "metadata": {},
   "outputs": [
    {
     "data": {
      "text/plain": [
       "<tf.Tensor: shape=(50,), dtype=int32, numpy=\n",
       "array([-100,  -96,  -92,  -88,  -84,  -80,  -76,  -72,  -68,  -64,  -60,\n",
       "        -56,  -52,  -48,  -44,  -40,  -36,  -32,  -28,  -24,  -20,  -16,\n",
       "        -12,   -8,   -4,    0,    4,    8,   12,   16,   20,   24,   28,\n",
       "         32,   36,   40,   44,   48,   52,   56,   60,   64,   68,   72,\n",
       "         76,   80,   84,   88,   92,   96], dtype=int32)>"
      ]
     },
     "execution_count": 21,
     "metadata": {},
     "output_type": "execute_result"
    }
   ],
   "source": [
    "# Make a bigger dataset\n",
    "X = tf.range(-100, 100, 4)\n",
    "X"
   ]
  },
  {
   "cell_type": "code",
   "execution_count": 22,
   "id": "db05aad5",
   "metadata": {},
   "outputs": [],
   "source": [
    "# Make labels for the dataset\n",
    "y = X + 10\n",
    "\n",
    "# ^ creates a formula of adding +10 to each X value"
   ]
  },
  {
   "cell_type": "code",
   "execution_count": 23,
   "id": "db332faa",
   "metadata": {},
   "outputs": [
    {
     "data": {
      "text/plain": [
       "<matplotlib.collections.PathCollection at 0x7f7668181d20>"
      ]
     },
     "execution_count": 23,
     "metadata": {},
     "output_type": "execute_result"
    },
    {
     "data": {
      "image/png": "[encoded data removed]",
      "text/plain": [
       "<Figure size 640x480 with 1 Axes>"
      ]
     },
     "metadata": {},
     "output_type": "display_data"
    }
   ],
   "source": [
    "# visualize the data\n",
    "import matplotlib.pyplot as plt\n",
    "\n",
    "plt.scatter(X, y)"
   ]
  },
  {
   "cell_type": "markdown",
   "id": "528c41c1",
   "metadata": {},
   "source": [
    "### The 3 sets...\n",
    "\n",
    "* **Training set** - The model learns from this data, typically 70 - 80% of the data\n",
    "* **Validation set** - Model gets tuned (hyperparameter tuning) on this data. 10 - 15%\n",
    "* **Test set** - Model gets evaluated on this set. 10 - 15%"
   ]
  },
  {
   "cell_type": "code",
   "execution_count": 24,
   "id": "5e4b8166",
   "metadata": {},
   "outputs": [
    {
     "data": {
      "text/plain": [
       "50"
      ]
     },
     "execution_count": 24,
     "metadata": {},
     "output_type": "execute_result"
    }
   ],
   "source": [
    "# how many samples do we have\n",
    "len(X)"
   ]
  },
  {
   "cell_type": "code",
   "execution_count": 25,
   "id": "e59af0d4",
   "metadata": {},
   "outputs": [
    {
     "data": {
      "text/plain": [
       "(40, 10)"
      ]
     },
     "execution_count": 25,
     "metadata": {},
     "output_type": "execute_result"
    }
   ],
   "source": [
    "# Split the data into train and test\n",
    "X_train = X[:40] # first 40 == 80%\n",
    "X_test = X[40:] # last 10 == 20%\n",
    "\n",
    "y_train = y[:40]\n",
    "y_test = y[40:]\n",
    "\n",
    "len(X_train), len(X_test)"
   ]
  },
  {
   "cell_type": "markdown",
   "id": "4c44665d",
   "metadata": {},
   "source": [
    "### Visualizing the data\n",
    "\n",
    "Now data is in training and test sets, need to visualize it."
   ]
  },
  {
   "cell_type": "code",
   "execution_count": 26,
   "id": "600ad707",
   "metadata": {},
   "outputs": [
    {
     "data": {
      "image/png": "[encoded data removed]",
      "text/plain": [
       "<Figure size 1000x700 with 1 Axes>"
      ]
     },
     "metadata": {},
     "output_type": "display_data"
    }
   ],
   "source": [
    "plt.figure(figsize=(10,7))\n",
    "# Plot training data in blue\n",
    "plt.scatter(X_train, y_train, c=\"b\", label=\"Training Data\")\n",
    "# Plot test data in green\n",
    "plt.scatter(X_test, y_test, c=\"g\", label=\"Testing Data\")\n",
    "# Show a legend\n",
    "plt.legend();"
   ]
  },
  {
   "cell_type": "code",
   "execution_count": 27,
   "id": "fbd22af0",
   "metadata": {},
   "outputs": [],
   "source": [
    "# 1. Create a model\n",
    "model = tf.keras.Sequential([\n",
    "    tf.keras.layers.Dense(1)\n",
    "])\n",
    "\n",
    "# 2. Compile\n",
    "model.compile(loss=tf.keras.losses.mae,\n",
    "             optimizer=tf.keras.optimizers.SGD(),\n",
    "             metrics=[\"mae\"])\n",
    "\n",
    "# 3. fit the model, ONLY USE TRAINING DATA\n",
    "# model.fit(X_train, y_train, epochs=100)"
   ]
  },
  {
   "cell_type": "markdown",
   "id": "b5e2e6f3",
   "metadata": {},
   "source": [
    "## visualize the model"
   ]
  },
  {
   "cell_type": "code",
   "execution_count": 28,
   "id": "50bef1f5",
   "metadata": {},
   "outputs": [
    {
     "name": "stdout",
     "output_type": "stream",
     "text": [
      "Model: \"sequential_4\"\n",
      "_________________________________________________________________\n",
      " Layer (type)                Output Shape              Param #   \n",
      "=================================================================\n",
      " dense_5 (Dense)             (None, 1)                 2         \n",
      "                                                                 \n",
      " dense_6 (Dense)             (None, 100)               200       \n",
      "                                                                 \n",
      " dense_7 (Dense)             (None, 1)                 101       \n",
      "                                                                 \n",
      "=================================================================\n",
      "Total params: 303\n",
      "Trainable params: 303\n",
      "Non-trainable params: 0\n",
      "_________________________________________________________________\n"
     ]
    }
   ],
   "source": [
    "# Create model that builds automatically by defining the input_shape argument\n",
    "tf.random.set_seed(42)\n",
    "\n",
    "# 1. Create a model (same as above)\n",
    "model = tf.keras.Sequential([\n",
    "    tf.keras.layers.Dense(1, input_shape=[1]),\n",
    "    tf.keras.layers.Dense(100, activation=\"relu\"),\n",
    "    tf.keras.layers.Dense(1)\n",
    "])\n",
    "\n",
    "# 2. Compile the model\n",
    "model.compile(loss=tf.keras.losses.mae,\n",
    "             optimizer=tf.keras.optimizers.Adam(lr=.01),\n",
    "             metrics=[\"mae\"])\n",
    "\n",
    "model.summary()"
   ]
  },
  {
   "cell_type": "markdown",
   "id": "d6af11e5",
   "metadata": {},
   "source": [
    "* Total params - total number of parameters in model, these are what the model will learn\n",
    "* Trainable params - these are the parameters that the model can update as it trains\n",
    "* non-trainable params - these params aren't updated during training, typically occurs when you freeze params from previously trained models (transfer learning)\n",
    "\n",
    "**RESOURCE:** <a href=\"https://www.youtube.com/watch?v=7sB052Pz0sQ\" title=\"MIT Introduction to Deep Learning\">MIT Introduction to Deep Learning</a>"
   ]
  },
  {
   "cell_type": "code",
   "execution_count": 29,
   "id": "b4f0f327",
   "metadata": {},
   "outputs": [
    {
     "data": {
      "text/plain": [
       "<keras.callbacks.History at 0x7f7648730bb0>"
      ]
     },
     "execution_count": 29,
     "metadata": {},
     "output_type": "execute_result"
    }
   ],
   "source": [
    "# Fit model to training data\n",
    "model.fit(X_train, y_train, epochs=100, verbose=0)"
   ]
  },
  {
   "cell_type": "code",
   "execution_count": 30,
   "id": "488625ba",
   "metadata": {},
   "outputs": [
    {
     "name": "stdout",
     "output_type": "stream",
     "text": [
      "Model: \"sequential_4\"\n",
      "_________________________________________________________________\n",
      " Layer (type)                Output Shape              Param #   \n",
      "=================================================================\n",
      " dense_5 (Dense)             (None, 1)                 2         \n",
      "                                                                 \n",
      " dense_6 (Dense)             (None, 100)               200       \n",
      "                                                                 \n",
      " dense_7 (Dense)             (None, 1)                 101       \n",
      "                                                                 \n",
      "=================================================================\n",
      "Total params: 303\n",
      "Trainable params: 303\n",
      "Non-trainable params: 0\n",
      "_________________________________________________________________\n"
     ]
    }
   ],
   "source": [
    "# Get a summary of model\n",
    "model.summary()"
   ]
  },
  {
   "cell_type": "markdown",
   "id": "6a5bbb2e",
   "metadata": {},
   "source": [
    "### Visualizing model's prediction\n",
    "\n",
    "To visualize predictions, it's a good idea to plot them against the ground truth labels.\n",
    "\n",
    "Often seen in the wild in the form of `y_test` or `y_true` versus `y_pred`"
   ]
  },
  {
   "cell_type": "code",
   "execution_count": 31,
   "id": "60cd2144",
   "metadata": {},
   "outputs": [
    {
     "name": "stdout",
     "output_type": "stream",
     "text": [
      "1/1 [==============================] - 0s 36ms/step\n"
     ]
    },
    {
     "data": {
      "text/plain": [
       "array([[ 70.1119  ],\n",
       "       [ 74.11035 ],\n",
       "       [ 78.108795],\n",
       "       [ 82.107254],\n",
       "       [ 86.10569 ],\n",
       "       [ 90.10414 ],\n",
       "       [ 94.10259 ],\n",
       "       [ 98.10104 ],\n",
       "       [102.09949 ],\n",
       "       [106.09793 ]], dtype=float32)"
      ]
     },
     "execution_count": 31,
     "metadata": {},
     "output_type": "execute_result"
    }
   ],
   "source": [
    "# Make some predictions\n",
    "y_pred = model.predict(X_test)\n",
    "y_pred"
   ]
  },
  {
   "cell_type": "code",
   "execution_count": 32,
   "id": "d022d72e",
   "metadata": {},
   "outputs": [
    {
     "data": {
      "text/plain": [
       "<tf.Tensor: shape=(10,), dtype=int32, numpy=array([ 70,  74,  78,  82,  86,  90,  94,  98, 102, 106], dtype=int32)>"
      ]
     },
     "execution_count": 32,
     "metadata": {},
     "output_type": "execute_result"
    }
   ],
   "source": [
    "y_test"
   ]
  },
  {
   "cell_type": "code",
   "execution_count": 33,
   "id": "dd1a3585",
   "metadata": {},
   "outputs": [],
   "source": [
    "# Create function to visualize y_pred vs y_true\n",
    "def plot_predictions(train_data=X_train,\n",
    "                    train_labels=y_train,\n",
    "                    test_data=X_test,\n",
    "                    test_labels=y_test,\n",
    "                    predictions=y_pred):\n",
    "    \"\"\"\n",
    "    Plots training and test data and compares predictions to ground truth labels.\n",
    "    \"\"\"\n",
    "    plt.figure(figsize=(10,7))\n",
    "    \n",
    "    # PLot training data in blue\n",
    "    plt.scatter(train_data, train_labels, c=\"b\", label=\"Training Data\")\n",
    "    \n",
    "    # Plot testing data in green\n",
    "    plt.scatter(test_data, test_labels, c=\"g\", label=\"Testing data\")\n",
    "    \n",
    "    # Plot model predicitons in red\n",
    "    print(\"Test data: \", test_data)\n",
    "    print(\"Predictions: \", predictions)\n",
    "    print(\"Prediction length: \", len(predictions))\n",
    "    plt.scatter(test_data, predictions, c=\"r\", label=\"Predictions\")\n",
    "    \n",
    "    # Show legend\n",
    "    plt.legend()"
   ]
  },
  {
   "cell_type": "code",
   "execution_count": 34,
   "id": "e3b32c03",
   "metadata": {},
   "outputs": [
    {
     "name": "stdout",
     "output_type": "stream",
     "text": [
      "Test data:  tf.Tensor([60 64 68 72 76 80 84 88 92 96], shape=(10,), dtype=int32)\n",
      "Predictions:  [[ 70.1119  ]\n",
      " [ 74.11035 ]\n",
      " [ 78.108795]\n",
      " [ 82.107254]\n",
      " [ 86.10569 ]\n",
      " [ 90.10414 ]\n",
      " [ 94.10259 ]\n",
      " [ 98.10104 ]\n",
      " [102.09949 ]\n",
      " [106.09793 ]]\n",
      "Prediction length:  10\n"
     ]
    },
    {
     "data": {
      "image/png": "[encoded data removed]",
      "text/plain": [
       "<Figure size 1000x700 with 1 Axes>"
      ]
     },
     "metadata": {},
     "output_type": "display_data"
    }
   ],
   "source": [
    "plot_predictions(train_data=X_train,\n",
    "                    train_labels=y_train,\n",
    "                    test_data=X_test,\n",
    "                    test_labels=y_test,\n",
    "                    predictions=y_pred)"
   ]
  },
  {
   "cell_type": "markdown",
   "id": "a548f826",
   "metadata": {},
   "source": [
    "### Evaluating the models predictions with regression evaluation metrics\n",
    "\n",
    "Depending on the problem you're working on, there will be different metrics for evaluation.\n",
    "\n",
    "Regression = 2 main metrics:\n",
    "\n",
    "* MAE - Mean absolute error\n",
    "* MSE - Mean square error"
   ]
  },
  {
   "cell_type": "code",
   "execution_count": 35,
   "id": "22d768e6",
   "metadata": {},
   "outputs": [
    {
     "name": "stdout",
     "output_type": "stream",
     "text": [
      "1/1 [==============================] - 0s 85ms/step - loss: 0.1049 - mae: 0.1049\n"
     ]
    },
    {
     "data": {
      "text/plain": [
       "[0.10491867363452911, 0.10491867363452911]"
      ]
     },
     "execution_count": 35,
     "metadata": {},
     "output_type": "execute_result"
    }
   ],
   "source": [
    "# Evaluate the model on the test set\n",
    "model.evaluate(X_test, y_test)"
   ]
  },
  {
   "cell_type": "code",
   "execution_count": 36,
   "id": "47368c5c",
   "metadata": {},
   "outputs": [
    {
     "data": {
      "text/plain": [
       "<tf.Tensor: shape=(10,), dtype=float32, numpy=\n",
       "array([17.91048  , 14.733789 , 12.3564825, 10.778549 , 10.       ,\n",
       "       10.020828 , 10.841037 , 12.460627 , 14.87959  , 18.09793  ],\n",
       "      dtype=float32)>"
      ]
     },
     "execution_count": 36,
     "metadata": {},
     "output_type": "execute_result"
    }
   ],
   "source": [
    "# calculate MSE between y_pred and y_test\n",
    "mae = tf.metrics.mean_absolute_error(y_true=y_test, y_pred=y_pred)\n",
    "mae"
   ]
  },
  {
   "cell_type": "code",
   "execution_count": 37,
   "id": "28e26d20",
   "metadata": {},
   "outputs": [
    {
     "data": {
      "text/plain": [
       "(<tf.Tensor: shape=(10,), dtype=int32, numpy=array([ 70,  74,  78,  82,  86,  90,  94,  98, 102, 106], dtype=int32)>,\n",
       " <tf.Tensor: shape=(10, 1), dtype=float32, numpy=\n",
       " array([[ 70.1119  ],\n",
       "        [ 74.11035 ],\n",
       "        [ 78.108795],\n",
       "        [ 82.107254],\n",
       "        [ 86.10569 ],\n",
       "        [ 90.10414 ],\n",
       "        [ 94.10259 ],\n",
       "        [ 98.10104 ],\n",
       "        [102.09949 ],\n",
       "        [106.09793 ]], dtype=float32)>)"
      ]
     },
     "execution_count": 37,
     "metadata": {},
     "output_type": "execute_result"
    }
   ],
   "source": [
    "# convert y_pred to tensor\n",
    "y_pred = tf.constant(y_pred)\n",
    "\n",
    "# shapes aren't the same\n",
    "y_test, y_pred"
   ]
  },
  {
   "cell_type": "code",
   "execution_count": 38,
   "id": "1155e3f8",
   "metadata": {},
   "outputs": [],
   "source": [
    "# removes the '1' dimension so they are the same shape\n",
    "y_pred = tf.squeeze(y_pred)"
   ]
  },
  {
   "cell_type": "code",
   "execution_count": 39,
   "id": "4cadfee5",
   "metadata": {},
   "outputs": [
    {
     "data": {
      "text/plain": [
       "<tf.Tensor: shape=(), dtype=float32, numpy=0.10491867>"
      ]
     },
     "execution_count": 39,
     "metadata": {},
     "output_type": "execute_result"
    }
   ],
   "source": [
    "# calculate the mean absolute error again\n",
    "mae = tf.metrics.mean_absolute_error(y_true=y_test, y_pred=y_pred)\n",
    "mae"
   ]
  },
  {
   "cell_type": "code",
   "execution_count": 40,
   "id": "e79c45ab",
   "metadata": {},
   "outputs": [
    {
     "data": {
      "text/plain": [
       "<tf.Tensor: shape=(), dtype=float32, numpy=0.011027797>"
      ]
     },
     "execution_count": 40,
     "metadata": {},
     "output_type": "execute_result"
    }
   ],
   "source": [
    "# calculate the mean squared error\n",
    "mse = tf.metrics.mean_squared_error(y_true=y_test, y_pred=y_pred)\n",
    "\n",
    "mse"
   ]
  },
  {
   "cell_type": "code",
   "execution_count": 41,
   "id": "51f42629",
   "metadata": {},
   "outputs": [],
   "source": [
    "def regression_metrics(y_test, y_pred):\n",
    "    \"\"\"\n",
    "    Output MAE and  MSE\n",
    "    \"\"\"\n",
    "    # squeeze preds to make same shape for evaluation\n",
    "    y_pred = tf.squeeze(y_pred)\n",
    "    \n",
    "    # MAE\n",
    "    mae = tf.metrics.mean_absolute_error(y_true=y_test, y_pred=y_pred)\n",
    "    print(\"MAE: \", mae.numpy())\n",
    "    \n",
    "    # MSE\n",
    "    mse = tf.metrics.mean_squared_error(y_true=y_test, y_pred=y_pred)\n",
    "    print(\"MSE: \", mse.numpy())"
   ]
  },
  {
   "cell_type": "code",
   "execution_count": 42,
   "id": "848a0e96",
   "metadata": {},
   "outputs": [
    {
     "name": "stdout",
     "output_type": "stream",
     "text": [
      "MAE:  0.10491867\n",
      "MSE:  0.011027797\n"
     ]
    }
   ],
   "source": [
    "regression_metrics(y_test, y_pred)"
   ]
  },
  {
   "cell_type": "markdown",
   "id": "507b7d8e",
   "metadata": {},
   "source": [
    "3 modeling experiments:\n",
    "    \n",
    "1. `model_1`: 1 layers, trained for 100 epochs\n",
    "2. `model_2`: 2 layers, trained for 100 epochs\n",
    "3. `model_3`: 2 layers, trained for 500 epochs"
   ]
  },
  {
   "cell_type": "markdown",
   "id": "b6399ad5",
   "metadata": {},
   "source": [
    "**Build model_1**"
   ]
  },
  {
   "cell_type": "code",
   "execution_count": 43,
   "id": "bb011815",
   "metadata": {},
   "outputs": [
    {
     "name": "stdout",
     "output_type": "stream",
     "text": [
      "Epoch 1/100\n",
      "2/2 [==============================] - 0s 6ms/step - loss: 15.3891 - mae: 15.3891\n",
      "Epoch 2/100\n",
      "2/2 [==============================] - 0s 8ms/step - loss: 13.2504 - mae: 13.2504\n",
      "Epoch 3/100\n",
      "2/2 [==============================] - 0s 10ms/step - loss: 19.2468 - mae: 19.2468\n",
      "Epoch 4/100\n",
      "2/2 [==============================] - 0s 9ms/step - loss: 10.2141 - mae: 10.2141\n",
      "Epoch 5/100\n",
      "2/2 [==============================] - 0s 9ms/step - loss: 12.3114 - mae: 12.3114\n",
      "Epoch 6/100\n",
      "2/2 [==============================] - 0s 8ms/step - loss: 12.8635 - mae: 12.8635\n",
      "Epoch 7/100\n",
      "2/2 [==============================] - 0s 8ms/step - loss: 10.7895 - mae: 10.7895\n",
      "Epoch 8/100\n",
      "2/2 [==============================] - 0s 10ms/step - loss: 13.9307 - mae: 13.9307\n",
      "Epoch 9/100\n",
      "2/2 [==============================] - 0s 10ms/step - loss: 14.8449 - mae: 14.8449\n",
      "Epoch 10/100\n",
      "2/2 [==============================] - 0s 11ms/step - loss: 10.0021 - mae: 10.0021\n",
      "Epoch 11/100\n",
      "2/2 [==============================] - 0s 7ms/step - loss: 9.9741 - mae: 9.9741\n",
      "Epoch 12/100\n",
      "2/2 [==============================] - 0s 10ms/step - loss: 9.9152 - mae: 9.9152\n",
      "Epoch 13/100\n",
      "2/2 [==============================] - 0s 9ms/step - loss: 9.7534 - mae: 9.7534\n",
      "Epoch 14/100\n",
      "2/2 [==============================] - 0s 10ms/step - loss: 10.5540 - mae: 10.5540\n",
      "Epoch 15/100\n",
      "2/2 [==============================] - 0s 12ms/step - loss: 13.7828 - mae: 13.7828\n",
      "Epoch 16/100\n",
      "2/2 [==============================] - 0s 7ms/step - loss: 12.4004 - mae: 12.4004\n",
      "Epoch 17/100\n",
      "2/2 [==============================] - 0s 11ms/step - loss: 10.1779 - mae: 10.1779\n",
      "Epoch 18/100\n",
      "2/2 [==============================] - 0s 7ms/step - loss: 10.6680 - mae: 10.6680\n",
      "Epoch 19/100\n",
      "2/2 [==============================] - 0s 8ms/step - loss: 10.0716 - mae: 10.0716\n",
      "Epoch 20/100\n",
      "2/2 [==============================] - 0s 7ms/step - loss: 10.8660 - mae: 10.8660\n",
      "Epoch 21/100\n",
      "2/2 [==============================] - 0s 11ms/step - loss: 12.1110 - mae: 12.1110\n",
      "Epoch 22/100\n",
      "2/2 [==============================] - 0s 10ms/step - loss: 9.5788 - mae: 9.5788\n",
      "Epoch 23/100\n",
      "2/2 [==============================] - 0s 11ms/step - loss: 9.3141 - mae: 9.3141\n",
      "Epoch 24/100\n",
      "2/2 [==============================] - 0s 7ms/step - loss: 9.7180 - mae: 9.7180\n",
      "Epoch 25/100\n",
      "2/2 [==============================] - 0s 11ms/step - loss: 9.6144 - mae: 9.6144\n",
      "Epoch 26/100\n",
      "2/2 [==============================] - 0s 7ms/step - loss: 10.0198 - mae: 10.0198\n",
      "Epoch 27/100\n",
      "2/2 [==============================] - 0s 8ms/step - loss: 10.3687 - mae: 10.3687\n",
      "Epoch 28/100\n",
      "2/2 [==============================] - 0s 9ms/step - loss: 9.7611 - mae: 9.7611\n",
      "Epoch 29/100\n",
      "2/2 [==============================] - 0s 6ms/step - loss: 9.6475 - mae: 9.6475\n",
      "Epoch 30/100\n",
      "2/2 [==============================] - 0s 8ms/step - loss: 9.7719 - mae: 9.7719\n",
      "Epoch 31/100\n",
      "2/2 [==============================] - 0s 11ms/step - loss: 10.6661 - mae: 10.6661\n",
      "Epoch 32/100\n",
      "2/2 [==============================] - 0s 7ms/step - loss: 9.6684 - mae: 9.6684\n",
      "Epoch 33/100\n",
      "2/2 [==============================] - 0s 8ms/step - loss: 9.4881 - mae: 9.4881\n",
      "Epoch 34/100\n",
      "2/2 [==============================] - 0s 6ms/step - loss: 9.8137 - mae: 9.8137\n",
      "Epoch 35/100\n",
      "2/2 [==============================] - 0s 9ms/step - loss: 11.0124 - mae: 11.0124\n",
      "Epoch 36/100\n",
      "2/2 [==============================] - 0s 8ms/step - loss: 10.6552 - mae: 10.6552\n",
      "Epoch 37/100\n",
      "2/2 [==============================] - 0s 7ms/step - loss: 9.3800 - mae: 9.3800\n",
      "Epoch 38/100\n",
      "2/2 [==============================] - 0s 9ms/step - loss: 9.3882 - mae: 9.3882\n",
      "Epoch 39/100\n",
      "2/2 [==============================] - 0s 7ms/step - loss: 10.2241 - mae: 10.2241\n",
      "Epoch 40/100\n",
      "2/2 [==============================] - 0s 6ms/step - loss: 11.8086 - mae: 11.8086\n",
      "Epoch 41/100\n",
      "2/2 [==============================] - 0s 6ms/step - loss: 10.4193 - mae: 10.4193\n",
      "Epoch 42/100\n",
      "2/2 [==============================] - 0s 6ms/step - loss: 10.3773 - mae: 10.3773\n",
      "Epoch 43/100\n",
      "2/2 [==============================] - 0s 6ms/step - loss: 12.9574 - mae: 12.9574\n",
      "Epoch 44/100\n",
      "2/2 [==============================] - 0s 6ms/step - loss: 10.1801 - mae: 10.1801\n",
      "Epoch 45/100\n",
      "2/2 [==============================] - 0s 6ms/step - loss: 9.5162 - mae: 9.5162\n",
      "Epoch 46/100\n",
      "2/2 [==============================] - 0s 6ms/step - loss: 9.3801 - mae: 9.3801\n",
      "Epoch 47/100\n",
      "2/2 [==============================] - 0s 6ms/step - loss: 9.3677 - mae: 9.3677\n",
      "Epoch 48/100\n",
      "2/2 [==============================] - 0s 7ms/step - loss: 9.6115 - mae: 9.6115\n",
      "Epoch 49/100\n",
      "2/2 [==============================] - 0s 6ms/step - loss: 10.2662 - mae: 10.2662\n",
      "Epoch 50/100\n",
      "2/2 [==============================] - 0s 6ms/step - loss: 9.5817 - mae: 9.5817\n",
      "Epoch 51/100\n",
      "2/2 [==============================] - 0s 6ms/step - loss: 9.0197 - mae: 9.0197\n",
      "Epoch 52/100\n",
      "2/2 [==============================] - 0s 6ms/step - loss: 9.2831 - mae: 9.2831\n",
      "Epoch 53/100\n",
      "2/2 [==============================] - 0s 6ms/step - loss: 9.4046 - mae: 9.4046\n",
      "Epoch 54/100\n",
      "2/2 [==============================] - 0s 5ms/step - loss: 9.2816 - mae: 9.2816\n",
      "Epoch 55/100\n",
      "2/2 [==============================] - 0s 5ms/step - loss: 9.4377 - mae: 9.4377\n",
      "Epoch 56/100\n",
      "2/2 [==============================] - 0s 5ms/step - loss: 9.1255 - mae: 9.1255\n",
      "Epoch 57/100\n",
      "2/2 [==============================] - 0s 5ms/step - loss: 8.7284 - mae: 8.7284\n",
      "Epoch 58/100\n",
      "2/2 [==============================] - 0s 5ms/step - loss: 9.2042 - mae: 9.2042\n",
      "Epoch 59/100\n",
      "2/2 [==============================] - 0s 6ms/step - loss: 9.0245 - mae: 9.0245\n",
      "Epoch 60/100\n",
      "2/2 [==============================] - 0s 5ms/step - loss: 10.1535 - mae: 10.1535\n",
      "Epoch 61/100\n",
      "2/2 [==============================] - 0s 5ms/step - loss: 9.0106 - mae: 9.0106\n",
      "Epoch 62/100\n",
      "2/2 [==============================] - 0s 5ms/step - loss: 10.0013 - mae: 10.0013\n",
      "Epoch 63/100\n",
      "2/2 [==============================] - 0s 5ms/step - loss: 12.7860 - mae: 12.7860\n",
      "Epoch 64/100\n",
      "2/2 [==============================] - 0s 5ms/step - loss: 9.5201 - mae: 9.5201\n",
      "Epoch 65/100\n",
      "2/2 [==============================] - 0s 5ms/step - loss: 8.8375 - mae: 8.8375\n",
      "Epoch 66/100\n",
      "2/2 [==============================] - 0s 6ms/step - loss: 8.8231 - mae: 8.8231\n",
      "Epoch 67/100\n",
      "2/2 [==============================] - 0s 6ms/step - loss: 9.7176 - mae: 9.7176\n",
      "Epoch 68/100\n",
      "2/2 [==============================] - 0s 6ms/step - loss: 8.8489 - mae: 8.8489\n",
      "Epoch 69/100\n",
      "2/2 [==============================] - 0s 5ms/step - loss: 13.5593 - mae: 13.5593\n",
      "Epoch 70/100\n",
      "2/2 [==============================] - 0s 5ms/step - loss: 8.0429 - mae: 8.0429\n",
      "Epoch 71/100\n",
      "2/2 [==============================] - 0s 5ms/step - loss: 9.4707 - mae: 9.4707\n",
      "Epoch 72/100\n",
      "2/2 [==============================] - 0s 5ms/step - loss: 9.1727 - mae: 9.1727\n",
      "Epoch 73/100\n",
      "2/2 [==============================] - 0s 5ms/step - loss: 16.6972 - mae: 16.6972\n",
      "Epoch 74/100\n",
      "2/2 [==============================] - 0s 5ms/step - loss: 10.6393 - mae: 10.6393\n",
      "Epoch 75/100\n",
      "2/2 [==============================] - 0s 5ms/step - loss: 13.6950 - mae: 13.6950\n",
      "Epoch 76/100\n",
      "2/2 [==============================] - 0s 5ms/step - loss: 9.1732 - mae: 9.1732\n",
      "Epoch 77/100\n",
      "2/2 [==============================] - 0s 6ms/step - loss: 9.0684 - mae: 9.0684\n",
      "Epoch 78/100\n",
      "2/2 [==============================] - 0s 5ms/step - loss: 8.8013 - mae: 8.8013\n",
      "Epoch 79/100\n",
      "2/2 [==============================] - 0s 6ms/step - loss: 9.0012 - mae: 9.0012\n",
      "Epoch 80/100\n",
      "2/2 [==============================] - 0s 6ms/step - loss: 9.3772 - mae: 9.3772\n",
      "Epoch 81/100\n",
      "2/2 [==============================] - 0s 6ms/step - loss: 11.2852 - mae: 11.2852\n",
      "Epoch 82/100\n",
      "2/2 [==============================] - 0s 6ms/step - loss: 16.8937 - mae: 16.8937\n",
      "Epoch 83/100\n",
      "2/2 [==============================] - 0s 6ms/step - loss: 9.5497 - mae: 9.5497\n",
      "Epoch 84/100\n",
      "2/2 [==============================] - 0s 5ms/step - loss: 8.6257 - mae: 8.6257\n",
      "Epoch 85/100\n",
      "2/2 [==============================] - 0s 6ms/step - loss: 8.7171 - mae: 8.7171\n",
      "Epoch 86/100\n",
      "2/2 [==============================] - 0s 6ms/step - loss: 8.9852 - mae: 8.9852\n",
      "Epoch 87/100\n",
      "2/2 [==============================] - 0s 6ms/step - loss: 9.1413 - mae: 9.1413\n",
      "Epoch 88/100\n"
     ]
    },
    {
     "name": "stdout",
     "output_type": "stream",
     "text": [
      "2/2 [==============================] - 0s 6ms/step - loss: 8.6895 - mae: 8.6895\n",
      "Epoch 89/100\n",
      "2/2 [==============================] - 0s 6ms/step - loss: 8.8326 - mae: 8.8326\n",
      "Epoch 90/100\n",
      "2/2 [==============================] - 0s 6ms/step - loss: 8.6420 - mae: 8.6420\n",
      "Epoch 91/100\n",
      "2/2 [==============================] - 0s 5ms/step - loss: 8.6920 - mae: 8.6920\n",
      "Epoch 92/100\n",
      "2/2 [==============================] - 0s 6ms/step - loss: 8.5587 - mae: 8.5587\n",
      "Epoch 93/100\n",
      "2/2 [==============================] - 0s 6ms/step - loss: 9.1505 - mae: 9.1505\n",
      "Epoch 94/100\n",
      "2/2 [==============================] - 0s 8ms/step - loss: 9.9062 - mae: 9.9062\n",
      "Epoch 95/100\n",
      "2/2 [==============================] - 0s 6ms/step - loss: 12.8541 - mae: 12.8541\n",
      "Epoch 96/100\n",
      "2/2 [==============================] - 0s 6ms/step - loss: 9.1473 - mae: 9.1473\n",
      "Epoch 97/100\n",
      "2/2 [==============================] - 0s 6ms/step - loss: 10.5522 - mae: 10.5522\n",
      "Epoch 98/100\n",
      "2/2 [==============================] - 0s 7ms/step - loss: 14.7801 - mae: 14.7801\n",
      "Epoch 99/100\n",
      "2/2 [==============================] - 0s 6ms/step - loss: 10.8507 - mae: 10.8507\n",
      "Epoch 100/100\n",
      "2/2 [==============================] - 0s 5ms/step - loss: 14.9522 - mae: 14.9522\n"
     ]
    },
    {
     "data": {
      "text/plain": [
       "<keras.callbacks.History at 0x7f76485018a0>"
      ]
     },
     "execution_count": 43,
     "metadata": {},
     "output_type": "execute_result"
    }
   ],
   "source": [
    "# set random seed\n",
    "tf.random.set_seed(42)\n",
    "\n",
    "# 1. create the model\n",
    "model_1 = tf.keras.Sequential([\n",
    "    tf.keras.layers.Dense(1)\n",
    "])\n",
    "\n",
    "# 2. Compile\n",
    "model_1.compile(loss=tf.keras.losses.mae,\n",
    "             optimizer=tf.keras.optimizers.SGD(),\n",
    "             metrics=[\"mae\"])\n",
    "\n",
    "# 3. fit the model\n",
    "model_1.fit(tf.expand_dims(X, axis=-1), y, epochs=100)"
   ]
  },
  {
   "cell_type": "code",
   "execution_count": 44,
   "id": "987fb578",
   "metadata": {},
   "outputs": [
    {
     "name": "stdout",
     "output_type": "stream",
     "text": [
      "WARNING:tensorflow:5 out of the last 5 calls to <function Model.make_predict_function.<locals>.predict_function at 0x7f7648509990> triggered tf.function retracing. Tracing is expensive and the excessive number of tracings could be due to (1) creating @tf.function repeatedly in a loop, (2) passing tensors with different shapes, (3) passing Python objects instead of tensors. For (1), please define your @tf.function outside of the loop. For (2), @tf.function has reduce_retracing=True option that can avoid unnecessary retracing. For (3), please refer to https://www.tensorflow.org/guide/function#controlling_retracing and https://www.tensorflow.org/api_docs/python/tf/function for  more details.\n",
      "1/1 [==============================] - 0s 28ms/step\n",
      "Test data:  tf.Tensor([60 64 68 72 76 80 84 88 92 96], shape=(10,), dtype=int32)\n",
      "Predictions:  [[54.6453  ]\n",
      " [58.180492]\n",
      " [61.715683]\n",
      " [65.25088 ]\n",
      " [68.78607 ]\n",
      " [72.32126 ]\n",
      " [75.85645 ]\n",
      " [79.39165 ]\n",
      " [82.926834]\n",
      " [86.46203 ]]\n",
      "Prediction length:  10\n"
     ]
    },
    {
     "data": {
      "image/png": "[encoded data removed]",
      "text/plain": [
       "<Figure size 1000x700 with 1 Axes>"
      ]
     },
     "metadata": {},
     "output_type": "display_data"
    }
   ],
   "source": [
    "# make and plot predictions\n",
    "y_preds_1 = model_1.predict(X_test)\n",
    "plot_predictions(predictions=y_preds_1)\n",
    "\n",
    "# convert y_preds_1 to tensor\n",
    "y_preds_1 = tf.constant(y_preds_1)"
   ]
  },
  {
   "cell_type": "code",
   "execution_count": 45,
   "id": "e5b32513",
   "metadata": {},
   "outputs": [
    {
     "name": "stdout",
     "output_type": "stream",
     "text": [
      "MAE:  17.446335\n",
      "MSE:  306.15698\n"
     ]
    }
   ],
   "source": [
    "# Calculate model_1 evaluation metrics\n",
    "results_1 = regression_metrics(y_test, y_preds_1)"
   ]
  },
  {
   "cell_type": "markdown",
   "id": "e682a43d",
   "metadata": {},
   "source": [
    "**Build `model_2`**\n",
    "\n",
    "2 Dense layers, trained for 100 epochs"
   ]
  },
  {
   "cell_type": "code",
   "execution_count": 46,
   "id": "03be86b9",
   "metadata": {},
   "outputs": [
    {
     "name": "stdout",
     "output_type": "stream",
     "text": [
      "Epoch 1/100\n",
      "2/2 [==============================] - 0s 56ms/step - loss: 50.4424 - mae: 50.4424\n",
      "Epoch 2/100\n",
      "2/2 [==============================] - 0s 10ms/step - loss: 37.8514 - mae: 37.8514\n",
      "Epoch 3/100\n",
      "2/2 [==============================] - 0s 8ms/step - loss: 26.7093 - mae: 26.7093\n",
      "Epoch 4/100\n",
      "2/2 [==============================] - 0s 10ms/step - loss: 14.7020 - mae: 14.7020\n",
      "Epoch 5/100\n",
      "2/2 [==============================] - 0s 8ms/step - loss: 6.3256 - mae: 6.3256\n",
      "Epoch 6/100\n",
      "2/2 [==============================] - 0s 10ms/step - loss: 10.8719 - mae: 10.8719\n",
      "Epoch 7/100\n",
      "2/2 [==============================] - 0s 8ms/step - loss: 13.0992 - mae: 13.0992\n",
      "Epoch 8/100\n",
      "2/2 [==============================] - 0s 9ms/step - loss: 10.6999 - mae: 10.6999\n",
      "Epoch 9/100\n",
      "2/2 [==============================] - 0s 9ms/step - loss: 6.8689 - mae: 6.8689\n",
      "Epoch 10/100\n",
      "2/2 [==============================] - 0s 8ms/step - loss: 5.4335 - mae: 5.4335\n",
      "Epoch 11/100\n",
      "2/2 [==============================] - 0s 9ms/step - loss: 6.4132 - mae: 6.4132\n",
      "Epoch 12/100\n",
      "2/2 [==============================] - 0s 8ms/step - loss: 7.1814 - mae: 7.1814\n",
      "Epoch 13/100\n",
      "2/2 [==============================] - 0s 10ms/step - loss: 5.6951 - mae: 5.6951\n",
      "Epoch 14/100\n",
      "2/2 [==============================] - 0s 8ms/step - loss: 3.8991 - mae: 3.8991\n",
      "Epoch 15/100\n",
      "2/2 [==============================] - 0s 9ms/step - loss: 5.1038 - mae: 5.1038\n",
      "Epoch 16/100\n",
      "2/2 [==============================] - 0s 9ms/step - loss: 5.5577 - mae: 5.5577\n",
      "Epoch 17/100\n",
      "2/2 [==============================] - 0s 9ms/step - loss: 4.4363 - mae: 4.4363\n",
      "Epoch 18/100\n",
      "2/2 [==============================] - 0s 9ms/step - loss: 4.1221 - mae: 4.1221\n",
      "Epoch 19/100\n",
      "2/2 [==============================] - 0s 8ms/step - loss: 4.4466 - mae: 4.4466\n",
      "Epoch 20/100\n",
      "2/2 [==============================] - 0s 11ms/step - loss: 4.3604 - mae: 4.3604\n",
      "Epoch 21/100\n",
      "2/2 [==============================] - 0s 9ms/step - loss: 3.9061 - mae: 3.9061\n",
      "Epoch 22/100\n",
      "2/2 [==============================] - 0s 9ms/step - loss: 4.1711 - mae: 4.1711\n",
      "Epoch 23/100\n",
      "2/2 [==============================] - 0s 8ms/step - loss: 4.1238 - mae: 4.1238\n",
      "Epoch 24/100\n",
      "2/2 [==============================] - 0s 10ms/step - loss: 3.8065 - mae: 3.8065\n",
      "Epoch 25/100\n",
      "2/2 [==============================] - 0s 8ms/step - loss: 3.9821 - mae: 3.9821\n",
      "Epoch 26/100\n",
      "2/2 [==============================] - 0s 11ms/step - loss: 3.9906 - mae: 3.9906\n",
      "Epoch 27/100\n",
      "2/2 [==============================] - 0s 9ms/step - loss: 3.7311 - mae: 3.7311\n",
      "Epoch 28/100\n",
      "2/2 [==============================] - 0s 10ms/step - loss: 3.5181 - mae: 3.5181\n",
      "Epoch 29/100\n",
      "2/2 [==============================] - 0s 9ms/step - loss: 3.7961 - mae: 3.7961\n",
      "Epoch 30/100\n",
      "2/2 [==============================] - 0s 11ms/step - loss: 3.6610 - mae: 3.6610\n",
      "Epoch 31/100\n",
      "2/2 [==============================] - 0s 9ms/step - loss: 3.5197 - mae: 3.5197\n",
      "Epoch 32/100\n",
      "2/2 [==============================] - 0s 10ms/step - loss: 3.5165 - mae: 3.5165\n",
      "Epoch 33/100\n",
      "2/2 [==============================] - 0s 8ms/step - loss: 3.4063 - mae: 3.4063\n",
      "Epoch 34/100\n",
      "2/2 [==============================] - 0s 11ms/step - loss: 3.2735 - mae: 3.2735\n",
      "Epoch 35/100\n",
      "2/2 [==============================] - 0s 9ms/step - loss: 3.3137 - mae: 3.3137\n",
      "Epoch 36/100\n",
      "2/2 [==============================] - 0s 11ms/step - loss: 3.2354 - mae: 3.2354\n",
      "Epoch 37/100\n",
      "2/2 [==============================] - 0s 9ms/step - loss: 3.1932 - mae: 3.1932\n",
      "Epoch 38/100\n",
      "2/2 [==============================] - 0s 11ms/step - loss: 3.1829 - mae: 3.1829\n",
      "Epoch 39/100\n",
      "2/2 [==============================] - 0s 8ms/step - loss: 3.0465 - mae: 3.0465\n",
      "Epoch 40/100\n",
      "2/2 [==============================] - 0s 9ms/step - loss: 3.0735 - mae: 3.0735\n",
      "Epoch 41/100\n",
      "2/2 [==============================] - 0s 9ms/step - loss: 2.9787 - mae: 2.9787\n",
      "Epoch 42/100\n",
      "2/2 [==============================] - 0s 10ms/step - loss: 2.9638 - mae: 2.9638\n",
      "Epoch 43/100\n",
      "2/2 [==============================] - 0s 12ms/step - loss: 3.0050 - mae: 3.0050\n",
      "Epoch 44/100\n",
      "2/2 [==============================] - 0s 9ms/step - loss: 2.8908 - mae: 2.8908\n",
      "Epoch 45/100\n",
      "2/2 [==============================] - 0s 10ms/step - loss: 2.9265 - mae: 2.9265\n",
      "Epoch 46/100\n",
      "2/2 [==============================] - 0s 10ms/step - loss: 2.7687 - mae: 2.7687\n",
      "Epoch 47/100\n",
      "2/2 [==============================] - 0s 10ms/step - loss: 2.7168 - mae: 2.7168\n",
      "Epoch 48/100\n",
      "2/2 [==============================] - 0s 10ms/step - loss: 2.6802 - mae: 2.6802\n",
      "Epoch 49/100\n",
      "2/2 [==============================] - 0s 8ms/step - loss: 2.6467 - mae: 2.6467\n",
      "Epoch 50/100\n",
      "2/2 [==============================] - 0s 10ms/step - loss: 2.6623 - mae: 2.6623\n",
      "Epoch 51/100\n",
      "2/2 [==============================] - 0s 8ms/step - loss: 2.6817 - mae: 2.6817\n",
      "Epoch 52/100\n",
      "2/2 [==============================] - 0s 11ms/step - loss: 2.5907 - mae: 2.5907\n",
      "Epoch 53/100\n",
      "2/2 [==============================] - 0s 8ms/step - loss: 2.4854 - mae: 2.4854\n",
      "Epoch 54/100\n",
      "2/2 [==============================] - 0s 9ms/step - loss: 2.7741 - mae: 2.7741\n",
      "Epoch 55/100\n",
      "2/2 [==============================] - 0s 8ms/step - loss: 2.3885 - mae: 2.3885\n",
      "Epoch 56/100\n",
      "2/2 [==============================] - 0s 8ms/step - loss: 2.6586 - mae: 2.6586\n",
      "Epoch 57/100\n",
      "2/2 [==============================] - 0s 9ms/step - loss: 2.2793 - mae: 2.2793\n",
      "Epoch 58/100\n",
      "2/2 [==============================] - 0s 8ms/step - loss: 2.5137 - mae: 2.5137\n",
      "Epoch 59/100\n",
      "2/2 [==============================] - 0s 8ms/step - loss: 2.2285 - mae: 2.2285\n",
      "Epoch 60/100\n",
      "2/2 [==============================] - 0s 9ms/step - loss: 2.5099 - mae: 2.5099\n",
      "Epoch 61/100\n",
      "2/2 [==============================] - 0s 7ms/step - loss: 2.1936 - mae: 2.1936\n",
      "Epoch 62/100\n",
      "2/2 [==============================] - 0s 8ms/step - loss: 2.2927 - mae: 2.2927\n",
      "Epoch 63/100\n",
      "2/2 [==============================] - 0s 9ms/step - loss: 1.8791 - mae: 1.8791\n",
      "Epoch 64/100\n",
      "2/2 [==============================] - 0s 7ms/step - loss: 1.9126 - mae: 1.9126\n",
      "Epoch 65/100\n",
      "2/2 [==============================] - 0s 10ms/step - loss: 1.7373 - mae: 1.7373\n",
      "Epoch 66/100\n",
      "2/2 [==============================] - 0s 8ms/step - loss: 1.6993 - mae: 1.6993\n",
      "Epoch 67/100\n",
      "2/2 [==============================] - 0s 8ms/step - loss: 1.7773 - mae: 1.7773\n",
      "Epoch 68/100\n",
      "2/2 [==============================] - 0s 8ms/step - loss: 1.6091 - mae: 1.6091\n",
      "Epoch 69/100\n",
      "2/2 [==============================] - 0s 8ms/step - loss: 1.5497 - mae: 1.5497\n",
      "Epoch 70/100\n",
      "2/2 [==============================] - 0s 9ms/step - loss: 1.5001 - mae: 1.5001\n",
      "Epoch 71/100\n",
      "2/2 [==============================] - 0s 9ms/step - loss: 1.3187 - mae: 1.3187\n",
      "Epoch 72/100\n",
      "2/2 [==============================] - 0s 8ms/step - loss: 1.3675 - mae: 1.3675\n",
      "Epoch 73/100\n",
      "2/2 [==============================] - 0s 9ms/step - loss: 1.1508 - mae: 1.1508\n",
      "Epoch 74/100\n",
      "2/2 [==============================] - 0s 9ms/step - loss: 1.5510 - mae: 1.5510\n",
      "Epoch 75/100\n",
      "2/2 [==============================] - 0s 8ms/step - loss: 1.0923 - mae: 1.0923\n",
      "Epoch 76/100\n",
      "2/2 [==============================] - 0s 8ms/step - loss: 1.0474 - mae: 1.0474\n",
      "Epoch 77/100\n",
      "2/2 [==============================] - 0s 7ms/step - loss: 0.7969 - mae: 0.7969\n",
      "Epoch 78/100\n",
      "2/2 [==============================] - 0s 7ms/step - loss: 0.9043 - mae: 0.9043\n",
      "Epoch 79/100\n",
      "2/2 [==============================] - 0s 9ms/step - loss: 0.7512 - mae: 0.7512\n",
      "Epoch 80/100\n",
      "2/2 [==============================] - 0s 8ms/step - loss: 0.7048 - mae: 0.7048\n",
      "Epoch 81/100\n",
      "2/2 [==============================] - 0s 8ms/step - loss: 1.0554 - mae: 1.0554\n",
      "Epoch 82/100\n",
      "2/2 [==============================] - 0s 9ms/step - loss: 0.5509 - mae: 0.5509\n",
      "Epoch 83/100\n",
      "2/2 [==============================] - 0s 7ms/step - loss: 0.4120 - mae: 0.4120\n",
      "Epoch 84/100\n",
      "2/2 [==============================] - 0s 9ms/step - loss: 0.5865 - mae: 0.5865\n",
      "Epoch 85/100\n",
      "2/2 [==============================] - 0s 9ms/step - loss: 0.7360 - mae: 0.7360\n",
      "Epoch 86/100\n",
      "2/2 [==============================] - 0s 7ms/step - loss: 0.5831 - mae: 0.5831\n",
      "Epoch 87/100\n",
      "2/2 [==============================] - 0s 10ms/step - loss: 0.9251 - mae: 0.9251\n",
      "Epoch 88/100\n"
     ]
    },
    {
     "name": "stdout",
     "output_type": "stream",
     "text": [
      "2/2 [==============================] - 0s 8ms/step - loss: 1.3328 - mae: 1.3328\n",
      "Epoch 89/100\n",
      "2/2 [==============================] - 0s 10ms/step - loss: 0.9189 - mae: 0.9189\n",
      "Epoch 90/100\n",
      "2/2 [==============================] - 0s 8ms/step - loss: 1.0913 - mae: 1.0913\n",
      "Epoch 91/100\n",
      "2/2 [==============================] - 0s 8ms/step - loss: 0.3850 - mae: 0.3850\n",
      "Epoch 92/100\n",
      "2/2 [==============================] - 0s 9ms/step - loss: 0.3770 - mae: 0.3770\n",
      "Epoch 93/100\n",
      "2/2 [==============================] - 0s 8ms/step - loss: 1.1515 - mae: 1.1515\n",
      "Epoch 94/100\n",
      "2/2 [==============================] - 0s 10ms/step - loss: 0.6275 - mae: 0.6275\n",
      "Epoch 95/100\n",
      "2/2 [==============================] - 0s 8ms/step - loss: 1.5394 - mae: 1.5394\n",
      "Epoch 96/100\n",
      "2/2 [==============================] - 0s 8ms/step - loss: 0.7296 - mae: 0.7296\n",
      "Epoch 97/100\n",
      "2/2 [==============================] - 0s 9ms/step - loss: 0.9385 - mae: 0.9385\n",
      "Epoch 98/100\n",
      "2/2 [==============================] - 0s 8ms/step - loss: 0.2836 - mae: 0.2836\n",
      "Epoch 99/100\n",
      "2/2 [==============================] - 0s 8ms/step - loss: 0.5593 - mae: 0.5593\n",
      "Epoch 100/100\n",
      "2/2 [==============================] - 0s 10ms/step - loss: 0.6299 - mae: 0.6299\n"
     ]
    },
    {
     "data": {
      "text/plain": [
       "<keras.callbacks.History at 0x7f7648448940>"
      ]
     },
     "execution_count": 46,
     "metadata": {},
     "output_type": "execute_result"
    }
   ],
   "source": [
    "# 1. Create the model\n",
    "model_2 = tf.keras.Sequential([\n",
    "    tf.keras.layers.Dense(100, activation=\"relu\"),\n",
    "    tf.keras.layers.Dense(1)\n",
    "])\n",
    "\n",
    "# 2. Compile model\n",
    "model_2.compile(loss=tf.keras.losses.mae,\n",
    "             optimizer=tf.keras.optimizers.Adam(lr=.01),\n",
    "             metrics=[\"mae\"])\n",
    "\n",
    "# 3. fit the model\n",
    "model_2.fit(tf.expand_dims(X, axis=-1), y, epochs=100)"
   ]
  },
  {
   "cell_type": "code",
   "execution_count": 47,
   "id": "46cae95e",
   "metadata": {},
   "outputs": [
    {
     "name": "stdout",
     "output_type": "stream",
     "text": [
      "WARNING:tensorflow:6 out of the last 6 calls to <function Model.make_predict_function.<locals>.predict_function at 0x7f764858e9e0> triggered tf.function retracing. Tracing is expensive and the excessive number of tracings could be due to (1) creating @tf.function repeatedly in a loop, (2) passing tensors with different shapes, (3) passing Python objects instead of tensors. For (1), please define your @tf.function outside of the loop. For (2), @tf.function has reduce_retracing=True option that can avoid unnecessary retracing. For (3), please refer to https://www.tensorflow.org/guide/function#controlling_retracing and https://www.tensorflow.org/api_docs/python/tf/function for  more details.\n",
      "1/1 [==============================] - 0s 33ms/step\n",
      "Test data:  tf.Tensor([60 64 68 72 76 80 84 88 92 96], shape=(10,), dtype=int32)\n",
      "Predictions:  [[ 69.39563 ]\n",
      " [ 73.36359 ]\n",
      " [ 77.33153 ]\n",
      " [ 81.299484]\n",
      " [ 85.267426]\n",
      " [ 89.23538 ]\n",
      " [ 93.20333 ]\n",
      " [ 97.17128 ]\n",
      " [101.13923 ]\n",
      " [105.10717 ]]\n",
      "Prediction length:  10\n"
     ]
    },
    {
     "data": {
      "image/png": "[encoded data removed]",
      "text/plain": [
       "<Figure size 1000x700 with 1 Axes>"
      ]
     },
     "metadata": {},
     "output_type": "display_data"
    }
   ],
   "source": [
    "# make predictions\n",
    "y_preds_2 = model_2.predict(X_test)\n",
    "len(y_preds_2), len(X_test), len(X_train), len(y_test)\n",
    "plot_predictions(predictions=y_preds_2)"
   ]
  },
  {
   "cell_type": "code",
   "execution_count": 48,
   "id": "16f5c865",
   "metadata": {},
   "outputs": [
    {
     "name": "stdout",
     "output_type": "stream",
     "text": [
      "MAE:  0.7485954\n",
      "MSE:  0.56887\n"
     ]
    }
   ],
   "source": [
    "# view evaluation metrics\n",
    "results_2 = regression_metrics(y_test, y_preds_2)\n",
    "results_2"
   ]
  },
  {
   "cell_type": "markdown",
   "id": "b4c69cd7",
   "metadata": {},
   "source": [
    "### Model 3"
   ]
  },
  {
   "cell_type": "code",
   "execution_count": 49,
   "id": "b9e70876",
   "metadata": {},
   "outputs": [
    {
     "name": "stdout",
     "output_type": "stream",
     "text": [
      "Epoch 1/200\n",
      "2/2 [==============================] - 0s 7ms/step - loss: 49.1069 - mae: 49.1069\n",
      "Epoch 2/200\n",
      "2/2 [==============================] - 0s 8ms/step - loss: 40.2175 - mae: 40.2175\n",
      "Epoch 3/200\n",
      "2/2 [==============================] - 0s 10ms/step - loss: 32.6021 - mae: 32.6021\n",
      "Epoch 4/200\n",
      "2/2 [==============================] - 0s 9ms/step - loss: 24.2707 - mae: 24.2707\n",
      "Epoch 5/200\n",
      "2/2 [==============================] - 0s 8ms/step - loss: 15.7727 - mae: 15.7727\n",
      "Epoch 6/200\n",
      "2/2 [==============================] - 0s 7ms/step - loss: 8.1114 - mae: 8.1114\n",
      "Epoch 7/200\n",
      "2/2 [==============================] - 0s 11ms/step - loss: 6.2285 - mae: 6.2285\n",
      "Epoch 8/200\n",
      "2/2 [==============================] - 0s 7ms/step - loss: 10.1051 - mae: 10.1051\n",
      "Epoch 9/200\n",
      "2/2 [==============================] - 0s 10ms/step - loss: 11.0453 - mae: 11.0453\n",
      "Epoch 10/200\n",
      "2/2 [==============================] - 0s 9ms/step - loss: 9.6346 - mae: 9.6346\n",
      "Epoch 11/200\n",
      "2/2 [==============================] - 0s 9ms/step - loss: 6.6431 - mae: 6.6431\n",
      "Epoch 12/200\n",
      "2/2 [==============================] - 0s 9ms/step - loss: 4.7649 - mae: 4.7649\n",
      "Epoch 13/200\n",
      "2/2 [==============================] - 0s 9ms/step - loss: 5.4027 - mae: 5.4027\n",
      "Epoch 14/200\n",
      "2/2 [==============================] - 0s 8ms/step - loss: 6.6609 - mae: 6.6609\n",
      "Epoch 15/200\n",
      "2/2 [==============================] - 0s 7ms/step - loss: 6.5998 - mae: 6.5998\n",
      "Epoch 16/200\n",
      "2/2 [==============================] - 0s 11ms/step - loss: 5.1754 - mae: 5.1754\n",
      "Epoch 17/200\n",
      "2/2 [==============================] - 0s 7ms/step - loss: 4.4430 - mae: 4.4430\n",
      "Epoch 18/200\n",
      "2/2 [==============================] - 0s 10ms/step - loss: 4.6437 - mae: 4.6437\n",
      "Epoch 19/200\n",
      "2/2 [==============================] - 0s 7ms/step - loss: 5.2892 - mae: 5.2892\n",
      "Epoch 20/200\n",
      "2/2 [==============================] - 0s 11ms/step - loss: 4.6669 - mae: 4.6669\n",
      "Epoch 21/200\n",
      "2/2 [==============================] - 0s 8ms/step - loss: 4.0218 - mae: 4.0218\n",
      "Epoch 22/200\n",
      "2/2 [==============================] - 0s 11ms/step - loss: 4.0152 - mae: 4.0152\n",
      "Epoch 23/200\n",
      "2/2 [==============================] - 0s 8ms/step - loss: 4.4244 - mae: 4.4244\n",
      "Epoch 24/200\n",
      "2/2 [==============================] - 0s 11ms/step - loss: 4.0767 - mae: 4.0767\n",
      "Epoch 25/200\n",
      "2/2 [==============================] - 0s 9ms/step - loss: 3.8162 - mae: 3.8162\n",
      "Epoch 26/200\n",
      "2/2 [==============================] - 0s 11ms/step - loss: 3.9629 - mae: 3.9629\n",
      "Epoch 27/200\n",
      "2/2 [==============================] - 0s 9ms/step - loss: 4.0132 - mae: 4.0132\n",
      "Epoch 28/200\n",
      "2/2 [==============================] - 0s 9ms/step - loss: 3.8046 - mae: 3.8046\n",
      "Epoch 29/200\n",
      "2/2 [==============================] - 0s 11ms/step - loss: 3.6265 - mae: 3.6265\n",
      "Epoch 30/200\n",
      "2/2 [==============================] - 0s 9ms/step - loss: 3.8488 - mae: 3.8488\n",
      "Epoch 31/200\n",
      "2/2 [==============================] - 0s 9ms/step - loss: 3.6920 - mae: 3.6920\n",
      "Epoch 32/200\n",
      "2/2 [==============================] - 0s 9ms/step - loss: 3.5652 - mae: 3.5652\n",
      "Epoch 33/200\n",
      "2/2 [==============================] - 0s 10ms/step - loss: 3.6390 - mae: 3.6390\n",
      "Epoch 34/200\n",
      "2/2 [==============================] - 0s 9ms/step - loss: 3.5835 - mae: 3.5835\n",
      "Epoch 35/200\n",
      "2/2 [==============================] - 0s 12ms/step - loss: 3.5047 - mae: 3.5047\n",
      "Epoch 36/200\n",
      "2/2 [==============================] - 0s 9ms/step - loss: 3.4156 - mae: 3.4156\n",
      "Epoch 37/200\n",
      "2/2 [==============================] - 0s 11ms/step - loss: 3.4071 - mae: 3.4071\n",
      "Epoch 38/200\n",
      "2/2 [==============================] - 0s 9ms/step - loss: 3.3745 - mae: 3.3745\n",
      "Epoch 39/200\n",
      "2/2 [==============================] - 0s 9ms/step - loss: 3.3484 - mae: 3.3484\n",
      "Epoch 40/200\n",
      "2/2 [==============================] - 0s 10ms/step - loss: 3.3132 - mae: 3.3132\n",
      "Epoch 41/200\n",
      "2/2 [==============================] - 0s 10ms/step - loss: 3.2652 - mae: 3.2652\n",
      "Epoch 42/200\n",
      "2/2 [==============================] - 0s 9ms/step - loss: 3.2143 - mae: 3.2143\n",
      "Epoch 43/200\n",
      "2/2 [==============================] - 0s 9ms/step - loss: 3.2000 - mae: 3.2000\n",
      "Epoch 44/200\n",
      "2/2 [==============================] - 0s 10ms/step - loss: 3.1612 - mae: 3.1612\n",
      "Epoch 45/200\n",
      "2/2 [==============================] - 0s 9ms/step - loss: 3.1342 - mae: 3.1342\n",
      "Epoch 46/200\n",
      "2/2 [==============================] - 0s 11ms/step - loss: 3.0858 - mae: 3.0858\n",
      "Epoch 47/200\n",
      "2/2 [==============================] - 0s 9ms/step - loss: 3.0366 - mae: 3.0366\n",
      "Epoch 48/200\n",
      "2/2 [==============================] - 0s 10ms/step - loss: 3.0099 - mae: 3.0099\n",
      "Epoch 49/200\n",
      "2/2 [==============================] - 0s 10ms/step - loss: 3.0578 - mae: 3.0578\n",
      "Epoch 50/200\n",
      "2/2 [==============================] - 0s 11ms/step - loss: 2.9477 - mae: 2.9477\n",
      "Epoch 51/200\n",
      "2/2 [==============================] - 0s 9ms/step - loss: 2.9433 - mae: 2.9433\n",
      "Epoch 52/200\n",
      "2/2 [==============================] - 0s 9ms/step - loss: 2.8596 - mae: 2.8596\n",
      "Epoch 53/200\n",
      "2/2 [==============================] - 0s 9ms/step - loss: 2.8969 - mae: 2.8969\n",
      "Epoch 54/200\n",
      "2/2 [==============================] - 0s 9ms/step - loss: 2.8609 - mae: 2.8609\n",
      "Epoch 55/200\n",
      "2/2 [==============================] - 0s 8ms/step - loss: 2.7369 - mae: 2.7369\n",
      "Epoch 56/200\n",
      "2/2 [==============================] - 0s 8ms/step - loss: 2.7425 - mae: 2.7425\n",
      "Epoch 57/200\n",
      "2/2 [==============================] - 0s 8ms/step - loss: 2.6869 - mae: 2.6869\n",
      "Epoch 58/200\n",
      "2/2 [==============================] - 0s 8ms/step - loss: 2.6347 - mae: 2.6347\n",
      "Epoch 59/200\n",
      "2/2 [==============================] - 0s 9ms/step - loss: 2.6985 - mae: 2.6985\n",
      "Epoch 60/200\n",
      "2/2 [==============================] - 0s 8ms/step - loss: 2.5620 - mae: 2.5620\n",
      "Epoch 61/200\n",
      "2/2 [==============================] - 0s 9ms/step - loss: 2.6538 - mae: 2.6538\n",
      "Epoch 62/200\n",
      "2/2 [==============================] - 0s 9ms/step - loss: 2.6119 - mae: 2.6119\n",
      "Epoch 63/200\n",
      "2/2 [==============================] - 0s 7ms/step - loss: 2.6517 - mae: 2.6517\n",
      "Epoch 64/200\n",
      "2/2 [==============================] - 0s 9ms/step - loss: 2.9760 - mae: 2.9760\n",
      "Epoch 65/200\n",
      "2/2 [==============================] - 0s 8ms/step - loss: 2.7980 - mae: 2.7980\n",
      "Epoch 66/200\n",
      "2/2 [==============================] - 0s 8ms/step - loss: 2.3737 - mae: 2.3737\n",
      "Epoch 67/200\n",
      "2/2 [==============================] - 0s 8ms/step - loss: 2.7392 - mae: 2.7392\n",
      "Epoch 68/200\n",
      "2/2 [==============================] - 0s 7ms/step - loss: 2.2823 - mae: 2.2823\n",
      "Epoch 69/200\n",
      "2/2 [==============================] - 0s 7ms/step - loss: 2.3496 - mae: 2.3496\n",
      "Epoch 70/200\n",
      "2/2 [==============================] - 0s 8ms/step - loss: 2.3926 - mae: 2.3926\n",
      "Epoch 71/200\n",
      "2/2 [==============================] - 0s 9ms/step - loss: 2.1007 - mae: 2.1007\n",
      "Epoch 72/200\n",
      "2/2 [==============================] - 0s 8ms/step - loss: 2.1196 - mae: 2.1196\n",
      "Epoch 73/200\n",
      "2/2 [==============================] - 0s 8ms/step - loss: 2.1097 - mae: 2.1097\n",
      "Epoch 74/200\n",
      "2/2 [==============================] - 0s 9ms/step - loss: 2.1331 - mae: 2.1331\n",
      "Epoch 75/200\n",
      "2/2 [==============================] - 0s 7ms/step - loss: 2.0613 - mae: 2.0613\n",
      "Epoch 76/200\n",
      "2/2 [==============================] - 0s 9ms/step - loss: 1.9126 - mae: 1.9126\n",
      "Epoch 77/200\n",
      "2/2 [==============================] - 0s 8ms/step - loss: 2.0715 - mae: 2.0715\n",
      "Epoch 78/200\n",
      "2/2 [==============================] - 0s 7ms/step - loss: 1.8416 - mae: 1.8416\n",
      "Epoch 79/200\n",
      "2/2 [==============================] - 0s 8ms/step - loss: 1.7974 - mae: 1.7974\n",
      "Epoch 80/200\n",
      "2/2 [==============================] - 0s 9ms/step - loss: 1.7670 - mae: 1.7670\n",
      "Epoch 81/200\n",
      "2/2 [==============================] - 0s 8ms/step - loss: 1.5937 - mae: 1.5937\n",
      "Epoch 82/200\n",
      "2/2 [==============================] - 0s 10ms/step - loss: 1.5472 - mae: 1.5472\n",
      "Epoch 83/200\n",
      "2/2 [==============================] - 0s 8ms/step - loss: 1.4791 - mae: 1.4791\n",
      "Epoch 84/200\n",
      "2/2 [==============================] - 0s 8ms/step - loss: 1.4226 - mae: 1.4226\n",
      "Epoch 85/200\n",
      "2/2 [==============================] - 0s 10ms/step - loss: 1.3372 - mae: 1.3372\n",
      "Epoch 86/200\n",
      "2/2 [==============================] - 0s 7ms/step - loss: 1.3065 - mae: 1.3065\n",
      "Epoch 87/200\n",
      "2/2 [==============================] - 0s 9ms/step - loss: 1.2950 - mae: 1.2950\n",
      "Epoch 88/200\n"
     ]
    },
    {
     "name": "stdout",
     "output_type": "stream",
     "text": [
      "2/2 [==============================] - 0s 9ms/step - loss: 1.2146 - mae: 1.2146\n",
      "Epoch 89/200\n",
      "2/2 [==============================] - 0s 9ms/step - loss: 1.3006 - mae: 1.3006\n",
      "Epoch 90/200\n",
      "2/2 [==============================] - 0s 9ms/step - loss: 1.1014 - mae: 1.1014\n",
      "Epoch 91/200\n",
      "2/2 [==============================] - 0s 7ms/step - loss: 1.1059 - mae: 1.1059\n",
      "Epoch 92/200\n",
      "2/2 [==============================] - 0s 8ms/step - loss: 1.0389 - mae: 1.0389\n",
      "Epoch 93/200\n",
      "2/2 [==============================] - 0s 8ms/step - loss: 0.8204 - mae: 0.8204\n",
      "Epoch 94/200\n",
      "2/2 [==============================] - 0s 7ms/step - loss: 1.0415 - mae: 1.0415\n",
      "Epoch 95/200\n",
      "2/2 [==============================] - 0s 9ms/step - loss: 0.8033 - mae: 0.8033\n",
      "Epoch 96/200\n",
      "2/2 [==============================] - 0s 9ms/step - loss: 0.7615 - mae: 0.7615\n",
      "Epoch 97/200\n",
      "2/2 [==============================] - 0s 7ms/step - loss: 0.9206 - mae: 0.9206\n",
      "Epoch 98/200\n",
      "2/2 [==============================] - 0s 10ms/step - loss: 0.4297 - mae: 0.4297\n",
      "Epoch 99/200\n",
      "2/2 [==============================] - 0s 7ms/step - loss: 0.5386 - mae: 0.5386\n",
      "Epoch 100/200\n",
      "2/2 [==============================] - 0s 8ms/step - loss: 0.4211 - mae: 0.4211\n",
      "Epoch 101/200\n",
      "2/2 [==============================] - 0s 10ms/step - loss: 0.4533 - mae: 0.4533\n",
      "Epoch 102/200\n",
      "2/2 [==============================] - 0s 7ms/step - loss: 0.7274 - mae: 0.7274\n",
      "Epoch 103/200\n",
      "2/2 [==============================] - 0s 9ms/step - loss: 0.8477 - mae: 0.8477\n",
      "Epoch 104/200\n",
      "2/2 [==============================] - 0s 8ms/step - loss: 0.5225 - mae: 0.5225\n",
      "Epoch 105/200\n",
      "2/2 [==============================] - 0s 7ms/step - loss: 1.0165 - mae: 1.0165\n",
      "Epoch 106/200\n",
      "2/2 [==============================] - 0s 8ms/step - loss: 0.8789 - mae: 0.8789\n",
      "Epoch 107/200\n",
      "2/2 [==============================] - 0s 9ms/step - loss: 0.5579 - mae: 0.5579\n",
      "Epoch 108/200\n",
      "2/2 [==============================] - 0s 7ms/step - loss: 0.4440 - mae: 0.4440\n",
      "Epoch 109/200\n",
      "2/2 [==============================] - 0s 10ms/step - loss: 0.7476 - mae: 0.7476\n",
      "Epoch 110/200\n",
      "2/2 [==============================] - 0s 8ms/step - loss: 0.5249 - mae: 0.5249\n",
      "Epoch 111/200\n",
      "2/2 [==============================] - 0s 8ms/step - loss: 1.3007 - mae: 1.3007\n",
      "Epoch 112/200\n",
      "2/2 [==============================] - 0s 9ms/step - loss: 1.4903 - mae: 1.4903\n",
      "Epoch 113/200\n",
      "2/2 [==============================] - 0s 7ms/step - loss: 1.1985 - mae: 1.1985\n",
      "Epoch 114/200\n",
      "2/2 [==============================] - 0s 8ms/step - loss: 0.8673 - mae: 0.8673\n",
      "Epoch 115/200\n",
      "2/2 [==============================] - 0s 9ms/step - loss: 1.1039 - mae: 1.1039\n",
      "Epoch 116/200\n",
      "2/2 [==============================] - 0s 7ms/step - loss: 1.1132 - mae: 1.1132\n",
      "Epoch 117/200\n",
      "2/2 [==============================] - 0s 10ms/step - loss: 0.6923 - mae: 0.6923\n",
      "Epoch 118/200\n",
      "2/2 [==============================] - 0s 9ms/step - loss: 0.5237 - mae: 0.5237\n",
      "Epoch 119/200\n",
      "2/2 [==============================] - 0s 8ms/step - loss: 0.6501 - mae: 0.6501\n",
      "Epoch 120/200\n",
      "2/2 [==============================] - 0s 9ms/step - loss: 0.7960 - mae: 0.7960\n",
      "Epoch 121/200\n",
      "2/2 [==============================] - 0s 7ms/step - loss: 1.5311 - mae: 1.5311\n",
      "Epoch 122/200\n",
      "2/2 [==============================] - 0s 7ms/step - loss: 0.7860 - mae: 0.7860\n",
      "Epoch 123/200\n",
      "2/2 [==============================] - 0s 9ms/step - loss: 1.1014 - mae: 1.1014\n",
      "Epoch 124/200\n",
      "2/2 [==============================] - 0s 7ms/step - loss: 0.8481 - mae: 0.8481\n",
      "Epoch 125/200\n",
      "2/2 [==============================] - 0s 10ms/step - loss: 0.5678 - mae: 0.5678\n",
      "Epoch 126/200\n",
      "2/2 [==============================] - 0s 8ms/step - loss: 0.3894 - mae: 0.3894\n",
      "Epoch 127/200\n",
      "2/2 [==============================] - 0s 8ms/step - loss: 0.4206 - mae: 0.4206\n",
      "Epoch 128/200\n",
      "2/2 [==============================] - 0s 10ms/step - loss: 0.2855 - mae: 0.2855\n",
      "Epoch 129/200\n",
      "2/2 [==============================] - 0s 8ms/step - loss: 0.2671 - mae: 0.2671\n",
      "Epoch 130/200\n",
      "2/2 [==============================] - 0s 9ms/step - loss: 0.4838 - mae: 0.4838\n",
      "Epoch 131/200\n",
      "2/2 [==============================] - 0s 8ms/step - loss: 0.6963 - mae: 0.6963\n",
      "Epoch 132/200\n",
      "2/2 [==============================] - 0s 9ms/step - loss: 0.5477 - mae: 0.5477\n",
      "Epoch 133/200\n",
      "2/2 [==============================] - 0s 9ms/step - loss: 0.4629 - mae: 0.4629\n",
      "Epoch 134/200\n",
      "2/2 [==============================] - 0s 7ms/step - loss: 0.4511 - mae: 0.4511\n",
      "Epoch 135/200\n",
      "2/2 [==============================] - 0s 8ms/step - loss: 0.1923 - mae: 0.1923\n",
      "Epoch 136/200\n",
      "2/2 [==============================] - 0s 9ms/step - loss: 0.4656 - mae: 0.4656\n",
      "Epoch 137/200\n",
      "2/2 [==============================] - 0s 9ms/step - loss: 0.3410 - mae: 0.3410\n",
      "Epoch 138/200\n",
      "2/2 [==============================] - 0s 8ms/step - loss: 0.4100 - mae: 0.4100\n",
      "Epoch 139/200\n",
      "2/2 [==============================] - 0s 8ms/step - loss: 0.2460 - mae: 0.2460\n",
      "Epoch 140/200\n",
      "2/2 [==============================] - 0s 10ms/step - loss: 0.5779 - mae: 0.5779\n",
      "Epoch 141/200\n",
      "2/2 [==============================] - 0s 8ms/step - loss: 0.6294 - mae: 0.6294\n",
      "Epoch 142/200\n",
      "2/2 [==============================] - 0s 10ms/step - loss: 0.9061 - mae: 0.9061\n",
      "Epoch 143/200\n",
      "2/2 [==============================] - 0s 8ms/step - loss: 0.4245 - mae: 0.4245\n",
      "Epoch 144/200\n",
      "2/2 [==============================] - 0s 8ms/step - loss: 0.9385 - mae: 0.9385\n",
      "Epoch 145/200\n",
      "2/2 [==============================] - 0s 10ms/step - loss: 0.3784 - mae: 0.3784\n",
      "Epoch 146/200\n",
      "2/2 [==============================] - 0s 8ms/step - loss: 0.6531 - mae: 0.6531\n",
      "Epoch 147/200\n",
      "2/2 [==============================] - 0s 9ms/step - loss: 0.2062 - mae: 0.2062\n",
      "Epoch 148/200\n",
      "2/2 [==============================] - 0s 8ms/step - loss: 0.2588 - mae: 0.2588\n",
      "Epoch 149/200\n",
      "2/2 [==============================] - 0s 9ms/step - loss: 0.3204 - mae: 0.3204\n",
      "Epoch 150/200\n",
      "2/2 [==============================] - 0s 9ms/step - loss: 1.0687 - mae: 1.0687\n",
      "Epoch 151/200\n",
      "2/2 [==============================] - 0s 8ms/step - loss: 0.7587 - mae: 0.7587\n",
      "Epoch 152/200\n",
      "2/2 [==============================] - 0s 11ms/step - loss: 0.9156 - mae: 0.9156\n",
      "Epoch 153/200\n",
      "2/2 [==============================] - 0s 8ms/step - loss: 1.6043 - mae: 1.6043\n",
      "Epoch 154/200\n",
      "2/2 [==============================] - 0s 11ms/step - loss: 0.4609 - mae: 0.4609\n",
      "Epoch 155/200\n",
      "2/2 [==============================] - 0s 8ms/step - loss: 0.7906 - mae: 0.7906\n",
      "Epoch 156/200\n",
      "2/2 [==============================] - 0s 10ms/step - loss: 0.7236 - mae: 0.7236\n",
      "Epoch 157/200\n",
      "2/2 [==============================] - 0s 9ms/step - loss: 0.8645 - mae: 0.8645\n",
      "Epoch 158/200\n",
      "2/2 [==============================] - 0s 8ms/step - loss: 0.4203 - mae: 0.4203\n",
      "Epoch 159/200\n",
      "2/2 [==============================] - 0s 10ms/step - loss: 0.6171 - mae: 0.6171\n",
      "Epoch 160/200\n",
      "2/2 [==============================] - 0s 9ms/step - loss: 0.3903 - mae: 0.3903\n",
      "Epoch 161/200\n",
      "2/2 [==============================] - 0s 10ms/step - loss: 0.7410 - mae: 0.7410\n",
      "Epoch 162/200\n",
      "2/2 [==============================] - 0s 7ms/step - loss: 0.4470 - mae: 0.4470\n",
      "Epoch 163/200\n",
      "2/2 [==============================] - 0s 10ms/step - loss: 0.7226 - mae: 0.7226\n",
      "Epoch 164/200\n",
      "2/2 [==============================] - 0s 7ms/step - loss: 0.5020 - mae: 0.5020\n",
      "Epoch 165/200\n",
      "2/2 [==============================] - 0s 8ms/step - loss: 0.8588 - mae: 0.8588\n",
      "Epoch 166/200\n",
      "2/2 [==============================] - 0s 9ms/step - loss: 0.9692 - mae: 0.9692\n",
      "Epoch 167/200\n",
      "2/2 [==============================] - 0s 9ms/step - loss: 0.4028 - mae: 0.4028\n",
      "Epoch 168/200\n",
      "2/2 [==============================] - 0s 9ms/step - loss: 0.6972 - mae: 0.6972\n",
      "Epoch 169/200\n",
      "2/2 [==============================] - 0s 7ms/step - loss: 0.2378 - mae: 0.2378\n",
      "Epoch 170/200\n",
      "2/2 [==============================] - 0s 8ms/step - loss: 0.2611 - mae: 0.2611\n",
      "Epoch 171/200\n",
      "2/2 [==============================] - 0s 9ms/step - loss: 0.3375 - mae: 0.3375\n",
      "Epoch 172/200\n",
      "2/2 [==============================] - 0s 8ms/step - loss: 0.4507 - mae: 0.4507\n",
      "Epoch 173/200\n",
      "2/2 [==============================] - 0s 10ms/step - loss: 0.4207 - mae: 0.4207\n",
      "Epoch 174/200\n",
      "2/2 [==============================] - 0s 8ms/step - loss: 0.7269 - mae: 0.7269\n",
      "Epoch 175/200\n"
     ]
    },
    {
     "name": "stdout",
     "output_type": "stream",
     "text": [
      "2/2 [==============================] - 0s 9ms/step - loss: 0.3307 - mae: 0.3307\n",
      "Epoch 176/200\n",
      "2/2 [==============================] - 0s 10ms/step - loss: 0.8493 - mae: 0.8493\n",
      "Epoch 177/200\n",
      "2/2 [==============================] - 0s 10ms/step - loss: 0.2801 - mae: 0.2801\n",
      "Epoch 178/200\n",
      "2/2 [==============================] - 0s 7ms/step - loss: 0.9246 - mae: 0.9246\n",
      "Epoch 179/200\n",
      "2/2 [==============================] - 0s 9ms/step - loss: 0.4938 - mae: 0.4938\n",
      "Epoch 180/200\n",
      "2/2 [==============================] - 0s 9ms/step - loss: 0.5789 - mae: 0.5789\n",
      "Epoch 181/200\n",
      "2/2 [==============================] - 0s 9ms/step - loss: 0.4084 - mae: 0.4084\n",
      "Epoch 182/200\n",
      "2/2 [==============================] - 0s 9ms/step - loss: 0.2398 - mae: 0.2398\n",
      "Epoch 183/200\n",
      "2/2 [==============================] - 0s 7ms/step - loss: 0.2026 - mae: 0.2026\n",
      "Epoch 184/200\n",
      "2/2 [==============================] - 0s 10ms/step - loss: 0.6219 - mae: 0.6219\n",
      "Epoch 185/200\n",
      "2/2 [==============================] - 0s 8ms/step - loss: 0.6359 - mae: 0.6359\n",
      "Epoch 186/200\n",
      "2/2 [==============================] - 0s 8ms/step - loss: 0.4416 - mae: 0.4416\n",
      "Epoch 187/200\n",
      "2/2 [==============================] - 0s 10ms/step - loss: 0.4435 - mae: 0.4435\n",
      "Epoch 188/200\n",
      "2/2 [==============================] - 0s 7ms/step - loss: 0.9652 - mae: 0.9652\n",
      "Epoch 189/200\n",
      "2/2 [==============================] - 0s 9ms/step - loss: 0.4245 - mae: 0.4245\n",
      "Epoch 190/200\n",
      "2/2 [==============================] - 0s 7ms/step - loss: 0.8617 - mae: 0.8617\n",
      "Epoch 191/200\n",
      "2/2 [==============================] - 0s 9ms/step - loss: 1.4356 - mae: 1.4356\n",
      "Epoch 192/200\n",
      "2/2 [==============================] - 0s 10ms/step - loss: 0.5765 - mae: 0.5765\n",
      "Epoch 193/200\n",
      "2/2 [==============================] - 0s 8ms/step - loss: 1.6923 - mae: 1.6923\n",
      "Epoch 194/200\n",
      "2/2 [==============================] - 0s 10ms/step - loss: 0.9260 - mae: 0.9260\n",
      "Epoch 195/200\n",
      "2/2 [==============================] - 0s 8ms/step - loss: 1.3405 - mae: 1.3405\n",
      "Epoch 196/200\n",
      "2/2 [==============================] - 0s 10ms/step - loss: 1.7580 - mae: 1.7580\n",
      "Epoch 197/200\n",
      "2/2 [==============================] - 0s 7ms/step - loss: 0.6795 - mae: 0.6795\n",
      "Epoch 198/200\n",
      "2/2 [==============================] - 0s 9ms/step - loss: 1.6837 - mae: 1.6837\n",
      "Epoch 199/200\n",
      "2/2 [==============================] - 0s 8ms/step - loss: 1.2031 - mae: 1.2031\n",
      "Epoch 200/200\n",
      "2/2 [==============================] - 0s 8ms/step - loss: 0.5235 - mae: 0.5235\n"
     ]
    },
    {
     "data": {
      "text/plain": [
       "<keras.callbacks.History at 0x7f764836e500>"
      ]
     },
     "execution_count": 49,
     "metadata": {},
     "output_type": "execute_result"
    }
   ],
   "source": [
    "# 1. Create the model\n",
    "model_3 = tf.keras.Sequential([\n",
    "    tf.keras.layers.Dense(50, activation=\"relu\"),\n",
    "    tf.keras.layers.Dense(1)\n",
    "])\n",
    "\n",
    "# 2. Compile the model\n",
    "model_3.compile(loss=tf.keras.losses.mae,\n",
    "               optimizer=tf.keras.optimizers.Adam(lr=.01),\n",
    "               metrics=[\"mae\"])\n",
    "\n",
    "# 3. Fit the model\n",
    "model_3.fit(tf.expand_dims(X, axis=-1), y, epochs=200)"
   ]
  },
  {
   "cell_type": "code",
   "execution_count": 50,
   "id": "25ebbe47",
   "metadata": {},
   "outputs": [
    {
     "name": "stdout",
     "output_type": "stream",
     "text": [
      "1/1 [==============================] - 0s 33ms/step\n",
      "Test data:  tf.Tensor([60 64 68 72 76 80 84 88 92 96], shape=(10,), dtype=int32)\n",
      "Predictions:  [[ 66.67817 ]\n",
      " [ 70.4803  ]\n",
      " [ 74.28243 ]\n",
      " [ 78.08457 ]\n",
      " [ 81.8867  ]\n",
      " [ 85.688835]\n",
      " [ 89.49097 ]\n",
      " [ 93.2931  ]\n",
      " [ 97.09523 ]\n",
      " [100.89798 ]]\n",
      "Prediction length:  10\n"
     ]
    },
    {
     "data": {
      "image/png": "[encoded data removed]",
      "text/plain": [
       "<Figure size 1000x700 with 1 Axes>"
      ]
     },
     "metadata": {},
     "output_type": "display_data"
    }
   ],
   "source": [
    "# make predictions and plot\n",
    "y_preds_3 = model_3.predict(X_test)\n",
    "plot_predictions(predictions=y_preds_3)"
   ]
  },
  {
   "cell_type": "code",
   "execution_count": 51,
   "id": "3edaeef6",
   "metadata": {},
   "outputs": [
    {
     "name": "stdout",
     "output_type": "stream",
     "text": [
      "MAE:  4.212171\n",
      "MSE:  18.065277\n"
     ]
    }
   ],
   "source": [
    "# evaluate\n",
    "results_3 = regression_metrics(y_test, y_preds_3)\n",
    "results_3"
   ]
  },
  {
   "cell_type": "markdown",
   "id": "6efec745",
   "metadata": {},
   "source": [
    "## Tracking your experiements\n",
    "\n",
    "One really good habit in machine learning modeling is to track the results of your experiements\n",
    "\n",
    "Tools:\n",
    "* TensorBoard - component of TensorFlow library to help track modeling experiments\n",
    "* Weights & Biases - a tool for tracking various experiments and plugs into TensorBoard"
   ]
  },
  {
   "cell_type": "markdown",
   "id": "f070f34a",
   "metadata": {},
   "source": [
    "## Savings our models\n",
    "\n",
    "Share them with others or implement them in various systems\n",
    "\n",
    "1. SavedModel format\n",
    "2. HDF5 format"
   ]
  },
  {
   "cell_type": "code",
   "execution_count": 52,
   "id": "66c27adb",
   "metadata": {},
   "outputs": [
    {
     "name": "stdout",
     "output_type": "stream",
     "text": [
      "INFO:tensorflow:Assets written to: models/assets\n"
     ]
    }
   ],
   "source": [
    "# Save model in SavedModel format\n",
    "model_2.save(\"models/\")\n",
    "\n",
    "# Save model in HDF5 format\n",
    "model_2.save(\"models/model_HDF5.h5\")"
   ]
  },
  {
   "cell_type": "markdown",
   "id": "8ec7298e",
   "metadata": {},
   "source": [
    "## Loading in a saved model"
   ]
  },
  {
   "cell_type": "code",
   "execution_count": 53,
   "id": "9d9451f6",
   "metadata": {},
   "outputs": [
    {
     "name": "stdout",
     "output_type": "stream",
     "text": [
      "Model: \"sequential_6\"\n",
      "_________________________________________________________________\n",
      " Layer (type)                Output Shape              Param #   \n",
      "=================================================================\n",
      " dense_9 (Dense)             (None, 100)               200       \n",
      "                                                                 \n",
      " dense_10 (Dense)            (None, 1)                 101       \n",
      "                                                                 \n",
      "=================================================================\n",
      "Total params: 301\n",
      "Trainable params: 301\n",
      "Non-trainable params: 0\n",
      "_________________________________________________________________\n"
     ]
    }
   ],
   "source": [
    "# Load in SavedModel format\n",
    "loaded_SavedModel_format = tf.keras.models.load_model(\"models\")\n",
    "loaded_SavedModel_format.summary()"
   ]
  },
  {
   "cell_type": "code",
   "execution_count": 54,
   "id": "1e1e47e3",
   "metadata": {},
   "outputs": [
    {
     "name": "stdout",
     "output_type": "stream",
     "text": [
      "1/1 [==============================] - 0s 21ms/step\n",
      "1/1 [==============================] - 0s 32ms/step\n"
     ]
    },
    {
     "data": {
      "text/plain": [
       "array([[ True],\n",
       "       [ True],\n",
       "       [ True],\n",
       "       [ True],\n",
       "       [ True],\n",
       "       [ True],\n",
       "       [ True],\n",
       "       [ True],\n",
       "       [ True],\n",
       "       [ True]])"
      ]
     },
     "execution_count": 54,
     "metadata": {},
     "output_type": "execute_result"
    }
   ],
   "source": [
    "# Compare model 2 predictions to SavedModel format to test/confirm theyre the same models\n",
    "model_2_preds = model_2.predict(X_test)\n",
    "loaded_SavedModel_format_preds = loaded_SavedModel_format.predict(X_test)\n",
    "\n",
    "model_2_preds == loaded_SavedModel_format_preds"
   ]
  },
  {
   "cell_type": "code",
   "execution_count": 55,
   "id": "b2d23064",
   "metadata": {},
   "outputs": [],
   "source": [
    "# Load in the model in HDF5 format\n",
    "loaded_h5_format = tf.keras.models.load_model(\"models/model_HDF5.h5\")"
   ]
  },
  {
   "cell_type": "code",
   "execution_count": 56,
   "id": "21d4c4e1",
   "metadata": {},
   "outputs": [
    {
     "name": "stdout",
     "output_type": "stream",
     "text": [
      "Model: \"sequential_6\"\n",
      "_________________________________________________________________\n",
      " Layer (type)                Output Shape              Param #   \n",
      "=================================================================\n",
      " dense_9 (Dense)             (None, 100)               200       \n",
      "                                                                 \n",
      " dense_10 (Dense)            (None, 1)                 101       \n",
      "                                                                 \n",
      "=================================================================\n",
      "Total params: 301\n",
      "Trainable params: 301\n",
      "Non-trainable params: 0\n",
      "_________________________________________________________________\n"
     ]
    }
   ],
   "source": [
    "loaded_h5_format.summary()"
   ]
  },
  {
   "cell_type": "code",
   "execution_count": 57,
   "id": "b1847c5d",
   "metadata": {},
   "outputs": [
    {
     "name": "stdout",
     "output_type": "stream",
     "text": [
      "1/1 [==============================] - 0s 32ms/step\n",
      "1/1 [==============================] - 0s 15ms/step\n"
     ]
    },
    {
     "data": {
      "text/plain": [
       "array([[ True],\n",
       "       [ True],\n",
       "       [ True],\n",
       "       [ True],\n",
       "       [ True],\n",
       "       [ True],\n",
       "       [ True],\n",
       "       [ True],\n",
       "       [ True],\n",
       "       [ True]])"
      ]
     },
     "execution_count": 57,
     "metadata": {},
     "output_type": "execute_result"
    }
   ],
   "source": [
    "# compare prediciton outputs\n",
    "loaded_h5_format_preds = loaded_h5_format.predict(X_test)\n",
    "\n",
    "loaded_h5_format_preds == model_2.predict(X_test)"
   ]
  },
  {
   "cell_type": "markdown",
   "id": "ae2b2b5e",
   "metadata": {},
   "source": [
    "## A Larger example"
   ]
  },
  {
   "cell_type": "code",
   "execution_count": 58,
   "id": "215aee5d",
   "metadata": {},
   "outputs": [],
   "source": [
    "# import libraries\n",
    "import tensorflow as tf\n",
    "import pandas as pd\n",
    "import matplotlib.pyplot as plt"
   ]
  },
  {
   "cell_type": "markdown",
   "id": "e49e8ae1",
   "metadata": {},
   "source": [
    "**NOTE:** I have stored the dataset locally at `data/insurance.csv`. The source of the file was a Kaggle competition and the file was hosted on Github <a href=\"https://raw.githubusercontent.com/stedy/Machine-Learning-with-R-datasets/master/insurance.csv\">here.</a>"
   ]
  },
  {
   "cell_type": "code",
   "execution_count": 59,
   "id": "0233158c",
   "metadata": {},
   "outputs": [],
   "source": [
    "# read in csv file\n",
    "insurance = pd.read_csv(\"data/insurance.csv\")"
   ]
  },
  {
   "cell_type": "code",
   "execution_count": 60,
   "id": "69d34012",
   "metadata": {},
   "outputs": [
    {
     "data": {
      "text/html": [
       "<div>\n",
       "<style scoped>\n",
       "    .dataframe tbody tr th:only-of-type {\n",
       "        vertical-align: middle;\n",
       "    }\n",
       "\n",
       "    .dataframe tbody tr th {\n",
       "        vertical-align: top;\n",
       "    }\n",
       "\n",
       "    .dataframe thead th {\n",
       "        text-align: right;\n",
       "    }\n",
       "</style>\n",
       "<table border=\"1\" class=\"dataframe\">\n",
       "  <thead>\n",
       "    <tr style=\"text-align: right;\">\n",
       "      <th></th>\n",
       "      <th>age</th>\n",
       "      <th>sex</th>\n",
       "      <th>bmi</th>\n",
       "      <th>children</th>\n",
       "      <th>smoker</th>\n",
       "      <th>region</th>\n",
       "      <th>charges</th>\n",
       "    </tr>\n",
       "  </thead>\n",
       "  <tbody>\n",
       "    <tr>\n",
       "      <th>0</th>\n",
       "      <td>19</td>\n",
       "      <td>female</td>\n",
       "      <td>27.900</td>\n",
       "      <td>0</td>\n",
       "      <td>yes</td>\n",
       "      <td>southwest</td>\n",
       "      <td>16884.92400</td>\n",
       "    </tr>\n",
       "    <tr>\n",
       "      <th>1</th>\n",
       "      <td>18</td>\n",
       "      <td>male</td>\n",
       "      <td>33.770</td>\n",
       "      <td>1</td>\n",
       "      <td>no</td>\n",
       "      <td>southeast</td>\n",
       "      <td>1725.55230</td>\n",
       "    </tr>\n",
       "    <tr>\n",
       "      <th>2</th>\n",
       "      <td>28</td>\n",
       "      <td>male</td>\n",
       "      <td>33.000</td>\n",
       "      <td>3</td>\n",
       "      <td>no</td>\n",
       "      <td>southeast</td>\n",
       "      <td>4449.46200</td>\n",
       "    </tr>\n",
       "    <tr>\n",
       "      <th>3</th>\n",
       "      <td>33</td>\n",
       "      <td>male</td>\n",
       "      <td>22.705</td>\n",
       "      <td>0</td>\n",
       "      <td>no</td>\n",
       "      <td>northwest</td>\n",
       "      <td>21984.47061</td>\n",
       "    </tr>\n",
       "    <tr>\n",
       "      <th>4</th>\n",
       "      <td>32</td>\n",
       "      <td>male</td>\n",
       "      <td>28.880</td>\n",
       "      <td>0</td>\n",
       "      <td>no</td>\n",
       "      <td>northwest</td>\n",
       "      <td>3866.85520</td>\n",
       "    </tr>\n",
       "  </tbody>\n",
       "</table>\n",
       "</div>"
      ],
      "text/plain": [
       "   age     sex     bmi  children smoker     region      charges\n",
       "0   19  female  27.900         0    yes  southwest  16884.92400\n",
       "1   18    male  33.770         1     no  southeast   1725.55230\n",
       "2   28    male  33.000         3     no  southeast   4449.46200\n",
       "3   33    male  22.705         0     no  northwest  21984.47061\n",
       "4   32    male  28.880         0     no  northwest   3866.85520"
      ]
     },
     "execution_count": 60,
     "metadata": {},
     "output_type": "execute_result"
    }
   ],
   "source": [
    "# view a bit of the data\n",
    "insurance.head()"
   ]
  },
  {
   "cell_type": "code",
   "execution_count": 61,
   "id": "9ac2770e",
   "metadata": {},
   "outputs": [
    {
     "data": {
      "text/html": [
       "<div>\n",
       "<style scoped>\n",
       "    .dataframe tbody tr th:only-of-type {\n",
       "        vertical-align: middle;\n",
       "    }\n",
       "\n",
       "    .dataframe tbody tr th {\n",
       "        vertical-align: top;\n",
       "    }\n",
       "\n",
       "    .dataframe thead th {\n",
       "        text-align: right;\n",
       "    }\n",
       "</style>\n",
       "<table border=\"1\" class=\"dataframe\">\n",
       "  <thead>\n",
       "    <tr style=\"text-align: right;\">\n",
       "      <th></th>\n",
       "      <th>age</th>\n",
       "      <th>bmi</th>\n",
       "      <th>children</th>\n",
       "      <th>charges</th>\n",
       "      <th>sex_female</th>\n",
       "      <th>sex_male</th>\n",
       "      <th>smoker_no</th>\n",
       "      <th>smoker_yes</th>\n",
       "      <th>region_northeast</th>\n",
       "      <th>region_northwest</th>\n",
       "      <th>region_southeast</th>\n",
       "      <th>region_southwest</th>\n",
       "    </tr>\n",
       "  </thead>\n",
       "  <tbody>\n",
       "    <tr>\n",
       "      <th>0</th>\n",
       "      <td>19</td>\n",
       "      <td>27.900</td>\n",
       "      <td>0</td>\n",
       "      <td>16884.92400</td>\n",
       "      <td>1</td>\n",
       "      <td>0</td>\n",
       "      <td>0</td>\n",
       "      <td>1</td>\n",
       "      <td>0</td>\n",
       "      <td>0</td>\n",
       "      <td>0</td>\n",
       "      <td>1</td>\n",
       "    </tr>\n",
       "    <tr>\n",
       "      <th>1</th>\n",
       "      <td>18</td>\n",
       "      <td>33.770</td>\n",
       "      <td>1</td>\n",
       "      <td>1725.55230</td>\n",
       "      <td>0</td>\n",
       "      <td>1</td>\n",
       "      <td>1</td>\n",
       "      <td>0</td>\n",
       "      <td>0</td>\n",
       "      <td>0</td>\n",
       "      <td>1</td>\n",
       "      <td>0</td>\n",
       "    </tr>\n",
       "    <tr>\n",
       "      <th>2</th>\n",
       "      <td>28</td>\n",
       "      <td>33.000</td>\n",
       "      <td>3</td>\n",
       "      <td>4449.46200</td>\n",
       "      <td>0</td>\n",
       "      <td>1</td>\n",
       "      <td>1</td>\n",
       "      <td>0</td>\n",
       "      <td>0</td>\n",
       "      <td>0</td>\n",
       "      <td>1</td>\n",
       "      <td>0</td>\n",
       "    </tr>\n",
       "    <tr>\n",
       "      <th>3</th>\n",
       "      <td>33</td>\n",
       "      <td>22.705</td>\n",
       "      <td>0</td>\n",
       "      <td>21984.47061</td>\n",
       "      <td>0</td>\n",
       "      <td>1</td>\n",
       "      <td>1</td>\n",
       "      <td>0</td>\n",
       "      <td>0</td>\n",
       "      <td>1</td>\n",
       "      <td>0</td>\n",
       "      <td>0</td>\n",
       "    </tr>\n",
       "    <tr>\n",
       "      <th>4</th>\n",
       "      <td>32</td>\n",
       "      <td>28.880</td>\n",
       "      <td>0</td>\n",
       "      <td>3866.85520</td>\n",
       "      <td>0</td>\n",
       "      <td>1</td>\n",
       "      <td>1</td>\n",
       "      <td>0</td>\n",
       "      <td>0</td>\n",
       "      <td>1</td>\n",
       "      <td>0</td>\n",
       "      <td>0</td>\n",
       "    </tr>\n",
       "  </tbody>\n",
       "</table>\n",
       "</div>"
      ],
      "text/plain": [
       "   age     bmi  children      charges  sex_female  sex_male  smoker_no  \\\n",
       "0   19  27.900         0  16884.92400           1         0          0   \n",
       "1   18  33.770         1   1725.55230           0         1          1   \n",
       "2   28  33.000         3   4449.46200           0         1          1   \n",
       "3   33  22.705         0  21984.47061           0         1          1   \n",
       "4   32  28.880         0   3866.85520           0         1          1   \n",
       "\n",
       "   smoker_yes  region_northeast  region_northwest  region_southeast  \\\n",
       "0           1                 0                 0                 0   \n",
       "1           0                 0                 0                 1   \n",
       "2           0                 0                 0                 1   \n",
       "3           0                 0                 1                 0   \n",
       "4           0                 0                 1                 0   \n",
       "\n",
       "   region_southwest  \n",
       "0                 1  \n",
       "1                 0  \n",
       "2                 0  \n",
       "3                 0  \n",
       "4                 0  "
      ]
     },
     "execution_count": 61,
     "metadata": {},
     "output_type": "execute_result"
    }
   ],
   "source": [
    "# One hot encode our dataframe\n",
    "insurance_one_hot = pd.get_dummies(insurance)\n",
    "insurance_one_hot.head()"
   ]
  },
  {
   "cell_type": "code",
   "execution_count": 62,
   "id": "5c0ff9c4",
   "metadata": {},
   "outputs": [],
   "source": [
    "# Create X and y values (features and labels)\n",
    "X = insurance_one_hot.drop(\"charges\", axis=1)\n",
    "y = insurance_one_hot[\"charges\"]"
   ]
  },
  {
   "cell_type": "code",
   "execution_count": 63,
   "id": "64f895b2",
   "metadata": {},
   "outputs": [
    {
     "data": {
      "text/html": [
       "<div>\n",
       "<style scoped>\n",
       "    .dataframe tbody tr th:only-of-type {\n",
       "        vertical-align: middle;\n",
       "    }\n",
       "\n",
       "    .dataframe tbody tr th {\n",
       "        vertical-align: top;\n",
       "    }\n",
       "\n",
       "    .dataframe thead th {\n",
       "        text-align: right;\n",
       "    }\n",
       "</style>\n",
       "<table border=\"1\" class=\"dataframe\">\n",
       "  <thead>\n",
       "    <tr style=\"text-align: right;\">\n",
       "      <th></th>\n",
       "      <th>age</th>\n",
       "      <th>bmi</th>\n",
       "      <th>children</th>\n",
       "      <th>sex_female</th>\n",
       "      <th>sex_male</th>\n",
       "      <th>smoker_no</th>\n",
       "      <th>smoker_yes</th>\n",
       "      <th>region_northeast</th>\n",
       "      <th>region_northwest</th>\n",
       "      <th>region_southeast</th>\n",
       "      <th>region_southwest</th>\n",
       "    </tr>\n",
       "  </thead>\n",
       "  <tbody>\n",
       "    <tr>\n",
       "      <th>0</th>\n",
       "      <td>19</td>\n",
       "      <td>27.900</td>\n",
       "      <td>0</td>\n",
       "      <td>1</td>\n",
       "      <td>0</td>\n",
       "      <td>0</td>\n",
       "      <td>1</td>\n",
       "      <td>0</td>\n",
       "      <td>0</td>\n",
       "      <td>0</td>\n",
       "      <td>1</td>\n",
       "    </tr>\n",
       "    <tr>\n",
       "      <th>1</th>\n",
       "      <td>18</td>\n",
       "      <td>33.770</td>\n",
       "      <td>1</td>\n",
       "      <td>0</td>\n",
       "      <td>1</td>\n",
       "      <td>1</td>\n",
       "      <td>0</td>\n",
       "      <td>0</td>\n",
       "      <td>0</td>\n",
       "      <td>1</td>\n",
       "      <td>0</td>\n",
       "    </tr>\n",
       "    <tr>\n",
       "      <th>2</th>\n",
       "      <td>28</td>\n",
       "      <td>33.000</td>\n",
       "      <td>3</td>\n",
       "      <td>0</td>\n",
       "      <td>1</td>\n",
       "      <td>1</td>\n",
       "      <td>0</td>\n",
       "      <td>0</td>\n",
       "      <td>0</td>\n",
       "      <td>1</td>\n",
       "      <td>0</td>\n",
       "    </tr>\n",
       "    <tr>\n",
       "      <th>3</th>\n",
       "      <td>33</td>\n",
       "      <td>22.705</td>\n",
       "      <td>0</td>\n",
       "      <td>0</td>\n",
       "      <td>1</td>\n",
       "      <td>1</td>\n",
       "      <td>0</td>\n",
       "      <td>0</td>\n",
       "      <td>1</td>\n",
       "      <td>0</td>\n",
       "      <td>0</td>\n",
       "    </tr>\n",
       "    <tr>\n",
       "      <th>4</th>\n",
       "      <td>32</td>\n",
       "      <td>28.880</td>\n",
       "      <td>0</td>\n",
       "      <td>0</td>\n",
       "      <td>1</td>\n",
       "      <td>1</td>\n",
       "      <td>0</td>\n",
       "      <td>0</td>\n",
       "      <td>1</td>\n",
       "      <td>0</td>\n",
       "      <td>0</td>\n",
       "    </tr>\n",
       "  </tbody>\n",
       "</table>\n",
       "</div>"
      ],
      "text/plain": [
       "   age     bmi  children  sex_female  sex_male  smoker_no  smoker_yes  \\\n",
       "0   19  27.900         0           1         0          0           1   \n",
       "1   18  33.770         1           0         1          1           0   \n",
       "2   28  33.000         3           0         1          1           0   \n",
       "3   33  22.705         0           0         1          1           0   \n",
       "4   32  28.880         0           0         1          1           0   \n",
       "\n",
       "   region_northeast  region_northwest  region_southeast  region_southwest  \n",
       "0                 0                 0                 0                 1  \n",
       "1                 0                 0                 1                 0  \n",
       "2                 0                 0                 1                 0  \n",
       "3                 0                 1                 0                 0  \n",
       "4                 0                 1                 0                 0  "
      ]
     },
     "execution_count": 63,
     "metadata": {},
     "output_type": "execute_result"
    }
   ],
   "source": [
    "# View X\n",
    "X.head()"
   ]
  },
  {
   "cell_type": "code",
   "execution_count": 64,
   "id": "154ded5d",
   "metadata": {},
   "outputs": [
    {
     "data": {
      "text/plain": [
       "0    16884.92400\n",
       "1     1725.55230\n",
       "2     4449.46200\n",
       "3    21984.47061\n",
       "4     3866.85520\n",
       "Name: charges, dtype: float64"
      ]
     },
     "execution_count": 64,
     "metadata": {},
     "output_type": "execute_result"
    }
   ],
   "source": [
    "# View y\n",
    "y.head()"
   ]
  },
  {
   "cell_type": "code",
   "execution_count": 65,
   "id": "6edd4f07",
   "metadata": {},
   "outputs": [
    {
     "data": {
      "text/plain": [
       "(1338, 1070)"
      ]
     },
     "execution_count": 65,
     "metadata": {},
     "output_type": "execute_result"
    }
   ],
   "source": [
    "# Create training and test sets\n",
    "from sklearn.model_selection import train_test_split\n",
    "X_train, X_test, y_train, y_test = train_test_split(X, y, test_size=.2, random_state=42)\n",
    "len(X), len(X_train)"
   ]
  },
  {
   "cell_type": "code",
   "execution_count": 69,
   "id": "f4ba5354",
   "metadata": {},
   "outputs": [
    {
     "name": "stdout",
     "output_type": "stream",
     "text": [
      "Epoch 1/100\n",
      "34/34 [==============================] - 1s 12ms/step - loss: 8668.2529 - mae: 8668.2529\n",
      "Epoch 2/100\n",
      "34/34 [==============================] - 0s 7ms/step - loss: 7872.6729 - mae: 7872.6729\n",
      "Epoch 3/100\n",
      "34/34 [==============================] - 0s 5ms/step - loss: 7605.7754 - mae: 7605.7754\n",
      "Epoch 4/100\n",
      "34/34 [==============================] - 0s 5ms/step - loss: 7733.2759 - mae: 7733.2759\n",
      "Epoch 5/100\n",
      "34/34 [==============================] - 0s 5ms/step - loss: 7693.7720 - mae: 7693.7720\n",
      "Epoch 6/100\n",
      "34/34 [==============================] - 0s 5ms/step - loss: 7643.5728 - mae: 7643.5728\n",
      "Epoch 7/100\n",
      "34/34 [==============================] - 0s 5ms/step - loss: 7550.4019 - mae: 7550.4019\n",
      "Epoch 8/100\n",
      "34/34 [==============================] - 0s 5ms/step - loss: 7759.6880 - mae: 7759.6880\n",
      "Epoch 9/100\n",
      "34/34 [==============================] - 0s 6ms/step - loss: 7597.7607 - mae: 7597.7607\n",
      "Epoch 10/100\n",
      "34/34 [==============================] - 0s 5ms/step - loss: 7781.0171 - mae: 7781.0171\n",
      "Epoch 11/100\n",
      "34/34 [==============================] - 0s 5ms/step - loss: 7649.1299 - mae: 7649.1299\n",
      "Epoch 12/100\n",
      "34/34 [==============================] - 0s 5ms/step - loss: 7636.6074 - mae: 7636.6074\n",
      "Epoch 13/100\n",
      "34/34 [==============================] - 0s 5ms/step - loss: 7484.0195 - mae: 7484.0195\n",
      "Epoch 14/100\n",
      "34/34 [==============================] - 0s 5ms/step - loss: 7652.3496 - mae: 7652.3496\n",
      "Epoch 15/100\n",
      "34/34 [==============================] - 0s 5ms/step - loss: 7509.2827 - mae: 7509.2827\n",
      "Epoch 16/100\n",
      "34/34 [==============================] - 0s 5ms/step - loss: 7742.6929 - mae: 7742.6929\n",
      "Epoch 17/100\n",
      "34/34 [==============================] - 0s 5ms/step - loss: 7706.0215 - mae: 7706.0215\n",
      "Epoch 18/100\n",
      "34/34 [==============================] - 0s 5ms/step - loss: 7855.0605 - mae: 7855.0605\n",
      "Epoch 19/100\n",
      "34/34 [==============================] - 0s 5ms/step - loss: 7663.5732 - mae: 7663.5732\n",
      "Epoch 20/100\n",
      "34/34 [==============================] - 0s 5ms/step - loss: 7823.1016 - mae: 7823.1016\n",
      "Epoch 21/100\n",
      "34/34 [==============================] - 0s 5ms/step - loss: 7510.6763 - mae: 7510.6763\n",
      "Epoch 22/100\n",
      "34/34 [==============================] - 0s 5ms/step - loss: 7779.8657 - mae: 7779.8657\n",
      "Epoch 23/100\n",
      "34/34 [==============================] - 0s 5ms/step - loss: 7736.3760 - mae: 7736.3760\n",
      "Epoch 24/100\n",
      "34/34 [==============================] - 0s 5ms/step - loss: 7496.6938 - mae: 7496.6938\n",
      "Epoch 25/100\n",
      "34/34 [==============================] - 0s 5ms/step - loss: 7718.7563 - mae: 7718.7563\n",
      "Epoch 26/100\n",
      "34/34 [==============================] - 0s 5ms/step - loss: 7589.1084 - mae: 7589.1084\n",
      "Epoch 27/100\n",
      "34/34 [==============================] - 0s 5ms/step - loss: 7690.5264 - mae: 7690.5264\n",
      "Epoch 28/100\n",
      "34/34 [==============================] - 0s 5ms/step - loss: 7406.9409 - mae: 7406.9409\n",
      "Epoch 29/100\n",
      "34/34 [==============================] - 0s 6ms/step - loss: 7661.6133 - mae: 7661.6133\n",
      "Epoch 30/100\n",
      "34/34 [==============================] - 0s 5ms/step - loss: 7518.3477 - mae: 7518.3477\n",
      "Epoch 31/100\n",
      "34/34 [==============================] - 0s 5ms/step - loss: 7760.7666 - mae: 7760.7666\n",
      "Epoch 32/100\n",
      "34/34 [==============================] - 0s 5ms/step - loss: 7608.1821 - mae: 7608.1821\n",
      "Epoch 33/100\n",
      "34/34 [==============================] - 0s 5ms/step - loss: 7617.7173 - mae: 7617.7173\n",
      "Epoch 34/100\n",
      "34/34 [==============================] - 0s 5ms/step - loss: 7505.6475 - mae: 7505.6475\n",
      "Epoch 35/100\n",
      "34/34 [==============================] - 0s 5ms/step - loss: 7612.3145 - mae: 7612.3145\n",
      "Epoch 36/100\n",
      "34/34 [==============================] - 0s 5ms/step - loss: 7566.3203 - mae: 7566.3203\n",
      "Epoch 37/100\n",
      "34/34 [==============================] - 0s 5ms/step - loss: 7608.9180 - mae: 7608.9180\n",
      "Epoch 38/100\n",
      "34/34 [==============================] - 0s 4ms/step - loss: 7513.8252 - mae: 7513.8252\n",
      "Epoch 39/100\n",
      "34/34 [==============================] - 0s 5ms/step - loss: 7503.0181 - mae: 7503.0181\n",
      "Epoch 40/100\n",
      "34/34 [==============================] - 0s 5ms/step - loss: 7357.3179 - mae: 7357.3179\n",
      "Epoch 41/100\n",
      "34/34 [==============================] - 0s 5ms/step - loss: 7722.8936 - mae: 7722.8936\n",
      "Epoch 42/100\n",
      "34/34 [==============================] - 0s 5ms/step - loss: 7299.9238 - mae: 7299.9238\n",
      "Epoch 43/100\n",
      "34/34 [==============================] - 0s 5ms/step - loss: 7705.6392 - mae: 7705.6392\n",
      "Epoch 44/100\n",
      "34/34 [==============================] - 0s 5ms/step - loss: 7501.3403 - mae: 7501.3403\n",
      "Epoch 45/100\n",
      "34/34 [==============================] - 0s 5ms/step - loss: 7537.1587 - mae: 7537.1587\n",
      "Epoch 46/100\n",
      "34/34 [==============================] - 0s 5ms/step - loss: 7360.1704 - mae: 7360.1704\n",
      "Epoch 47/100\n",
      "34/34 [==============================] - 0s 5ms/step - loss: 7498.8564 - mae: 7498.8564\n",
      "Epoch 48/100\n",
      "34/34 [==============================] - 0s 5ms/step - loss: 7483.0000 - mae: 7483.0000\n",
      "Epoch 49/100\n",
      "34/34 [==============================] - 0s 5ms/step - loss: 7512.7324 - mae: 7512.7324\n",
      "Epoch 50/100\n",
      "34/34 [==============================] - 0s 5ms/step - loss: 7485.3052 - mae: 7485.3052\n",
      "Epoch 51/100\n",
      "34/34 [==============================] - 0s 6ms/step - loss: 7428.5459 - mae: 7428.5459\n",
      "Epoch 52/100\n",
      "34/34 [==============================] - 0s 5ms/step - loss: 7380.1895 - mae: 7380.1895\n",
      "Epoch 53/100\n",
      "34/34 [==============================] - 0s 5ms/step - loss: 7576.5786 - mae: 7576.5786\n",
      "Epoch 54/100\n",
      "34/34 [==============================] - 0s 5ms/step - loss: 7188.6714 - mae: 7188.6714\n",
      "Epoch 55/100\n",
      "34/34 [==============================] - 0s 5ms/step - loss: 7408.6680 - mae: 7408.6680\n",
      "Epoch 56/100\n",
      "34/34 [==============================] - 0s 5ms/step - loss: 7257.9814 - mae: 7257.9814\n",
      "Epoch 57/100\n",
      "34/34 [==============================] - 0s 5ms/step - loss: 7547.7930 - mae: 7547.7930\n",
      "Epoch 58/100\n",
      "34/34 [==============================] - 0s 5ms/step - loss: 7252.4912 - mae: 7252.4912\n",
      "Epoch 59/100\n",
      "34/34 [==============================] - 0s 5ms/step - loss: 7603.4131 - mae: 7603.4131\n",
      "Epoch 60/100\n",
      "34/34 [==============================] - 0s 5ms/step - loss: 7443.5112 - mae: 7443.5112\n",
      "Epoch 61/100\n",
      "34/34 [==============================] - 0s 5ms/step - loss: 7634.9336 - mae: 7634.9336\n",
      "Epoch 62/100\n",
      "34/34 [==============================] - 0s 5ms/step - loss: 7465.1191 - mae: 7465.1191\n",
      "Epoch 63/100\n",
      "34/34 [==============================] - 0s 5ms/step - loss: 7337.9565 - mae: 7337.9565\n",
      "Epoch 64/100\n",
      "34/34 [==============================] - 0s 5ms/step - loss: 7534.7075 - mae: 7534.7075\n",
      "Epoch 65/100\n",
      "34/34 [==============================] - 0s 5ms/step - loss: 7488.0107 - mae: 7488.0107\n",
      "Epoch 66/100\n",
      "34/34 [==============================] - 0s 5ms/step - loss: 7302.7495 - mae: 7302.7495\n",
      "Epoch 67/100\n",
      "34/34 [==============================] - 0s 5ms/step - loss: 7429.1416 - mae: 7429.1416\n",
      "Epoch 68/100\n",
      "34/34 [==============================] - 0s 5ms/step - loss: 7432.8389 - mae: 7432.8389\n",
      "Epoch 69/100\n",
      "34/34 [==============================] - 0s 5ms/step - loss: 7562.9424 - mae: 7562.9424\n",
      "Epoch 70/100\n",
      "34/34 [==============================] - 0s 5ms/step - loss: 7688.0718 - mae: 7688.0718\n",
      "Epoch 71/100\n",
      "34/34 [==============================] - 0s 5ms/step - loss: 7327.4746 - mae: 7327.4746\n",
      "Epoch 72/100\n",
      "34/34 [==============================] - 0s 5ms/step - loss: 7391.2588 - mae: 7391.2588\n",
      "Epoch 73/100\n",
      "34/34 [==============================] - 0s 5ms/step - loss: 7281.2451 - mae: 7281.2451\n",
      "Epoch 74/100\n",
      "34/34 [==============================] - 0s 6ms/step - loss: 7376.9458 - mae: 7376.9458\n",
      "Epoch 75/100\n",
      "34/34 [==============================] - 0s 6ms/step - loss: 7376.5337 - mae: 7376.5337\n",
      "Epoch 76/100\n",
      "34/34 [==============================] - 0s 5ms/step - loss: 7125.0493 - mae: 7125.0493\n",
      "Epoch 77/100\n",
      "34/34 [==============================] - 0s 5ms/step - loss: 7503.8462 - mae: 7503.8462\n",
      "Epoch 78/100\n",
      "34/34 [==============================] - 0s 5ms/step - loss: 7383.8438 - mae: 7383.8438\n",
      "Epoch 79/100\n",
      "34/34 [==============================] - 0s 5ms/step - loss: 7464.3701 - mae: 7464.3701\n",
      "Epoch 80/100\n",
      "34/34 [==============================] - 0s 5ms/step - loss: 7293.7100 - mae: 7293.7100\n",
      "Epoch 81/100\n",
      "34/34 [==============================] - 0s 5ms/step - loss: 7314.9829 - mae: 7314.9829\n",
      "Epoch 82/100\n"
     ]
    },
    {
     "name": "stdout",
     "output_type": "stream",
     "text": [
      "34/34 [==============================] - 0s 5ms/step - loss: 7286.9424 - mae: 7286.9424\n",
      "Epoch 83/100\n",
      "34/34 [==============================] - 0s 5ms/step - loss: 7337.1313 - mae: 7337.1313\n",
      "Epoch 84/100\n",
      "34/34 [==============================] - 0s 5ms/step - loss: 7415.5625 - mae: 7415.5625\n",
      "Epoch 85/100\n",
      "34/34 [==============================] - 0s 5ms/step - loss: 7408.2954 - mae: 7408.2954\n",
      "Epoch 86/100\n",
      "34/34 [==============================] - 0s 5ms/step - loss: 7534.9976 - mae: 7534.9976\n",
      "Epoch 87/100\n",
      "34/34 [==============================] - 0s 5ms/step - loss: 7155.4390 - mae: 7155.4390\n",
      "Epoch 88/100\n",
      "34/34 [==============================] - 0s 5ms/step - loss: 7157.6294 - mae: 7157.6294\n",
      "Epoch 89/100\n",
      "34/34 [==============================] - 0s 5ms/step - loss: 7399.5435 - mae: 7399.5435\n",
      "Epoch 90/100\n",
      "34/34 [==============================] - 0s 5ms/step - loss: 7035.7153 - mae: 7035.7153\n",
      "Epoch 91/100\n",
      "34/34 [==============================] - 0s 5ms/step - loss: 7202.0327 - mae: 7202.0327\n",
      "Epoch 92/100\n",
      "34/34 [==============================] - 0s 5ms/step - loss: 7358.2329 - mae: 7358.2329\n",
      "Epoch 93/100\n",
      "34/34 [==============================] - 0s 5ms/step - loss: 7539.7725 - mae: 7539.7725\n",
      "Epoch 94/100\n",
      "34/34 [==============================] - 0s 5ms/step - loss: 7247.6841 - mae: 7247.6841\n",
      "Epoch 95/100\n",
      "34/34 [==============================] - 0s 5ms/step - loss: 7428.5166 - mae: 7428.5166\n",
      "Epoch 96/100\n",
      "34/34 [==============================] - 0s 5ms/step - loss: 7204.1177 - mae: 7204.1177\n",
      "Epoch 97/100\n",
      "34/34 [==============================] - 0s 5ms/step - loss: 7172.5757 - mae: 7172.5757\n",
      "Epoch 98/100\n",
      "34/34 [==============================] - 0s 5ms/step - loss: 7320.6313 - mae: 7320.6313\n",
      "Epoch 99/100\n",
      "34/34 [==============================] - 0s 5ms/step - loss: 7136.3784 - mae: 7136.3784\n",
      "Epoch 100/100\n",
      "34/34 [==============================] - 0s 5ms/step - loss: 7092.6948 - mae: 7092.6948\n"
     ]
    },
    {
     "data": {
      "text/plain": [
       "<keras.callbacks.History at 0x7f764822eb90>"
      ]
     },
     "execution_count": 69,
     "metadata": {},
     "output_type": "execute_result"
    }
   ],
   "source": [
    "# build a neural network\n",
    "tf.random.set_seed(42)\n",
    "\n",
    "# create the model\n",
    "insurance_model = tf.keras.Sequential([\n",
    "    tf.keras.layers.Dense(10),\n",
    "    tf.keras.layers.Dense(1)\n",
    "])\n",
    "\n",
    "# compile the model\n",
    "insurance_model.compile(loss=tf.keras.losses.mae,\n",
    "                optimizer=tf.keras.optimizers.SGD(),\n",
    "                metrics=[\"mae\"])\n",
    "\n",
    "# fit the model\n",
    "insurance_model.fit(X_train, y_train, epochs=100)"
   ]
  },
  {
   "cell_type": "code",
   "execution_count": 71,
   "id": "c641b31b",
   "metadata": {},
   "outputs": [
    {
     "name": "stdout",
     "output_type": "stream",
     "text": [
      "9/9 [==============================] - 0s 9ms/step - loss: 7056.7808 - mae: 7056.7808\n"
     ]
    },
    {
     "data": {
      "text/plain": [
       "[7056.78076171875, 7056.78076171875]"
      ]
     },
     "execution_count": 71,
     "metadata": {},
     "output_type": "execute_result"
    }
   ],
   "source": [
    "# Check the results of the inusrance model\n",
    "insurance_model.evaluate(X_test, y_test)"
   ]
  },
  {
   "cell_type": "markdown",
   "id": "d1faa034",
   "metadata": {},
   "source": [
    "Our model is performing very poorly. Need to improve the model..."
   ]
  },
  {
   "cell_type": "code",
   "execution_count": 77,
   "id": "1d8532c4",
   "metadata": {},
   "outputs": [
    {
     "name": "stdout",
     "output_type": "stream",
     "text": [
      "Epoch 1/100\n",
      "34/34 [==============================] - 1s 13ms/step - loss: 11180.4756 - mae: 11180.4756\n",
      "Epoch 2/100\n",
      "34/34 [==============================] - 0s 9ms/step - loss: 7634.3853 - mae: 7634.3853\n",
      "Epoch 3/100\n",
      "34/34 [==============================] - 0s 9ms/step - loss: 7315.1484 - mae: 7315.1484\n",
      "Epoch 4/100\n",
      "34/34 [==============================] - 0s 9ms/step - loss: 7071.5210 - mae: 7071.5210\n",
      "Epoch 5/100\n",
      "34/34 [==============================] - 0s 8ms/step - loss: 6830.5054 - mae: 6830.5054\n",
      "Epoch 6/100\n",
      "34/34 [==============================] - 0s 9ms/step - loss: 6554.1636 - mae: 6554.1636\n",
      "Epoch 7/100\n",
      "34/34 [==============================] - 0s 9ms/step - loss: 6343.4785 - mae: 6343.4785\n",
      "Epoch 8/100\n",
      "34/34 [==============================] - 0s 8ms/step - loss: 6150.3506 - mae: 6150.3506\n",
      "Epoch 9/100\n",
      "34/34 [==============================] - 0s 7ms/step - loss: 5910.0923 - mae: 5910.0923\n",
      "Epoch 10/100\n",
      "34/34 [==============================] - 0s 7ms/step - loss: 5645.6621 - mae: 5645.6621\n",
      "Epoch 11/100\n",
      "34/34 [==============================] - 0s 7ms/step - loss: 5134.7192 - mae: 5134.7192\n",
      "Epoch 12/100\n",
      "34/34 [==============================] - 0s 8ms/step - loss: 4352.2769 - mae: 4352.2769\n",
      "Epoch 13/100\n",
      "34/34 [==============================] - 0s 7ms/step - loss: 3705.2515 - mae: 3705.2515\n",
      "Epoch 14/100\n",
      "34/34 [==============================] - 0s 7ms/step - loss: 3527.4216 - mae: 3527.4216\n",
      "Epoch 15/100\n",
      "34/34 [==============================] - 0s 8ms/step - loss: 3491.9846 - mae: 3491.9846\n",
      "Epoch 16/100\n",
      "34/34 [==============================] - 0s 8ms/step - loss: 3374.9219 - mae: 3374.9219\n",
      "Epoch 17/100\n",
      "34/34 [==============================] - 0s 8ms/step - loss: 3306.0664 - mae: 3306.0664\n",
      "Epoch 18/100\n",
      "34/34 [==============================] - 0s 8ms/step - loss: 3151.8650 - mae: 3151.8650\n",
      "Epoch 19/100\n",
      "34/34 [==============================] - 0s 7ms/step - loss: 3090.8386 - mae: 3090.8386\n",
      "Epoch 20/100\n",
      "34/34 [==============================] - 0s 7ms/step - loss: 3002.6438 - mae: 3002.6438\n",
      "Epoch 21/100\n",
      "34/34 [==============================] - 0s 7ms/step - loss: 2928.0103 - mae: 2928.0103\n",
      "Epoch 22/100\n",
      "34/34 [==============================] - 0s 8ms/step - loss: 2831.1409 - mae: 2831.1409\n",
      "Epoch 23/100\n",
      "34/34 [==============================] - 0s 7ms/step - loss: 2840.4873 - mae: 2840.4873\n",
      "Epoch 24/100\n",
      "34/34 [==============================] - 0s 7ms/step - loss: 2776.1660 - mae: 2776.1660\n",
      "Epoch 25/100\n",
      "34/34 [==============================] - 0s 7ms/step - loss: 2874.5862 - mae: 2874.5862\n",
      "Epoch 26/100\n",
      "34/34 [==============================] - 0s 7ms/step - loss: 2771.5056 - mae: 2771.5056\n",
      "Epoch 27/100\n",
      "34/34 [==============================] - 0s 7ms/step - loss: 2740.0908 - mae: 2740.0908\n",
      "Epoch 28/100\n",
      "34/34 [==============================] - 0s 7ms/step - loss: 2684.4150 - mae: 2684.4150\n",
      "Epoch 29/100\n",
      "34/34 [==============================] - 0s 7ms/step - loss: 2780.0359 - mae: 2780.0359\n",
      "Epoch 30/100\n",
      "34/34 [==============================] - 0s 7ms/step - loss: 2642.2883 - mae: 2642.2883\n",
      "Epoch 31/100\n",
      "34/34 [==============================] - 0s 8ms/step - loss: 2742.6919 - mae: 2742.6919\n",
      "Epoch 32/100\n",
      "34/34 [==============================] - 0s 7ms/step - loss: 2629.2356 - mae: 2629.2356\n",
      "Epoch 33/100\n",
      "34/34 [==============================] - 0s 7ms/step - loss: 2598.6375 - mae: 2598.6375\n",
      "Epoch 34/100\n",
      "34/34 [==============================] - 0s 7ms/step - loss: 2550.9934 - mae: 2550.9934\n",
      "Epoch 35/100\n",
      "34/34 [==============================] - 0s 7ms/step - loss: 2529.5422 - mae: 2529.5422\n",
      "Epoch 36/100\n",
      "34/34 [==============================] - 0s 7ms/step - loss: 2530.0913 - mae: 2530.0913\n",
      "Epoch 37/100\n",
      "34/34 [==============================] - 0s 7ms/step - loss: 2493.5625 - mae: 2493.5625\n",
      "Epoch 38/100\n",
      "34/34 [==============================] - 0s 8ms/step - loss: 2445.1416 - mae: 2445.1416\n",
      "Epoch 39/100\n",
      "34/34 [==============================] - 0s 7ms/step - loss: 2460.4082 - mae: 2460.4082\n",
      "Epoch 40/100\n",
      "34/34 [==============================] - 0s 7ms/step - loss: 2468.3081 - mae: 2468.3081\n",
      "Epoch 41/100\n",
      "34/34 [==============================] - 0s 7ms/step - loss: 2415.8484 - mae: 2415.8484\n",
      "Epoch 42/100\n",
      "34/34 [==============================] - 0s 7ms/step - loss: 2424.0820 - mae: 2424.0820\n",
      "Epoch 43/100\n",
      "34/34 [==============================] - 0s 7ms/step - loss: 2392.6672 - mae: 2392.6672\n",
      "Epoch 44/100\n",
      "34/34 [==============================] - 0s 7ms/step - loss: 2400.5459 - mae: 2400.5459\n",
      "Epoch 45/100\n",
      "34/34 [==============================] - 0s 7ms/step - loss: 2320.3765 - mae: 2320.3765\n",
      "Epoch 46/100\n",
      "34/34 [==============================] - 0s 7ms/step - loss: 2294.1445 - mae: 2294.1445\n",
      "Epoch 47/100\n",
      "34/34 [==============================] - 0s 7ms/step - loss: 2336.5083 - mae: 2336.5083\n",
      "Epoch 48/100\n",
      "34/34 [==============================] - 0s 8ms/step - loss: 2326.0444 - mae: 2326.0444\n",
      "Epoch 49/100\n",
      "34/34 [==============================] - 0s 8ms/step - loss: 2270.8459 - mae: 2270.8459\n",
      "Epoch 50/100\n",
      "34/34 [==============================] - 0s 7ms/step - loss: 2261.9368 - mae: 2261.9368\n",
      "Epoch 51/100\n",
      "34/34 [==============================] - 0s 7ms/step - loss: 2256.6787 - mae: 2256.6787\n",
      "Epoch 52/100\n",
      "34/34 [==============================] - 0s 7ms/step - loss: 2284.1260 - mae: 2284.1260\n",
      "Epoch 53/100\n",
      "34/34 [==============================] - 0s 7ms/step - loss: 2189.2634 - mae: 2189.2634\n",
      "Epoch 54/100\n",
      "34/34 [==============================] - 0s 7ms/step - loss: 2327.7417 - mae: 2327.7417\n",
      "Epoch 55/100\n",
      "34/34 [==============================] - 0s 7ms/step - loss: 2185.9500 - mae: 2185.9500\n",
      "Epoch 56/100\n",
      "34/34 [==============================] - 0s 7ms/step - loss: 2305.9878 - mae: 2305.9878\n",
      "Epoch 57/100\n",
      "34/34 [==============================] - 0s 8ms/step - loss: 2179.0415 - mae: 2179.0415\n",
      "Epoch 58/100\n",
      "34/34 [==============================] - 0s 9ms/step - loss: 2215.4995 - mae: 2215.4995\n",
      "Epoch 59/100\n",
      "34/34 [==============================] - 0s 8ms/step - loss: 2121.9456 - mae: 2121.9456\n",
      "Epoch 60/100\n",
      "34/34 [==============================] - 0s 7ms/step - loss: 2189.1799 - mae: 2189.1799\n",
      "Epoch 61/100\n",
      "34/34 [==============================] - 0s 8ms/step - loss: 2215.3867 - mae: 2215.3867\n",
      "Epoch 62/100\n",
      "34/34 [==============================] - 0s 8ms/step - loss: 2167.6824 - mae: 2167.6824\n",
      "Epoch 63/100\n",
      "34/34 [==============================] - 0s 8ms/step - loss: 2208.1924 - mae: 2208.1924\n",
      "Epoch 64/100\n",
      "34/34 [==============================] - 0s 7ms/step - loss: 2098.4258 - mae: 2098.4258\n",
      "Epoch 65/100\n",
      "34/34 [==============================] - 0s 8ms/step - loss: 2190.8987 - mae: 2190.8987\n",
      "Epoch 66/100\n",
      "34/34 [==============================] - 0s 8ms/step - loss: 2150.3687 - mae: 2150.3687\n",
      "Epoch 67/100\n",
      "34/34 [==============================] - 0s 8ms/step - loss: 2414.7952 - mae: 2414.7952\n",
      "Epoch 68/100\n",
      "34/34 [==============================] - 0s 8ms/step - loss: 2124.8687 - mae: 2124.8687\n",
      "Epoch 69/100\n",
      "34/34 [==============================] - 0s 8ms/step - loss: 2257.6262 - mae: 2257.6262\n",
      "Epoch 70/100\n",
      "34/34 [==============================] - 0s 8ms/step - loss: 2160.1062 - mae: 2160.1062\n",
      "Epoch 71/100\n",
      "34/34 [==============================] - 0s 8ms/step - loss: 2143.5557 - mae: 2143.5557\n",
      "Epoch 72/100\n",
      "34/34 [==============================] - 0s 8ms/step - loss: 2113.8816 - mae: 2113.8816\n",
      "Epoch 73/100\n",
      "34/34 [==============================] - 0s 8ms/step - loss: 2076.6770 - mae: 2076.6770\n",
      "Epoch 74/100\n",
      "34/34 [==============================] - 0s 8ms/step - loss: 2084.5769 - mae: 2084.5769\n",
      "Epoch 75/100\n",
      "34/34 [==============================] - 0s 8ms/step - loss: 2076.7788 - mae: 2076.7788\n",
      "Epoch 76/100\n",
      "34/34 [==============================] - 0s 8ms/step - loss: 2170.0708 - mae: 2170.0708\n",
      "Epoch 77/100\n",
      "34/34 [==============================] - 0s 8ms/step - loss: 2102.9795 - mae: 2102.9795\n",
      "Epoch 78/100\n",
      "34/34 [==============================] - 0s 8ms/step - loss: 2105.5715 - mae: 2105.5715\n",
      "Epoch 79/100\n",
      "34/34 [==============================] - 0s 8ms/step - loss: 2087.6995 - mae: 2087.6995\n",
      "Epoch 80/100\n",
      "34/34 [==============================] - 0s 8ms/step - loss: 2117.8889 - mae: 2117.8889\n",
      "Epoch 81/100\n",
      "34/34 [==============================] - 0s 8ms/step - loss: 2212.6992 - mae: 2212.6992\n",
      "Epoch 82/100\n"
     ]
    },
    {
     "name": "stdout",
     "output_type": "stream",
     "text": [
      "34/34 [==============================] - 0s 8ms/step - loss: 2073.8501 - mae: 2073.8501\n",
      "Epoch 83/100\n",
      "34/34 [==============================] - 0s 8ms/step - loss: 2068.1492 - mae: 2068.1492\n",
      "Epoch 84/100\n",
      "34/34 [==============================] - 0s 8ms/step - loss: 2061.5344 - mae: 2061.5342\n",
      "Epoch 85/100\n",
      "34/34 [==============================] - 0s 8ms/step - loss: 2056.4104 - mae: 2056.4104\n",
      "Epoch 86/100\n",
      "34/34 [==============================] - 0s 8ms/step - loss: 2080.9878 - mae: 2080.9878\n",
      "Epoch 87/100\n",
      "34/34 [==============================] - 0s 8ms/step - loss: 2108.7656 - mae: 2108.7656\n",
      "Epoch 88/100\n",
      "34/34 [==============================] - 0s 8ms/step - loss: 2107.6125 - mae: 2107.6125\n",
      "Epoch 89/100\n",
      "34/34 [==============================] - 0s 7ms/step - loss: 2101.2146 - mae: 2101.2146\n",
      "Epoch 90/100\n",
      "34/34 [==============================] - 0s 7ms/step - loss: 2239.4133 - mae: 2239.4133\n",
      "Epoch 91/100\n",
      "34/34 [==============================] - 0s 7ms/step - loss: 2093.6335 - mae: 2093.6335\n",
      "Epoch 92/100\n",
      "34/34 [==============================] - 0s 7ms/step - loss: 2208.4265 - mae: 2208.4265\n",
      "Epoch 93/100\n",
      "34/34 [==============================] - 0s 7ms/step - loss: 2187.4792 - mae: 2187.4792\n",
      "Epoch 94/100\n",
      "34/34 [==============================] - 0s 8ms/step - loss: 2207.4585 - mae: 2207.4585\n",
      "Epoch 95/100\n",
      "34/34 [==============================] - 0s 8ms/step - loss: 2172.6304 - mae: 2172.6304\n",
      "Epoch 96/100\n",
      "34/34 [==============================] - 0s 8ms/step - loss: 2061.3357 - mae: 2061.3357\n",
      "Epoch 97/100\n",
      "34/34 [==============================] - 0s 8ms/step - loss: 2102.3657 - mae: 2102.3657\n",
      "Epoch 98/100\n",
      "34/34 [==============================] - 0s 8ms/step - loss: 2140.5808 - mae: 2140.5808\n",
      "Epoch 99/100\n",
      "34/34 [==============================] - 0s 8ms/step - loss: 2086.5381 - mae: 2086.5381\n",
      "Epoch 100/100\n",
      "34/34 [==============================] - 0s 7ms/step - loss: 2045.1656 - mae: 2045.1656\n"
     ]
    },
    {
     "data": {
      "text/plain": [
       "<keras.callbacks.History at 0x7f75e0168f70>"
      ]
     },
     "execution_count": 77,
     "metadata": {},
     "output_type": "execute_result"
    }
   ],
   "source": [
    "# Create the model again\n",
    "insurance_model_2 = tf.keras.Sequential([\n",
    "    tf.keras.layers.Dense(100, activation=\"relu\"),\n",
    "    tf.keras.layers.Dense(100, activation=\"relu\"),\n",
    "    tf.keras.layers.Dense(1)\n",
    "])\n",
    "\n",
    "# compile the model\n",
    "insurance_model_2.compile(loss=tf.keras.losses.mae,\n",
    "                         optimizer=tf.keras.optimizers.Adam(learning_rate=.01),\n",
    "                         metrics=[\"mae\"])\n",
    "\n",
    "# fit the model\n",
    "insurance_model_2.fit(X_train, y_train, epochs=100)"
   ]
  },
  {
   "cell_type": "code",
   "execution_count": 78,
   "id": "ba7936a4",
   "metadata": {},
   "outputs": [
    {
     "name": "stdout",
     "output_type": "stream",
     "text": [
      "9/9 [==============================] - 0s 6ms/step - loss: 1839.5562 - mae: 1839.5562\n"
     ]
    },
    {
     "data": {
      "text/plain": [
       "[1839.55615234375, 1839.55615234375]"
      ]
     },
     "execution_count": 78,
     "metadata": {},
     "output_type": "execute_result"
    }
   ],
   "source": [
    "insurance_model_2.evaluate(X_test, y_test)"
   ]
  },
  {
   "cell_type": "code",
   "execution_count": 85,
   "id": "e690efcd",
   "metadata": {},
   "outputs": [
    {
     "name": "stdout",
     "output_type": "stream",
     "text": [
      "Epoch 1/100\n",
      "34/34 [==============================] - 1s 11ms/step - loss: 13146.0967 - mae: 13146.0967\n",
      "Epoch 2/100\n",
      "34/34 [==============================] - 0s 10ms/step - loss: 11915.5439 - mae: 11915.5439\n",
      "Epoch 3/100\n",
      "34/34 [==============================] - 0s 7ms/step - loss: 9423.9736 - mae: 9423.9736\n",
      "Epoch 4/100\n",
      "34/34 [==============================] - 0s 7ms/step - loss: 7599.6675 - mae: 7599.6675\n",
      "Epoch 5/100\n",
      "34/34 [==============================] - 0s 7ms/step - loss: 7428.0933 - mae: 7428.0933\n",
      "Epoch 6/100\n",
      "34/34 [==============================] - 0s 7ms/step - loss: 7379.9189 - mae: 7379.9189\n",
      "Epoch 7/100\n",
      "34/34 [==============================] - 0s 7ms/step - loss: 7327.5640 - mae: 7327.5640\n",
      "Epoch 8/100\n",
      "34/34 [==============================] - 0s 7ms/step - loss: 7280.7285 - mae: 7280.7285\n",
      "Epoch 9/100\n",
      "34/34 [==============================] - 0s 7ms/step - loss: 7232.2104 - mae: 7232.2104\n",
      "Epoch 10/100\n",
      "34/34 [==============================] - 0s 7ms/step - loss: 7183.1812 - mae: 7183.1812\n",
      "Epoch 11/100\n",
      "34/34 [==============================] - 0s 8ms/step - loss: 7134.8228 - mae: 7134.8228\n",
      "Epoch 12/100\n",
      "34/34 [==============================] - 0s 7ms/step - loss: 7074.2446 - mae: 7074.2446\n",
      "Epoch 13/100\n",
      "34/34 [==============================] - 0s 7ms/step - loss: 7014.7178 - mae: 7014.7178\n",
      "Epoch 14/100\n",
      "34/34 [==============================] - 0s 7ms/step - loss: 6952.1211 - mae: 6952.1211\n",
      "Epoch 15/100\n",
      "34/34 [==============================] - 0s 7ms/step - loss: 6891.7925 - mae: 6891.7925\n",
      "Epoch 16/100\n",
      "34/34 [==============================] - 0s 7ms/step - loss: 6824.4028 - mae: 6824.4028\n",
      "Epoch 17/100\n",
      "34/34 [==============================] - 0s 7ms/step - loss: 6757.3945 - mae: 6757.3945\n",
      "Epoch 18/100\n",
      "34/34 [==============================] - 0s 8ms/step - loss: 6681.8340 - mae: 6681.8340\n",
      "Epoch 19/100\n",
      "34/34 [==============================] - 0s 8ms/step - loss: 6610.1987 - mae: 6610.1987\n",
      "Epoch 20/100\n",
      "34/34 [==============================] - 0s 7ms/step - loss: 6543.9043 - mae: 6543.9043\n",
      "Epoch 21/100\n",
      "34/34 [==============================] - 0s 7ms/step - loss: 6488.8804 - mae: 6488.8804\n",
      "Epoch 22/100\n",
      "34/34 [==============================] - 0s 7ms/step - loss: 6453.8140 - mae: 6453.8140\n",
      "Epoch 23/100\n",
      "34/34 [==============================] - 0s 7ms/step - loss: 6415.9351 - mae: 6415.9351\n",
      "Epoch 24/100\n",
      "34/34 [==============================] - 0s 7ms/step - loss: 6388.1084 - mae: 6388.1084\n",
      "Epoch 25/100\n",
      "34/34 [==============================] - 0s 7ms/step - loss: 6354.7974 - mae: 6354.7974\n",
      "Epoch 26/100\n",
      "34/34 [==============================] - 0s 7ms/step - loss: 6330.6841 - mae: 6330.6841\n",
      "Epoch 27/100\n",
      "34/34 [==============================] - 0s 7ms/step - loss: 6300.2983 - mae: 6300.2983\n",
      "Epoch 28/100\n",
      "34/34 [==============================] - 0s 7ms/step - loss: 6268.5479 - mae: 6268.5479\n",
      "Epoch 29/100\n",
      "34/34 [==============================] - 0s 7ms/step - loss: 6236.5298 - mae: 6236.5298\n",
      "Epoch 30/100\n",
      "34/34 [==============================] - 0s 8ms/step - loss: 6216.1655 - mae: 6216.1655\n",
      "Epoch 31/100\n",
      "34/34 [==============================] - 0s 7ms/step - loss: 6175.4390 - mae: 6175.4390\n",
      "Epoch 32/100\n",
      "34/34 [==============================] - 0s 7ms/step - loss: 6140.6064 - mae: 6140.6064\n",
      "Epoch 33/100\n",
      "34/34 [==============================] - 0s 7ms/step - loss: 6106.9858 - mae: 6106.9858\n",
      "Epoch 34/100\n",
      "34/34 [==============================] - 0s 7ms/step - loss: 6069.6348 - mae: 6069.6348\n",
      "Epoch 35/100\n",
      "34/34 [==============================] - 0s 7ms/step - loss: 6030.7461 - mae: 6030.7461\n",
      "Epoch 36/100\n",
      "34/34 [==============================] - 0s 10ms/step - loss: 5996.9404 - mae: 5996.9404\n",
      "Epoch 37/100\n",
      "34/34 [==============================] - 0s 7ms/step - loss: 5946.3291 - mae: 5946.3291\n",
      "Epoch 38/100\n",
      "34/34 [==============================] - 0s 7ms/step - loss: 5910.9600 - mae: 5910.9600\n",
      "Epoch 39/100\n",
      "34/34 [==============================] - 0s 7ms/step - loss: 5875.0283 - mae: 5875.0283\n",
      "Epoch 40/100\n",
      "34/34 [==============================] - 0s 7ms/step - loss: 5819.4883 - mae: 5819.4883\n",
      "Epoch 41/100\n",
      "34/34 [==============================] - 0s 7ms/step - loss: 5769.5312 - mae: 5769.5312\n",
      "Epoch 42/100\n",
      "34/34 [==============================] - 0s 7ms/step - loss: 5716.4561 - mae: 5716.4561\n",
      "Epoch 43/100\n",
      "34/34 [==============================] - 0s 7ms/step - loss: 5676.0654 - mae: 5676.0654\n",
      "Epoch 44/100\n",
      "34/34 [==============================] - 0s 7ms/step - loss: 5609.3989 - mae: 5609.3989\n",
      "Epoch 45/100\n",
      "34/34 [==============================] - 0s 7ms/step - loss: 5553.0376 - mae: 5553.0376\n",
      "Epoch 46/100\n",
      "34/34 [==============================] - 0s 7ms/step - loss: 5510.7866 - mae: 5510.7866\n",
      "Epoch 47/100\n",
      "34/34 [==============================] - 0s 9ms/step - loss: 5446.5645 - mae: 5446.5645\n",
      "Epoch 48/100\n",
      "34/34 [==============================] - 0s 7ms/step - loss: 5372.4170 - mae: 5372.4170\n",
      "Epoch 49/100\n",
      "34/34 [==============================] - 0s 7ms/step - loss: 5300.0068 - mae: 5300.0068\n",
      "Epoch 50/100\n",
      "34/34 [==============================] - 0s 7ms/step - loss: 5234.0415 - mae: 5234.0415\n",
      "Epoch 51/100\n",
      "34/34 [==============================] - 0s 7ms/step - loss: 5159.8833 - mae: 5159.8833\n",
      "Epoch 52/100\n",
      "34/34 [==============================] - 0s 7ms/step - loss: 5089.9463 - mae: 5089.9463\n",
      "Epoch 53/100\n",
      "34/34 [==============================] - 0s 7ms/step - loss: 5009.5708 - mae: 5009.5708\n",
      "Epoch 54/100\n",
      "34/34 [==============================] - 0s 7ms/step - loss: 4927.8721 - mae: 4927.8721\n",
      "Epoch 55/100\n",
      "34/34 [==============================] - 0s 7ms/step - loss: 4847.5000 - mae: 4847.5000\n",
      "Epoch 56/100\n",
      "34/34 [==============================] - 0s 7ms/step - loss: 4755.3745 - mae: 4755.3745\n",
      "Epoch 57/100\n",
      "34/34 [==============================] - 0s 7ms/step - loss: 4661.0273 - mae: 4661.0273\n",
      "Epoch 58/100\n",
      "34/34 [==============================] - 0s 8ms/step - loss: 4568.5044 - mae: 4568.5044\n",
      "Epoch 59/100\n",
      "34/34 [==============================] - 0s 7ms/step - loss: 4459.4233 - mae: 4459.4233\n",
      "Epoch 60/100\n",
      "34/34 [==============================] - 0s 7ms/step - loss: 4380.7178 - mae: 4380.7178\n",
      "Epoch 61/100\n",
      "34/34 [==============================] - 0s 8ms/step - loss: 4285.9170 - mae: 4285.9170\n",
      "Epoch 62/100\n",
      "34/34 [==============================] - 0s 7ms/step - loss: 4185.4019 - mae: 4185.4019\n",
      "Epoch 63/100\n",
      "34/34 [==============================] - 0s 7ms/step - loss: 4096.7334 - mae: 4096.7334\n",
      "Epoch 64/100\n",
      "34/34 [==============================] - 0s 7ms/step - loss: 4005.7603 - mae: 4005.7603\n",
      "Epoch 65/100\n",
      "34/34 [==============================] - 0s 8ms/step - loss: 3934.7266 - mae: 3934.7266\n",
      "Epoch 66/100\n",
      "34/34 [==============================] - 0s 8ms/step - loss: 3875.0161 - mae: 3875.0161\n",
      "Epoch 67/100\n",
      "34/34 [==============================] - 0s 7ms/step - loss: 3818.9990 - mae: 3818.9990\n",
      "Epoch 68/100\n",
      "34/34 [==============================] - 0s 8ms/step - loss: 3770.9670 - mae: 3770.9670\n",
      "Epoch 69/100\n",
      "34/34 [==============================] - 0s 9ms/step - loss: 3746.0891 - mae: 3746.0891\n",
      "Epoch 70/100\n",
      "34/34 [==============================] - 0s 7ms/step - loss: 3703.7788 - mae: 3703.7788\n",
      "Epoch 71/100\n",
      "34/34 [==============================] - 0s 7ms/step - loss: 3685.9314 - mae: 3685.9314\n",
      "Epoch 72/100\n",
      "34/34 [==============================] - 0s 7ms/step - loss: 3664.4810 - mae: 3664.4810\n",
      "Epoch 73/100\n",
      "34/34 [==============================] - 0s 7ms/step - loss: 3642.0854 - mae: 3642.0854\n",
      "Epoch 74/100\n",
      "34/34 [==============================] - 0s 7ms/step - loss: 3631.9143 - mae: 3631.9143\n",
      "Epoch 75/100\n",
      "34/34 [==============================] - 0s 7ms/step - loss: 3609.9392 - mae: 3609.9392\n",
      "Epoch 76/100\n",
      "34/34 [==============================] - 0s 7ms/step - loss: 3603.8315 - mae: 3603.8315\n",
      "Epoch 77/100\n",
      "34/34 [==============================] - 0s 7ms/step - loss: 3588.2646 - mae: 3588.2646\n",
      "Epoch 78/100\n",
      "34/34 [==============================] - 0s 7ms/step - loss: 3577.9062 - mae: 3577.9062\n",
      "Epoch 79/100\n",
      "34/34 [==============================] - 0s 7ms/step - loss: 3571.4556 - mae: 3571.4556\n",
      "Epoch 80/100\n",
      "34/34 [==============================] - 0s 7ms/step - loss: 3561.0989 - mae: 3561.0989\n",
      "Epoch 81/100\n",
      "34/34 [==============================] - 0s 9ms/step - loss: 3550.2239 - mae: 3550.2239\n",
      "Epoch 82/100\n"
     ]
    },
    {
     "name": "stdout",
     "output_type": "stream",
     "text": [
      "34/34 [==============================] - 0s 7ms/step - loss: 3546.2639 - mae: 3546.2639\n",
      "Epoch 83/100\n",
      "34/34 [==============================] - 0s 7ms/step - loss: 3531.6187 - mae: 3531.6187\n",
      "Epoch 84/100\n",
      "34/34 [==============================] - 0s 7ms/step - loss: 3539.3694 - mae: 3539.3694\n",
      "Epoch 85/100\n",
      "34/34 [==============================] - 0s 7ms/step - loss: 3514.7634 - mae: 3514.7634\n",
      "Epoch 86/100\n",
      "34/34 [==============================] - 0s 7ms/step - loss: 3519.6130 - mae: 3519.6130\n",
      "Epoch 87/100\n",
      "34/34 [==============================] - 0s 7ms/step - loss: 3499.7197 - mae: 3499.7197\n",
      "Epoch 88/100\n",
      "34/34 [==============================] - 0s 7ms/step - loss: 3494.0278 - mae: 3494.0278\n",
      "Epoch 89/100\n",
      "34/34 [==============================] - 0s 7ms/step - loss: 3490.4917 - mae: 3490.4915\n",
      "Epoch 90/100\n",
      "34/34 [==============================] - 0s 7ms/step - loss: 3484.7502 - mae: 3484.7502\n",
      "Epoch 91/100\n",
      "34/34 [==============================] - 0s 7ms/step - loss: 3481.3521 - mae: 3481.3521\n",
      "Epoch 92/100\n",
      "34/34 [==============================] - 0s 8ms/step - loss: 3497.2371 - mae: 3497.2371\n",
      "Epoch 93/100\n",
      "34/34 [==============================] - 0s 7ms/step - loss: 3494.5857 - mae: 3494.5857\n",
      "Epoch 94/100\n",
      "34/34 [==============================] - 0s 7ms/step - loss: 3470.3237 - mae: 3470.3237\n",
      "Epoch 95/100\n",
      "34/34 [==============================] - 0s 7ms/step - loss: 3469.4927 - mae: 3469.4927\n",
      "Epoch 96/100\n",
      "34/34 [==============================] - 0s 7ms/step - loss: 3459.7773 - mae: 3459.7773\n",
      "Epoch 97/100\n",
      "34/34 [==============================] - 0s 7ms/step - loss: 3461.5005 - mae: 3461.5005\n",
      "Epoch 98/100\n",
      "34/34 [==============================] - 0s 7ms/step - loss: 3451.4143 - mae: 3451.4143\n",
      "Epoch 99/100\n",
      "34/34 [==============================] - 0s 7ms/step - loss: 3450.8291 - mae: 3450.8291\n",
      "Epoch 100/100\n",
      "34/34 [==============================] - 0s 7ms/step - loss: 3439.3940 - mae: 3439.3940\n"
     ]
    }
   ],
   "source": [
    "# Create the model a 3rd time\n",
    "insurance_model_3 = tf.keras.Sequential([\n",
    "    tf.keras.layers.Dense(100, activation=\"relu\"),\n",
    "    tf.keras.layers.Dense(1)\n",
    "])\n",
    "\n",
    "# compile the model\n",
    "insurance_model_3.compile(loss=tf.keras.losses.mae,\n",
    "                         optimizer=tf.keras.optimizers.Adam(learning_rate=.01),\n",
    "                         metrics=[\"mae\"])\n",
    "\n",
    "# fit the model\n",
    "history = insurance_model_3.fit(X_train, y_train, epochs=100)"
   ]
  },
  {
   "cell_type": "code",
   "execution_count": 86,
   "id": "d753f658",
   "metadata": {},
   "outputs": [
    {
     "data": {
      "text/plain": [
       "Text(0.5, 0, 'epochs')"
      ]
     },
     "execution_count": 86,
     "metadata": {},
     "output_type": "execute_result"
    },
    {
     "data": {
      "image/png": "[encoded data removed]",
      "text/plain": [
       "<Figure size 640x480 with 1 Axes>"
      ]
     },
     "metadata": {},
     "output_type": "display_data"
    }
   ],
   "source": [
    "# Plot history (also known as a loss curve or training curve)\n",
    "pd.DataFrame(history.history).plot()\n",
    "plt.ylabel(\"loss\")\n",
    "plt.xlabel(\"epochs\")"
   ]
  },
  {
   "cell_type": "markdown",
   "id": "dd8296e7",
   "metadata": {},
   "source": [
    "> How long should you train for?\n",
    "\n",
    "It depends... really.\n",
    "\n",
    "TensorFlow has a solution, [EarlyStopping](https://www.tensorflow.org/api_docs/python/tf/keras/callbacks/EarlyStopping) callback."
   ]
  },
  {
   "cell_type": "markdown",
   "id": "3c7e31a1",
   "metadata": {},
   "source": [
    "## Preprocessing data (normalization and standardization)\n",
    "\n",
    "In terms of scaling values, neural networks tend to prefer normalization\n",
    "\n",
    "If you're not sure which to use, try both."
   ]
  },
  {
   "cell_type": "code",
   "execution_count": 87,
   "id": "e7bcded9",
   "metadata": {},
   "outputs": [
    {
     "data": {
      "text/html": [
       "<div>\n",
       "<style scoped>\n",
       "    .dataframe tbody tr th:only-of-type {\n",
       "        vertical-align: middle;\n",
       "    }\n",
       "\n",
       "    .dataframe tbody tr th {\n",
       "        vertical-align: top;\n",
       "    }\n",
       "\n",
       "    .dataframe thead th {\n",
       "        text-align: right;\n",
       "    }\n",
       "</style>\n",
       "<table border=\"1\" class=\"dataframe\">\n",
       "  <thead>\n",
       "    <tr style=\"text-align: right;\">\n",
       "      <th></th>\n",
       "      <th>age</th>\n",
       "      <th>sex</th>\n",
       "      <th>bmi</th>\n",
       "      <th>children</th>\n",
       "      <th>smoker</th>\n",
       "      <th>region</th>\n",
       "      <th>charges</th>\n",
       "    </tr>\n",
       "  </thead>\n",
       "  <tbody>\n",
       "    <tr>\n",
       "      <th>0</th>\n",
       "      <td>19</td>\n",
       "      <td>female</td>\n",
       "      <td>27.900</td>\n",
       "      <td>0</td>\n",
       "      <td>yes</td>\n",
       "      <td>southwest</td>\n",
       "      <td>16884.92400</td>\n",
       "    </tr>\n",
       "    <tr>\n",
       "      <th>1</th>\n",
       "      <td>18</td>\n",
       "      <td>male</td>\n",
       "      <td>33.770</td>\n",
       "      <td>1</td>\n",
       "      <td>no</td>\n",
       "      <td>southeast</td>\n",
       "      <td>1725.55230</td>\n",
       "    </tr>\n",
       "    <tr>\n",
       "      <th>2</th>\n",
       "      <td>28</td>\n",
       "      <td>male</td>\n",
       "      <td>33.000</td>\n",
       "      <td>3</td>\n",
       "      <td>no</td>\n",
       "      <td>southeast</td>\n",
       "      <td>4449.46200</td>\n",
       "    </tr>\n",
       "    <tr>\n",
       "      <th>3</th>\n",
       "      <td>33</td>\n",
       "      <td>male</td>\n",
       "      <td>22.705</td>\n",
       "      <td>0</td>\n",
       "      <td>no</td>\n",
       "      <td>northwest</td>\n",
       "      <td>21984.47061</td>\n",
       "    </tr>\n",
       "    <tr>\n",
       "      <th>4</th>\n",
       "      <td>32</td>\n",
       "      <td>male</td>\n",
       "      <td>28.880</td>\n",
       "      <td>0</td>\n",
       "      <td>no</td>\n",
       "      <td>northwest</td>\n",
       "      <td>3866.85520</td>\n",
       "    </tr>\n",
       "  </tbody>\n",
       "</table>\n",
       "</div>"
      ],
      "text/plain": [
       "   age     sex     bmi  children smoker     region      charges\n",
       "0   19  female  27.900         0    yes  southwest  16884.92400\n",
       "1   18    male  33.770         1     no  southeast   1725.55230\n",
       "2   28    male  33.000         3     no  southeast   4449.46200\n",
       "3   33    male  22.705         0     no  northwest  21984.47061\n",
       "4   32    male  28.880         0     no  northwest   3866.85520"
      ]
     },
     "execution_count": 87,
     "metadata": {},
     "output_type": "execute_result"
    }
   ],
   "source": [
    "import pandas as pd\n",
    "import matplotlib.pyplot as plt\n",
    "import tensorflow as tf\n",
    "\n",
    "# Read in dataframe\n",
    "insurance = pd.read_csv(\"data/insurance.csv\")\n",
    "\n",
    "insurance.head()"
   ]
  },
  {
   "cell_type": "markdown",
   "id": "b797d204",
   "metadata": {},
   "source": [
    "To prepare our data, we'll use some sklearn."
   ]
  },
  {
   "cell_type": "code",
   "execution_count": 89,
   "id": "691bbf1f",
   "metadata": {},
   "outputs": [],
   "source": [
    "from sklearn.compose import make_column_transformer\n",
    "from sklearn.preprocessing import MinMaxScaler, OneHotEncoder\n",
    "from sklearn.model_selection import train_test_split\n",
    "\n",
    "# Create a column transformer\n",
    "# Passing in classes designed for transformation\n",
    "# MinMaxScaler provides a means of keeping the distribution or spread of data but normalizing the values between 0 and 1\n",
    "# OneHotEncoding converts text values into numeric values by expanding columns and using binary values to indicate if it is or isn't\n",
    "ct = make_column_transformer(\n",
    "    (MinMaxScaler(), [\"age\", \"bmi\", \"children\"]), # normalize values in these columns between 0 and 1 but keep distribution\n",
    "    (OneHotEncoder(handle_unknown=\"ignore\"), [\"sex\", \"smoker\", \"region\"])\n",
    ")\n",
    "\n",
    "# Create X & y\n",
    "X = insurance.drop(\"charges\", axis=1)\n",
    "y = insurance[\"charges\"]\n",
    "\n",
    "# create dataset splits\n",
    "X_train, X_test, y_train, y_test = train_test_split(X, y, test_size=0.2, random_state=42)\n",
    "\n",
    "# Fit the column transformer to our training data\n",
    "ct.fit(X_train)\n",
    "\n",
    "# Transform training and test data with normalization (MinMaxScaler) and OneHotEncoder\n",
    "X_train_normal = ct.transform(X_train)\n",
    "X_test_normal = ct.transform(X_test)"
   ]
  },
  {
   "cell_type": "code",
   "execution_count": 91,
   "id": "1be0034e",
   "metadata": {},
   "outputs": [
    {
     "data": {
      "text/plain": [
       "array([0.60869565, 0.10734463, 0.4       , 1.        , 0.        ,\n",
       "       1.        , 0.        , 0.        , 1.        , 0.        ,\n",
       "       0.        ])"
      ]
     },
     "execution_count": 91,
     "metadata": {},
     "output_type": "execute_result"
    }
   ],
   "source": [
    "# look at data\n",
    "X_train_normal[0]"
   ]
  },
  {
   "cell_type": "markdown",
   "id": "c9901c92",
   "metadata": {},
   "source": [
    "Data is normalized and one hot encoded.\n",
    "\n",
    "Build a NN..."
   ]
  },
  {
   "cell_type": "code",
   "execution_count": 94,
   "id": "acacf887",
   "metadata": {},
   "outputs": [
    {
     "name": "stdout",
     "output_type": "stream",
     "text": [
      "Epoch 1/100\n",
      "34/34 [==============================] - 1s 11ms/step - loss: 13243.0137 - mae: 13243.0137\n",
      "Epoch 2/100\n",
      "34/34 [==============================] - 0s 6ms/step - loss: 11561.7305 - mae: 11561.7305\n",
      "Epoch 3/100\n",
      "34/34 [==============================] - 0s 6ms/step - loss: 8190.6948 - mae: 8190.6948\n",
      "Epoch 4/100\n",
      "34/34 [==============================] - 0s 6ms/step - loss: 7603.6523 - mae: 7603.6523\n",
      "Epoch 5/100\n",
      "34/34 [==============================] - 0s 6ms/step - loss: 7117.8115 - mae: 7117.8115\n",
      "Epoch 6/100\n",
      "34/34 [==============================] - 0s 6ms/step - loss: 6528.1455 - mae: 6528.1455\n",
      "Epoch 7/100\n",
      "34/34 [==============================] - 0s 6ms/step - loss: 5620.5269 - mae: 5620.5269\n",
      "Epoch 8/100\n",
      "34/34 [==============================] - 0s 6ms/step - loss: 4467.2192 - mae: 4467.2192\n",
      "Epoch 9/100\n",
      "34/34 [==============================] - 0s 7ms/step - loss: 3754.7573 - mae: 3754.7573\n",
      "Epoch 10/100\n",
      "34/34 [==============================] - 0s 8ms/step - loss: 3675.2217 - mae: 3675.2217\n",
      "Epoch 11/100\n",
      "34/34 [==============================] - 0s 8ms/step - loss: 3669.1826 - mae: 3669.1826\n",
      "Epoch 12/100\n",
      "34/34 [==============================] - 0s 8ms/step - loss: 3627.4880 - mae: 3627.4880\n",
      "Epoch 13/100\n",
      "34/34 [==============================] - 0s 8ms/step - loss: 3608.1562 - mae: 3608.1562\n",
      "Epoch 14/100\n",
      "34/34 [==============================] - 0s 8ms/step - loss: 3609.6072 - mae: 3609.6072\n",
      "Epoch 15/100\n",
      "34/34 [==============================] - 0s 8ms/step - loss: 3584.4944 - mae: 3584.4944\n",
      "Epoch 16/100\n",
      "34/34 [==============================] - 0s 8ms/step - loss: 3573.5940 - mae: 3573.5940\n",
      "Epoch 17/100\n",
      "34/34 [==============================] - 0s 8ms/step - loss: 3576.7505 - mae: 3576.7505\n",
      "Epoch 18/100\n",
      "34/34 [==============================] - 0s 8ms/step - loss: 3535.9084 - mae: 3535.9084\n",
      "Epoch 19/100\n",
      "34/34 [==============================] - 0s 8ms/step - loss: 3548.0291 - mae: 3548.0291\n",
      "Epoch 20/100\n",
      "34/34 [==============================] - 0s 8ms/step - loss: 3520.3547 - mae: 3520.3547\n",
      "Epoch 21/100\n",
      "34/34 [==============================] - 0s 8ms/step - loss: 3501.4778 - mae: 3501.4778\n",
      "Epoch 22/100\n",
      "34/34 [==============================] - 0s 8ms/step - loss: 3492.7903 - mae: 3492.7903\n",
      "Epoch 23/100\n",
      "34/34 [==============================] - 0s 8ms/step - loss: 3499.7781 - mae: 3499.7781\n",
      "Epoch 24/100\n",
      "34/34 [==============================] - 0s 9ms/step - loss: 3493.1772 - mae: 3493.1772\n",
      "Epoch 25/100\n",
      "34/34 [==============================] - 0s 8ms/step - loss: 3534.1279 - mae: 3534.1279\n",
      "Epoch 26/100\n",
      "34/34 [==============================] - 0s 9ms/step - loss: 3486.5920 - mae: 3486.5920\n",
      "Epoch 27/100\n",
      "34/34 [==============================] - 0s 8ms/step - loss: 3492.8572 - mae: 3492.8572\n",
      "Epoch 28/100\n",
      "34/34 [==============================] - 0s 9ms/step - loss: 3510.8816 - mae: 3510.8816\n",
      "Epoch 29/100\n",
      "34/34 [==============================] - 0s 8ms/step - loss: 3509.6619 - mae: 3509.6619\n",
      "Epoch 30/100\n",
      "34/34 [==============================] - 0s 8ms/step - loss: 3511.2170 - mae: 3511.2170\n",
      "Epoch 31/100\n",
      "34/34 [==============================] - 0s 8ms/step - loss: 3503.2610 - mae: 3503.2610\n",
      "Epoch 32/100\n",
      "34/34 [==============================] - 0s 8ms/step - loss: 3509.0896 - mae: 3509.0896\n",
      "Epoch 33/100\n",
      "34/34 [==============================] - 0s 8ms/step - loss: 3504.0132 - mae: 3504.0132\n",
      "Epoch 34/100\n",
      "34/34 [==============================] - 0s 8ms/step - loss: 3486.4038 - mae: 3486.4038\n",
      "Epoch 35/100\n",
      "34/34 [==============================] - 0s 8ms/step - loss: 3493.0005 - mae: 3493.0005\n",
      "Epoch 36/100\n",
      "34/34 [==============================] - 0s 8ms/step - loss: 3508.4702 - mae: 3508.4702\n",
      "Epoch 37/100\n",
      "34/34 [==============================] - 0s 8ms/step - loss: 3493.1746 - mae: 3493.1746\n",
      "Epoch 38/100\n",
      "34/34 [==============================] - 0s 8ms/step - loss: 3504.4082 - mae: 3504.4082\n",
      "Epoch 39/100\n",
      "34/34 [==============================] - 0s 8ms/step - loss: 3491.3210 - mae: 3491.3210\n",
      "Epoch 40/100\n",
      "34/34 [==============================] - 0s 8ms/step - loss: 3528.0273 - mae: 3528.0273\n",
      "Epoch 41/100\n",
      "34/34 [==============================] - 0s 8ms/step - loss: 3508.3162 - mae: 3508.3162\n",
      "Epoch 42/100\n",
      "34/34 [==============================] - 0s 8ms/step - loss: 3498.2026 - mae: 3498.2026\n",
      "Epoch 43/100\n",
      "34/34 [==============================] - 0s 8ms/step - loss: 3496.0667 - mae: 3496.0667\n",
      "Epoch 44/100\n",
      "34/34 [==============================] - 0s 8ms/step - loss: 3487.2617 - mae: 3487.2617\n",
      "Epoch 45/100\n",
      "34/34 [==============================] - 0s 8ms/step - loss: 3481.6162 - mae: 3481.6162\n",
      "Epoch 46/100\n",
      "34/34 [==============================] - 0s 8ms/step - loss: 3492.1685 - mae: 3492.1685\n",
      "Epoch 47/100\n",
      "34/34 [==============================] - 0s 8ms/step - loss: 3497.6157 - mae: 3497.6157\n",
      "Epoch 48/100\n",
      "34/34 [==============================] - 0s 9ms/step - loss: 3490.3479 - mae: 3490.3479\n",
      "Epoch 49/100\n",
      "34/34 [==============================] - 0s 8ms/step - loss: 3501.1455 - mae: 3501.1455\n",
      "Epoch 50/100\n",
      "34/34 [==============================] - 0s 9ms/step - loss: 3504.4834 - mae: 3504.4834\n",
      "Epoch 51/100\n",
      "34/34 [==============================] - 0s 7ms/step - loss: 3485.6719 - mae: 3485.6719\n",
      "Epoch 52/100\n",
      "34/34 [==============================] - 0s 7ms/step - loss: 3490.5598 - mae: 3490.5598\n",
      "Epoch 53/100\n",
      "34/34 [==============================] - 0s 7ms/step - loss: 3490.0647 - mae: 3490.0647\n",
      "Epoch 54/100\n",
      "34/34 [==============================] - 0s 7ms/step - loss: 3507.8032 - mae: 3507.8032\n",
      "Epoch 55/100\n",
      "34/34 [==============================] - 0s 7ms/step - loss: 3517.1919 - mae: 3517.1919\n",
      "Epoch 56/100\n",
      "34/34 [==============================] - 0s 7ms/step - loss: 3487.0632 - mae: 3487.0632\n",
      "Epoch 57/100\n",
      "34/34 [==============================] - 0s 7ms/step - loss: 3492.8701 - mae: 3492.8701\n",
      "Epoch 58/100\n",
      "34/34 [==============================] - 0s 7ms/step - loss: 3483.8481 - mae: 3483.8481\n",
      "Epoch 59/100\n",
      "34/34 [==============================] - 0s 8ms/step - loss: 3488.4246 - mae: 3488.4246\n",
      "Epoch 60/100\n",
      "34/34 [==============================] - 0s 8ms/step - loss: 3493.2031 - mae: 3493.2031\n",
      "Epoch 61/100\n",
      "34/34 [==============================] - 0s 8ms/step - loss: 3501.7483 - mae: 3501.7483\n",
      "Epoch 62/100\n",
      "34/34 [==============================] - 0s 8ms/step - loss: 3496.6670 - mae: 3496.6670\n",
      "Epoch 63/100\n",
      "34/34 [==============================] - 0s 8ms/step - loss: 3486.8594 - mae: 3486.8594\n",
      "Epoch 64/100\n",
      "34/34 [==============================] - 0s 9ms/step - loss: 3492.7456 - mae: 3492.7456\n",
      "Epoch 65/100\n",
      "34/34 [==============================] - 0s 8ms/step - loss: 3481.3770 - mae: 3481.3770\n",
      "Epoch 66/100\n",
      "34/34 [==============================] - 0s 8ms/step - loss: 3498.2871 - mae: 3498.2871\n",
      "Epoch 67/100\n",
      "34/34 [==============================] - 0s 8ms/step - loss: 3491.1116 - mae: 3491.1116\n",
      "Epoch 68/100\n",
      "34/34 [==============================] - 0s 8ms/step - loss: 3490.9890 - mae: 3490.9890\n",
      "Epoch 69/100\n",
      "34/34 [==============================] - 0s 8ms/step - loss: 3485.1780 - mae: 3485.1780\n",
      "Epoch 70/100\n",
      "34/34 [==============================] - 0s 8ms/step - loss: 3490.1877 - mae: 3490.1877\n",
      "Epoch 71/100\n",
      "34/34 [==============================] - 0s 8ms/step - loss: 3488.4333 - mae: 3488.4333\n",
      "Epoch 72/100\n",
      "34/34 [==============================] - 0s 8ms/step - loss: 3488.9602 - mae: 3488.9602\n",
      "Epoch 73/100\n",
      "34/34 [==============================] - 0s 8ms/step - loss: 3502.5911 - mae: 3502.5911\n",
      "Epoch 74/100\n",
      "34/34 [==============================] - 0s 8ms/step - loss: 3498.0847 - mae: 3498.0847\n",
      "Epoch 75/100\n",
      "34/34 [==============================] - 0s 8ms/step - loss: 3481.8391 - mae: 3481.8391\n",
      "Epoch 76/100\n",
      "34/34 [==============================] - 0s 8ms/step - loss: 3496.9988 - mae: 3496.9988\n",
      "Epoch 77/100\n",
      "34/34 [==============================] - 0s 8ms/step - loss: 3485.8787 - mae: 3485.8787\n",
      "Epoch 78/100\n",
      "34/34 [==============================] - 0s 8ms/step - loss: 3487.6741 - mae: 3487.6741\n",
      "Epoch 79/100\n",
      "34/34 [==============================] - 0s 8ms/step - loss: 3494.7671 - mae: 3494.7671\n",
      "Epoch 80/100\n",
      "34/34 [==============================] - 0s 9ms/step - loss: 3501.9646 - mae: 3501.9646\n",
      "Epoch 81/100\n",
      "34/34 [==============================] - 0s 8ms/step - loss: 3495.6975 - mae: 3495.6975\n",
      "Epoch 82/100\n"
     ]
    },
    {
     "name": "stdout",
     "output_type": "stream",
     "text": [
      "34/34 [==============================] - 0s 9ms/step - loss: 3493.3577 - mae: 3493.3577\n",
      "Epoch 83/100\n",
      "34/34 [==============================] - 0s 8ms/step - loss: 3494.6904 - mae: 3494.6904\n",
      "Epoch 84/100\n",
      "34/34 [==============================] - 0s 8ms/step - loss: 3498.8044 - mae: 3498.8044\n",
      "Epoch 85/100\n",
      "34/34 [==============================] - 0s 8ms/step - loss: 3482.2119 - mae: 3482.2119\n",
      "Epoch 86/100\n",
      "34/34 [==============================] - 0s 8ms/step - loss: 3485.2654 - mae: 3485.2654\n",
      "Epoch 87/100\n",
      "34/34 [==============================] - 0s 8ms/step - loss: 3487.7688 - mae: 3487.7688\n",
      "Epoch 88/100\n",
      "34/34 [==============================] - 0s 8ms/step - loss: 3485.1741 - mae: 3485.1741\n",
      "Epoch 89/100\n",
      "34/34 [==============================] - 0s 9ms/step - loss: 3497.6448 - mae: 3497.6448\n",
      "Epoch 90/100\n",
      "34/34 [==============================] - 0s 8ms/step - loss: 3492.0601 - mae: 3492.0601\n",
      "Epoch 91/100\n",
      "34/34 [==============================] - 0s 8ms/step - loss: 3487.4607 - mae: 3487.4607\n",
      "Epoch 92/100\n",
      "34/34 [==============================] - 0s 8ms/step - loss: 3495.3093 - mae: 3495.3093\n",
      "Epoch 93/100\n",
      "34/34 [==============================] - 0s 8ms/step - loss: 3493.3669 - mae: 3493.3669\n",
      "Epoch 94/100\n",
      "34/34 [==============================] - 0s 8ms/step - loss: 3488.6951 - mae: 3488.6951\n",
      "Epoch 95/100\n",
      "34/34 [==============================] - 0s 8ms/step - loss: 3489.5056 - mae: 3489.5056\n",
      "Epoch 96/100\n",
      "34/34 [==============================] - 0s 8ms/step - loss: 3490.5693 - mae: 3490.5693\n",
      "Epoch 97/100\n",
      "34/34 [==============================] - 0s 8ms/step - loss: 3508.1140 - mae: 3508.1140\n",
      "Epoch 98/100\n",
      "34/34 [==============================] - 0s 8ms/step - loss: 3484.0586 - mae: 3484.0586\n",
      "Epoch 99/100\n",
      "34/34 [==============================] - 0s 8ms/step - loss: 3511.9158 - mae: 3511.9158\n",
      "Epoch 100/100\n",
      "34/34 [==============================] - 0s 8ms/step - loss: 3506.7664 - mae: 3506.7664\n"
     ]
    },
    {
     "data": {
      "text/plain": [
       "<keras.callbacks.History at 0x7f75804dd5a0>"
      ]
     },
     "execution_count": 94,
     "metadata": {},
     "output_type": "execute_result"
    }
   ],
   "source": [
    "# Set the random seed\n",
    "tf.random.set_seed(42)\n",
    "\n",
    "# 1. Build the model\n",
    "insurance_model_4 = tf.keras.Sequential([\n",
    "    tf.keras.layers.Dense(100),\n",
    "    tf.keras.layers.Dense(10),\n",
    "    tf.keras.layers.Dense(1)\n",
    "])\n",
    "\n",
    "# 2. Compile the model\n",
    "insurance_model_4.compile(loss=tf.keras.losses.mae,\n",
    "                         optimizer=tf.keras.optimizers.Adam(learning_rate=.01),\n",
    "                         metrics=[\"mae\"])\n",
    "\n",
    "# 3. Fit the model\n",
    "insurance_model_4.fit(X_train_normal, y_train, epochs=100)"
   ]
  },
  {
   "cell_type": "code",
   "execution_count": 98,
   "id": "a05c43e1",
   "metadata": {},
   "outputs": [
    {
     "name": "stdout",
     "output_type": "stream",
     "text": [
      "9/9 [==============================] - 0s 6ms/step - loss: 3185.2747 - mae: 3185.2747\n"
     ]
    },
    {
     "data": {
      "text/plain": [
       "[3185.274658203125, 3185.274658203125]"
      ]
     },
     "execution_count": 98,
     "metadata": {},
     "output_type": "execute_result"
    }
   ],
   "source": [
    "# Evaluate our insurance model\n",
    "insurance_model_4.evaluate(X_test_normal, y_test)"
   ]
  },
  {
   "cell_type": "code",
   "execution_count": null,
   "id": "1d7eb357",
   "metadata": {},
   "outputs": [],
   "source": []
  }
 ],
 "metadata": {
  "kernelspec": {
   "display_name": "Python 3 (ipykernel)",
   "language": "python",
   "name": "python3"
  },
  "language_info": {
   "codemirror_mode": {
    "name": "ipython",
    "version": 3
   },
   "file_extension": ".py",
   "mimetype": "text/x-python",
   "name": "python",
   "nbconvert_exporter": "python",
   "pygments_lexer": "ipython3",
   "version": "3.10.8"
  }
 },
 "nbformat": 4,
 "nbformat_minor": 5
}
